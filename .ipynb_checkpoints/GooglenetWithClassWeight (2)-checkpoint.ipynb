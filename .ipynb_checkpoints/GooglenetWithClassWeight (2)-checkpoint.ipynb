{
 "cells": [
  {
   "cell_type": "code",
   "execution_count": 1,
   "id": "developmental-photograph",
   "metadata": {},
   "outputs": [
    {
     "name": "stdout",
     "output_type": "stream",
     "text": [
      "[name: \"/device:CPU:0\"\n",
      "device_type: \"CPU\"\n",
      "memory_limit: 268435456\n",
      "locality {\n",
      "}\n",
      "incarnation: 15864294924906708950\n",
      ", name: \"/device:GPU:0\"\n",
      "device_type: \"GPU\"\n",
      "memory_limit: 5726273536\n",
      "locality {\n",
      "  bus_id: 1\n",
      "  links {\n",
      "  }\n",
      "}\n",
      "incarnation: 4143765958850736576\n",
      "physical_device_desc: \"device: 0, name: NVIDIA GeForce RTX 3070, pci bus id: 0000:2b:00.0, compute capability: 8.6\"\n",
      "]\n"
     ]
    }
   ],
   "source": [
    "from tensorflow.python.client import device_lib\n",
    "print(device_lib.list_local_devices())"
   ]
  },
  {
   "cell_type": "code",
   "execution_count": 2,
   "id": "smoking-content",
   "metadata": {},
   "outputs": [],
   "source": [
    "import pandas as pd\n",
    "import numpy as np\n",
    "import tensorflow as tf\n",
    "import os\n",
    "import cv2\n",
    "import glob\n",
    "from sklearn.model_selection import train_test_split\n",
    "from sklearn.preprocessing import LabelEncoder\n",
    "from sklearn.utils import class_weight\n",
    "from tensorflow.keras.applications import InceptionV3\n",
    "from tensorflow.keras.layers import Dense, Flatten, Dropout\n",
    "from tensorflow.keras.models import Model\n",
    "from tensorflow.keras.optimizers import Adam\n",
    "import matplotlib.pyplot as plt"
   ]
  },
  {
   "cell_type": "code",
   "execution_count": 3,
   "id": "isolated-travel",
   "metadata": {},
   "outputs": [
    {
     "name": "stdout",
     "output_type": "stream",
     "text": [
      "size of train_df: 5911\n",
      "Found 5320 validated image filenames belonging to 50 classes.\n",
      "Found 591 validated image filenames belonging to 50 classes.\n"
     ]
    }
   ],
   "source": [
    "from tensorflow.keras.preprocessing.image import ImageDataGenerator\n",
    "\n",
    "train_df = pd.read_csv('./train.csv')\n",
    "print(\"size of train_df:\", len(train_df))\n",
    "\n",
    "# 데이터 노이즈 수정\n",
    "train_df.loc[train_df['id'] == 3896, 'artist'] = 'Titian'\n",
    "train_df.loc[train_df['id'] == 3986, 'artist'] = 'Alfred Sisley'\n",
    "\n",
    "DATAGEN_TRAIN = ImageDataGenerator(\n",
    "    rescale=1./255,\n",
    "    rotation_range=20,\n",
    "    width_shift_range=0.2,\n",
    "    height_shift_range=0.2,\n",
    "    shear_range=0.2,\n",
    "    zoom_range=0.2,\n",
    "    horizontal_flip=True,\n",
    "    vertical_flip=True,\n",
    "    data_format=\"channels_last\",\n",
    "    validation_split=0.10\n",
    ") # Train / Validation\n",
    "\n",
    "TRAIN_GENERATOR = DATAGEN_TRAIN.flow_from_dataframe(\n",
    "    dataframe=train_df,\n",
    "    x_col='img_path',\n",
    "    y_col='artist',\n",
    "    target_size=(244, 244),\n",
    "    class_mode='categorical',\n",
    "    batch_size=32,\n",
    "    shuffle=True,\n",
    "    subset=\"training\"\n",
    ")\n",
    "\n",
    "VALID_GENERATOR = DATAGEN_TRAIN.flow_from_dataframe(\n",
    "    dataframe=train_df,\n",
    "    x_col='img_path',\n",
    "    y_col='artist',\n",
    "    target_size=(244, 244),\n",
    "    class_mode='categorical',\n",
    "    batch_size=32,\n",
    "    shuffle=True,\n",
    "    subset=\"validation\"\n",
    ")"
   ]
  },
  {
   "cell_type": "code",
   "execution_count": 4,
   "id": "regional-recovery",
   "metadata": {},
   "outputs": [
    {
     "data": {
      "text/plain": [
       "Vincent van Gogh             629\n",
       "Edgar Degas                  490\n",
       "Pablo Picasso                303\n",
       "Pierre-Auguste Renoir        233\n",
       "Albrecht Du rer              220\n",
       "Paul Gauguin                 220\n",
       "Francisco Goya               204\n",
       "Rembrandt                    181\n",
       "Titian                       173\n",
       "Marc Chagall                 173\n",
       "Alfred Sisley                164\n",
       "Paul Klee                    142\n",
       "Rene Magritte                137\n",
       "Amedeo Modigliani            132\n",
       "Andy Warhol                  132\n",
       "Henri Matisse                121\n",
       "Sandro Botticelli            120\n",
       "Mikhail Vrubel               118\n",
       "Hieronymus Bosch             115\n",
       "Leonardo da Vinci            101\n",
       "Salvador Dali                 99\n",
       "Peter Paul Rubens             97\n",
       "Kazimir Malevich              91\n",
       "Pieter Bruegel                85\n",
       "Frida Kahlo                   84\n",
       "Diego Velazquez               81\n",
       "Joan Miro                     76\n",
       "Andrei Rublev                 74\n",
       "Raphael                       73\n",
       "Giotto di Bondone             72\n",
       "Gustav Klimt                  69\n",
       "El Greco                      65\n",
       "Camille Pissarro              64\n",
       "Jan van Eyck                  64\n",
       "Edouard Manet                 62\n",
       "Henri de Toulouse-Lautrec     61\n",
       "Vasiliy Kandinskiy            60\n",
       "Claude Monet                  59\n",
       "Piet Mondrian                 59\n",
       "Henri Rousseau                52\n",
       "Diego Rivera                  50\n",
       "Edvard Munch                  44\n",
       "William Turner                44\n",
       "Gustave Courbet               42\n",
       "Michelangelo                  34\n",
       "Paul Cezanne                  33\n",
       "Caravaggio                    32\n",
       "Georges Seurat                30\n",
       "Eugene Delacroix              26\n",
       "Jackson Pollock               21\n",
       "Name: artist, dtype: int64"
      ]
     },
     "metadata": {},
     "output_type": "display_data"
    }
   ],
   "source": [
    "df = train_df.copy()\n",
    "df['artist'].apply(lambda s: str(s).split('|'))\n",
    "label_freq = df['artist'].apply(lambda s: str(s).split('|')).explode().value_counts().sort_values(ascending=False)\n",
    "display(label_freq)"
   ]
  },
  {
   "cell_type": "code",
   "execution_count": 5,
   "id": "pacific-studio",
   "metadata": {},
   "outputs": [
    {
     "data": {
      "text/plain": [
       "{0: 0.5373636363636364,\n",
       " 1: 0.7208536585365853,\n",
       " 2: 0.8956060606060606,\n",
       " 3: 1.5975675675675676,\n",
       " 4: 0.8956060606060606,\n",
       " 5: 1.8471875,\n",
       " 6: 3.694375,\n",
       " 7: 2.003728813559322,\n",
       " 8: 2.3644,\n",
       " 9: 1.4595061728395062,\n",
       " 10: 0.24126530612244898,\n",
       " 11: 1.906774193548387,\n",
       " 12: 2.686818181818182,\n",
       " 13: 1.8187692307692307,\n",
       " 14: 4.546923076923077,\n",
       " 15: 0.5795098039215686,\n",
       " 16: 1.4073809523809524,\n",
       " 17: 3.9406666666666665,\n",
       " 18: 1.6419444444444444,\n",
       " 19: 1.7133333333333334,\n",
       " 20: 2.814761904761905,\n",
       " 21: 0.9770247933884297,\n",
       " 22: 2.2734615384615386,\n",
       " 23: 1.9380327868852458,\n",
       " 24: 1.028,\n",
       " 25: 5.62952380952381,\n",
       " 26: 1.8471875,\n",
       " 27: 1.5555263157894736,\n",
       " 28: 1.299120879120879,\n",
       " 29: 1.1704950495049504,\n",
       " 30: 0.6833526011560693,\n",
       " 31: 3.4770588235294118,\n",
       " 32: 1.001864406779661,\n",
       " 33: 0.39016501650165014,\n",
       " 34: 3.5824242424242425,\n",
       " 35: 0.5373636363636364,\n",
       " 36: 0.8325352112676057,\n",
       " 37: 1.218762886597938,\n",
       " 38: 0.5073819742489271,\n",
       " 39: 2.003728813559322,\n",
       " 40: 1.3908235294117648,\n",
       " 41: 1.6194520547945206,\n",
       " 42: 0.6531491712707183,\n",
       " 43: 0.862919708029197,\n",
       " 44: 1.1941414141414142,\n",
       " 45: 0.9851666666666666,\n",
       " 46: 0.6833526011560693,\n",
       " 47: 1.9703333333333333,\n",
       " 48: 0.18794912559618443,\n",
       " 49: 2.686818181818182}"
      ]
     },
     "execution_count": 5,
     "metadata": {},
     "output_type": "execute_result"
    }
   ],
   "source": [
    "artist_df = df.copy()\n",
    "label_encoder = LabelEncoder()\n",
    "labels_encoded = label_encoder.fit_transform(df['artist'].values)\n",
    "class_weights = class_weight.compute_class_weight('balanced', classes=np.unique(labels_encoded), y=labels_encoded)\n",
    "class_weights_dic = {i: class_weights[i] for i in range(len(class_weights))}\n",
    "class_weights_dic"
   ]
  },
  {
   "cell_type": "code",
   "execution_count": 6,
   "id": "included-motorcycle",
   "metadata": {},
   "outputs": [],
   "source": [
    "# ResNet50 모델 로드\n",
    "base_model = InceptionV3(weights='imagenet', include_top=False, input_shape=(244, 244, 3), pooling=None, input_tensor=None)\n",
    "\n",
    "# 새로운 Fully Connected Layer 추가\n",
    "x = base_model.output\n",
    "x = Flatten()(x)\n",
    "x = Dropout(0.2)(x) # 드롭아웃 추가\n",
    "predictions = Dense(50, activation='softmax')(x)\n",
    "\n",
    "#전체 모델 구성\n",
    "model = Model(inputs=base_model.input, outputs=predictions)\n",
    "\n",
    "# 모델 컴파일\n",
    "model.compile(optimizer=Adam(learning_rate=3e-4), loss='categorical_crossentropy', metrics=['accuracy'])"
   ]
  },
  {
   "cell_type": "code",
   "execution_count": 7,
   "id": "constitutional-honey",
   "metadata": {},
   "outputs": [],
   "source": [
    "from tensorflow.keras.callbacks import ModelCheckpoint, ReduceLROnPlateau\n",
    "CP = ModelCheckpoint(filepath='googlenet_model/' + 'GOOGLENET-Sigmoid-{epoch:03d}-{accuracy:.4f}-{val_loss:.4f}.hdf5',\n",
    "                     monitor='val_loss', verbose=1, save_best_only=True, mode='min'\n",
    ")\n",
    "\n",
    "LR = ReduceLROnPlateau(monitor='val_loss', factor=0.5, patience=5, verbose=1, min_lr=0.00005)\n",
    "CALLBACK = [CP, LR]"
   ]
  },
  {
   "cell_type": "code",
   "execution_count": 8,
   "id": "directed-realtor",
   "metadata": {
    "scrolled": false
   },
   "outputs": [
    {
     "name": "stdout",
     "output_type": "stream",
     "text": [
      "WARNING:tensorflow:From C:\\Users\\User\\AppData\\Roaming\\Python\\Python37\\site-packages\\tensorflow\\python\\ops\\array_ops.py:5049: calling gather (from tensorflow.python.ops.array_ops) with validate_indices is deprecated and will be removed in a future version.\n",
      "Instructions for updating:\n",
      "The `validate_indices` argument has no effect. Indices are always validated on CPU and never validated on GPU.\n",
      "Epoch 1/50\n",
      "167/167 [==============================] - 83s 456ms/step - loss: 3.7376 - accuracy: 0.1432 - val_loss: 3.2433 - val_accuracy: 0.1540\n",
      "Epoch 2/50\n",
      "167/167 [==============================] - 60s 362ms/step - loss: 2.3029 - accuracy: 0.3583 - val_loss: 2.8862 - val_accuracy: 0.2775\n",
      "Epoch 3/50\n",
      "167/167 [==============================] - 60s 360ms/step - loss: 1.8146 - accuracy: 0.4492 - val_loss: 2.3650 - val_accuracy: 0.3773\n",
      "Epoch 4/50\n",
      "167/167 [==============================] - 60s 360ms/step - loss: 1.6172 - accuracy: 0.4880 - val_loss: 3.5244 - val_accuracy: 0.2369\n",
      "Epoch 5/50\n",
      "167/167 [==============================] - 61s 362ms/step - loss: 1.4213 - accuracy: 0.5276 - val_loss: 11.4808 - val_accuracy: 0.2944\n",
      "Epoch 6/50\n",
      "167/167 [==============================] - 60s 361ms/step - loss: 1.1293 - accuracy: 0.5962 - val_loss: 2.1886 - val_accuracy: 0.4518\n",
      "Epoch 7/50\n",
      "167/167 [==============================] - 60s 360ms/step - loss: 1.0450 - accuracy: 0.6333 - val_loss: 2.7544 - val_accuracy: 0.3655\n",
      "Epoch 8/50\n",
      "167/167 [==============================] - 60s 360ms/step - loss: 0.8835 - accuracy: 0.6720 - val_loss: 2.3686 - val_accuracy: 0.4518\n",
      "Epoch 9/50\n",
      "167/167 [==============================] - 60s 359ms/step - loss: 0.7702 - accuracy: 0.7111 - val_loss: 2.4942 - val_accuracy: 0.4146\n",
      "Epoch 10/50\n",
      "167/167 [==============================] - 60s 360ms/step - loss: 1.2369 - accuracy: 0.5932 - val_loss: 2.5546 - val_accuracy: 0.4196\n",
      "Epoch 11/50\n",
      "167/167 [==============================] - 60s 360ms/step - loss: 0.8377 - accuracy: 0.6923 - val_loss: 2.1206 - val_accuracy: 0.5245\n",
      "Epoch 12/50\n",
      "167/167 [==============================] - 60s 359ms/step - loss: 0.9314 - accuracy: 0.6662 - val_loss: 2.3243 - val_accuracy: 0.4687\n",
      "Epoch 13/50\n",
      "167/167 [==============================] - 60s 359ms/step - loss: 0.6801 - accuracy: 0.7186 - val_loss: 2.0926 - val_accuracy: 0.5347\n",
      "Epoch 14/50\n",
      "167/167 [==============================] - 62s 372ms/step - loss: 0.6342 - accuracy: 0.7487 - val_loss: 2.2075 - val_accuracy: 0.5245\n",
      "Epoch 15/50\n",
      "167/167 [==============================] - 64s 382ms/step - loss: 0.5880 - accuracy: 0.7611 - val_loss: 3.0333 - val_accuracy: 0.4704\n",
      "Epoch 16/50\n",
      "167/167 [==============================] - 62s 368ms/step - loss: 0.5439 - accuracy: 0.7639 - val_loss: 2.3626 - val_accuracy: 0.4907\n",
      "Epoch 17/50\n",
      "167/167 [==============================] - 61s 366ms/step - loss: 0.5198 - accuracy: 0.7919 - val_loss: 2.1716 - val_accuracy: 0.5195\n",
      "Epoch 18/50\n",
      "167/167 [==============================] - 62s 372ms/step - loss: 0.4500 - accuracy: 0.8038 - val_loss: 2.5959 - val_accuracy: 0.4788\n",
      "Epoch 19/50\n",
      "167/167 [==============================] - 61s 367ms/step - loss: 0.4369 - accuracy: 0.8070 - val_loss: 2.4571 - val_accuracy: 0.5059\n",
      "Epoch 20/50\n",
      "167/167 [==============================] - 61s 362ms/step - loss: 0.4026 - accuracy: 0.8241 - val_loss: 2.5187 - val_accuracy: 0.5313\n",
      "Epoch 21/50\n",
      "167/167 [==============================] - 62s 370ms/step - loss: 0.3836 - accuracy: 0.8286 - val_loss: 2.7337 - val_accuracy: 0.5228\n",
      "Epoch 22/50\n",
      "167/167 [==============================] - 61s 365ms/step - loss: 0.4316 - accuracy: 0.8158 - val_loss: 2.3041 - val_accuracy: 0.5448\n",
      "Epoch 23/50\n",
      "167/167 [==============================] - 63s 374ms/step - loss: 0.3924 - accuracy: 0.8263 - val_loss: 1.9643 - val_accuracy: 0.5922\n",
      "Epoch 24/50\n",
      "167/167 [==============================] - 62s 371ms/step - loss: 0.2882 - accuracy: 0.8624 - val_loss: 2.2580 - val_accuracy: 0.5922\n",
      "Epoch 25/50\n",
      "167/167 [==============================] - 62s 370ms/step - loss: 0.3625 - accuracy: 0.8314 - val_loss: 2.3042 - val_accuracy: 0.5398\n",
      "Epoch 26/50\n",
      "167/167 [==============================] - 61s 365ms/step - loss: 0.2938 - accuracy: 0.8506 - val_loss: 2.1288 - val_accuracy: 0.5854\n",
      "Epoch 27/50\n",
      "167/167 [==============================] - 62s 373ms/step - loss: 0.2858 - accuracy: 0.8660 - val_loss: 2.4840 - val_accuracy: 0.5347\n",
      "Epoch 28/50\n",
      "167/167 [==============================] - 62s 372ms/step - loss: 0.3375 - accuracy: 0.8543 - val_loss: 2.3770 - val_accuracy: 0.5161\n",
      "Epoch 29/50\n",
      "167/167 [==============================] - 62s 368ms/step - loss: 0.2821 - accuracy: 0.8677 - val_loss: 2.4642 - val_accuracy: 0.5685\n",
      "Epoch 30/50\n",
      "167/167 [==============================] - 62s 373ms/step - loss: 0.3026 - accuracy: 0.8664 - val_loss: 6.4367 - val_accuracy: 0.3638\n",
      "Epoch 31/50\n",
      "167/167 [==============================] - 61s 364ms/step - loss: 0.4375 - accuracy: 0.8128 - val_loss: 2.4329 - val_accuracy: 0.5059\n",
      "Epoch 32/50\n",
      "167/167 [==============================] - 63s 374ms/step - loss: 0.3554 - accuracy: 0.8365 - val_loss: 3.1531 - val_accuracy: 0.4467\n",
      "Epoch 33/50\n",
      "167/167 [==============================] - 62s 369ms/step - loss: 0.2880 - accuracy: 0.8669 - val_loss: 2.2399 - val_accuracy: 0.5787\n",
      "Epoch 34/50\n",
      "167/167 [==============================] - 61s 364ms/step - loss: 0.2738 - accuracy: 0.8771 - val_loss: 2.2973 - val_accuracy: 0.5448\n",
      "Epoch 35/50\n",
      "167/167 [==============================] - 62s 370ms/step - loss: 0.2539 - accuracy: 0.8793 - val_loss: 2.3597 - val_accuracy: 0.5601\n",
      "Epoch 36/50\n",
      "167/167 [==============================] - 61s 366ms/step - loss: 0.2403 - accuracy: 0.8827 - val_loss: 2.7045 - val_accuracy: 0.5516\n",
      "Epoch 37/50\n",
      "167/167 [==============================] - 61s 366ms/step - loss: 0.2177 - accuracy: 0.8870 - val_loss: 2.1780 - val_accuracy: 0.5651\n",
      "Epoch 38/50\n",
      "167/167 [==============================] - 62s 369ms/step - loss: 0.2958 - accuracy: 0.8799 - val_loss: 3.5914 - val_accuracy: 0.4129\n",
      "Epoch 39/50\n",
      "167/167 [==============================] - 62s 369ms/step - loss: 0.3075 - accuracy: 0.8635 - val_loss: 3.0443 - val_accuracy: 0.5415\n",
      "Epoch 40/50\n",
      "167/167 [==============================] - 62s 368ms/step - loss: 0.2308 - accuracy: 0.8945 - val_loss: 2.3942 - val_accuracy: 0.5431\n",
      "Epoch 41/50\n",
      "167/167 [==============================] - 62s 371ms/step - loss: 0.3388 - accuracy: 0.8545 - val_loss: 2.3128 - val_accuracy: 0.5330\n",
      "Epoch 42/50\n",
      "167/167 [==============================] - 61s 365ms/step - loss: 0.2711 - accuracy: 0.8788 - val_loss: 2.2981 - val_accuracy: 0.5804\n",
      "Epoch 43/50\n",
      "167/167 [==============================] - 60s 360ms/step - loss: 0.2129 - accuracy: 0.9077 - val_loss: 2.5509 - val_accuracy: 0.5347\n",
      "Epoch 44/50\n",
      "167/167 [==============================] - 60s 360ms/step - loss: 0.2039 - accuracy: 0.9026 - val_loss: 2.6519 - val_accuracy: 0.5465\n",
      "Epoch 45/50\n",
      "167/167 [==============================] - 61s 361ms/step - loss: 0.1982 - accuracy: 0.8977 - val_loss: 2.8032 - val_accuracy: 0.5228\n",
      "Epoch 46/50\n",
      "167/167 [==============================] - 60s 360ms/step - loss: 0.1957 - accuracy: 0.9079 - val_loss: 2.6469 - val_accuracy: 0.5838\n",
      "Epoch 47/50\n",
      "167/167 [==============================] - 61s 362ms/step - loss: 0.2773 - accuracy: 0.8844 - val_loss: 2.2974 - val_accuracy: 0.5482\n",
      "Epoch 48/50\n",
      "167/167 [==============================] - 63s 377ms/step - loss: 0.2241 - accuracy: 0.8989 - val_loss: 2.0330 - val_accuracy: 0.6108\n",
      "Epoch 49/50\n",
      "167/167 [==============================] - 65s 390ms/step - loss: 0.1897 - accuracy: 0.9083 - val_loss: 2.1606 - val_accuracy: 0.5939\n",
      "Epoch 50/50\n",
      "167/167 [==============================] - 63s 376ms/step - loss: 0.3067 - accuracy: 0.8780 - val_loss: 5.1900 - val_accuracy: 0.4602\n"
     ]
    }
   ],
   "source": [
    "# 모델 학습\n",
    "history = model.fit(\n",
    "    TRAIN_GENERATOR,\n",
    "    epochs=50,\n",
    "    shuffle=True,\n",
    "    validation_data=VALID_GENERATOR,\n",
    "    class_weight=class_weights_dic\n",
    ")"
   ]
  },
  {
   "cell_type": "code",
   "execution_count": 9,
   "id": "wrong-timeline",
   "metadata": {},
   "outputs": [
    {
     "data": {
      "image/png": "[encoded data removed]",
      "text/plain": [
       "<Figure size 640x480 with 1 Axes>"
      ]
     },
     "metadata": {},
     "output_type": "display_data"
    }
   ],
   "source": [
    "# 손실 그래프\n",
    "plt.plot(history.history['loss'])\n",
    "plt.plot(history.history['val_loss'])\n",
    "plt.title('Training Loss vs Validation Loss')\n",
    "plt.xlabel('Epochs')\n",
    "plt.ylabel('Loss')\n",
    "plt.legend(['loss', 'val_loss'])\n",
    "plt.show()"
   ]
  },
  {
   "cell_type": "code",
   "execution_count": 10,
   "id": "special-inventory",
   "metadata": {},
   "outputs": [
    {
     "data": {
      "image/png": "[encoded data removed]",
      "text/plain": [
       "<Figure size 640x480 with 1 Axes>"
      ]
     },
     "metadata": {},
     "output_type": "display_data"
    }
   ],
   "source": [
    "# 정확도 그래프\n",
    "plt.plot([x * 100 for x in history.history['accuracy']])\n",
    "plt.plot([x * 100 for x in history.history['val_accuracy']])\n",
    "plt.title('Training Accuracy vs Validation Accuracy')\n",
    "plt.xlabel('Epochs')\n",
    "plt.ylabel('Accuracy (%)')\n",
    "plt.legend(['accuracy', 'val_accuracy'])\n",
    "plt.show()"
   ]
  },
  {
   "cell_type": "code",
   "execution_count": 12,
   "id": "driving-adrian",
   "metadata": {},
   "outputs": [
    {
     "name": "stdout",
     "output_type": "stream",
     "text": [
      "19/19 [==============================] - 6s 299ms/step - loss: 4.8657 - accuracy: 0.4569\n",
      "Validation Loss: 4.865708\n",
      "Validation Accuracy: 0.457\n"
     ]
    }
   ],
   "source": [
    "# 최신 체크포인트 파일 찾기\n",
    "checkpoint_files = glob.glob('googlenet_model/*.hdf5')\n",
    "latest_checkpoint = max(checkpoint_files, key=os.path.getctime)\n",
    "\n",
    "# 모델에 최신 가중치 로드\n",
    "model.load_weights(latest_checkpoint)\n",
    "\n",
    "# Validation 데이터에 대한 정확도 확인\n",
    "val_loss, val_accuracy = model.evaluate(VALID_GENERATOR)\n",
    "print('Validation Loss:', round(val_loss, 6))\n",
    "print('Validation Accuracy:', round(val_accuracy, 3))"
   ]
  },
  {
   "cell_type": "code",
   "execution_count": 13,
   "id": "fixed-jersey",
   "metadata": {},
   "outputs": [
    {
     "name": "stdout",
     "output_type": "stream",
     "text": [
      "Found 12670 validated image filenames.\n",
      "396/396 [==============================] - 218s 550ms/step\n"
     ]
    },
    {
     "data": {
      "text/plain": [
       "array([[1.37048746e-05, 8.30616686e-04, 7.59165778e-05, ...,\n",
       "        1.14110389e-05, 2.06867582e-03, 4.50955267e-05],\n",
       "       [3.19715036e-06, 1.52453640e-05, 1.68588445e-01, ...,\n",
       "        9.53638846e-07, 1.78003937e-01, 8.71217810e-04],\n",
       "       [2.81486876e-07, 3.29583872e-06, 9.30919430e-09, ...,\n",
       "        1.42198928e-06, 1.28295238e-03, 5.72410329e-07],\n",
       "       ...,\n",
       "       [1.00000000e+00, 1.90218341e-21, 3.11212583e-10, ...,\n",
       "        7.08344688e-36, 4.68366579e-18, 2.35229280e-19],\n",
       "       [4.03706053e-06, 1.85491415e-04, 3.49374932e-05, ...,\n",
       "        1.33529807e-06, 5.78828738e-04, 5.45893727e-07],\n",
       "       [4.81790767e-06, 1.93624326e-03, 5.93949750e-04, ...,\n",
       "        1.41649925e-05, 9.75075781e-01, 3.54016265e-05]], dtype=float32)"
      ]
     },
     "metadata": {},
     "output_type": "display_data"
    }
   ],
   "source": [
    "test_df = pd.read_csv('test.csv')\n",
    "\n",
    "TEST_GENERATOR = DATAGEN_TRAIN.flow_from_dataframe(\n",
    "    dataframe=test_df,\n",
    "    x_col='img_path',\n",
    "    y_col='id',\n",
    "    target_size=(244, 244),\n",
    "    class_mode='raw',\n",
    "    batch_size=32,\n",
    "    shuffle=False,\n",
    ")\n",
    "\n",
    "TEST_GENERATOR.reset()\n",
    "\n",
    "# 최신 체크포인트 파일 찾기\n",
    "checkpoint_files = glob.glob('googlenet_model/*.hdf5')\n",
    "latest_checkpoint = max(checkpoint_files, key=os.path.getctime)\n",
    "\n",
    "# 모델에 최신 가중치 로드\n",
    "model.load_weights(latest_checkpoint)\n",
    "\n",
    "test_prediction = model.predict(TEST_GENERATOR, verbose=1)\n",
    "display(test_prediction)"
   ]
  },
  {
   "cell_type": "code",
   "execution_count": 14,
   "id": "rising-concentration",
   "metadata": {},
   "outputs": [
    {
     "data": {
      "text/plain": [
       "array([39, 39, 14, ...,  0, 20, 48], dtype=int64)"
      ]
     },
     "execution_count": 14,
     "metadata": {},
     "output_type": "execute_result"
    }
   ],
   "source": [
    "test_prediction = np.argmax(test_prediction, axis = 1)\n",
    "test_prediction"
   ]
  },
  {
   "cell_type": "code",
   "execution_count": 15,
   "id": "steady-limitation",
   "metadata": {},
   "outputs": [
    {
     "data": {
      "text/html": [
       "<div>\n",
       "<style scoped>\n",
       "    .dataframe tbody tr th:only-of-type {\n",
       "        vertical-align: middle;\n",
       "    }\n",
       "\n",
       "    .dataframe tbody tr th {\n",
       "        vertical-align: top;\n",
       "    }\n",
       "\n",
       "    .dataframe thead th {\n",
       "        text-align: right;\n",
       "    }\n",
       "</style>\n",
       "<table border=\"1\" class=\"dataframe\">\n",
       "  <thead>\n",
       "    <tr style=\"text-align: right;\">\n",
       "      <th></th>\n",
       "      <th>artist</th>\n",
       "    </tr>\n",
       "  </thead>\n",
       "  <tbody>\n",
       "    <tr>\n",
       "      <th>0</th>\n",
       "      <td>39</td>\n",
       "    </tr>\n",
       "    <tr>\n",
       "      <th>1</th>\n",
       "      <td>39</td>\n",
       "    </tr>\n",
       "    <tr>\n",
       "      <th>2</th>\n",
       "      <td>14</td>\n",
       "    </tr>\n",
       "    <tr>\n",
       "      <th>3</th>\n",
       "      <td>0</td>\n",
       "    </tr>\n",
       "    <tr>\n",
       "      <th>4</th>\n",
       "      <td>23</td>\n",
       "    </tr>\n",
       "    <tr>\n",
       "      <th>...</th>\n",
       "      <td>...</td>\n",
       "    </tr>\n",
       "    <tr>\n",
       "      <th>12665</th>\n",
       "      <td>10</td>\n",
       "    </tr>\n",
       "    <tr>\n",
       "      <th>12666</th>\n",
       "      <td>34</td>\n",
       "    </tr>\n",
       "    <tr>\n",
       "      <th>12667</th>\n",
       "      <td>0</td>\n",
       "    </tr>\n",
       "    <tr>\n",
       "      <th>12668</th>\n",
       "      <td>20</td>\n",
       "    </tr>\n",
       "    <tr>\n",
       "      <th>12669</th>\n",
       "      <td>48</td>\n",
       "    </tr>\n",
       "  </tbody>\n",
       "</table>\n",
       "<p>12670 rows × 1 columns</p>\n",
       "</div>"
      ],
      "text/plain": [
       "       artist\n",
       "0          39\n",
       "1          39\n",
       "2          14\n",
       "3           0\n",
       "4          23\n",
       "...       ...\n",
       "12665      10\n",
       "12666      34\n",
       "12667       0\n",
       "12668      20\n",
       "12669      48\n",
       "\n",
       "[12670 rows x 1 columns]"
      ]
     },
     "execution_count": 15,
     "metadata": {},
     "output_type": "execute_result"
    }
   ],
   "source": [
    "test_prediction_df = pd.DataFrame(test_prediction, columns = ['artist'])\n",
    "test_prediction_df"
   ]
  },
  {
   "cell_type": "code",
   "execution_count": 16,
   "id": "outer-climb",
   "metadata": {},
   "outputs": [],
   "source": [
    "artist_df = train_df.copy()\n",
    "artist_le = label_encoder.fit_transform(artist_df['artist'].values)\n",
    "artist_df['num'] = artist_le\n",
    "artist_df = artist_df.drop('id', axis=1)\n",
    "artist_df = artist_df.drop('img_path', axis=1)\n",
    "test_prediction_dic = test_prediction_df.to_dict()\n",
    "test_prediction_values = test_prediction_dic['artist'].values()\n",
    "test_prediction_list = list(test_prediction_values)\n",
    "artist_df.set_index('num', inplace=True)\n",
    "artist_df = artist_df.sort_index()\n",
    "artist_info_dic = artist_df['artist'].to_dict()"
   ]
  },
  {
   "cell_type": "code",
   "execution_count": 17,
   "id": "sitting-movement",
   "metadata": {},
   "outputs": [
    {
     "data": {
      "text/plain": [
       "['Piet Mondrian',\n",
       " 'Piet Mondrian',\n",
       " 'Eugene Delacroix',\n",
       " 'Albrecht Du rer',\n",
       " 'Henri de Toulouse-Lautrec']"
      ]
     },
     "execution_count": 17,
     "metadata": {},
     "output_type": "execute_result"
    }
   ],
   "source": [
    "artist_name = []\n",
    "for i in test_prediction_list:\n",
    "    artist_name.append(artist_info_dic[i])\n",
    "artist_name[:5]"
   ]
  },
  {
   "cell_type": "code",
   "execution_count": 18,
   "id": "false-background",
   "metadata": {},
   "outputs": [
    {
     "data": {
      "text/html": [
       "<div>\n",
       "<style scoped>\n",
       "    .dataframe tbody tr th:only-of-type {\n",
       "        vertical-align: middle;\n",
       "    }\n",
       "\n",
       "    .dataframe tbody tr th {\n",
       "        vertical-align: top;\n",
       "    }\n",
       "\n",
       "    .dataframe thead th {\n",
       "        text-align: right;\n",
       "    }\n",
       "</style>\n",
       "<table border=\"1\" class=\"dataframe\">\n",
       "  <thead>\n",
       "    <tr style=\"text-align: right;\">\n",
       "      <th></th>\n",
       "      <th>id</th>\n",
       "      <th>artist</th>\n",
       "    </tr>\n",
       "  </thead>\n",
       "  <tbody>\n",
       "    <tr>\n",
       "      <th>0</th>\n",
       "      <td>TEST_00000</td>\n",
       "      <td>Piet Mondrian</td>\n",
       "    </tr>\n",
       "    <tr>\n",
       "      <th>1</th>\n",
       "      <td>TEST_00001</td>\n",
       "      <td>Piet Mondrian</td>\n",
       "    </tr>\n",
       "    <tr>\n",
       "      <th>2</th>\n",
       "      <td>TEST_00002</td>\n",
       "      <td>Eugene Delacroix</td>\n",
       "    </tr>\n",
       "    <tr>\n",
       "      <th>3</th>\n",
       "      <td>TEST_00003</td>\n",
       "      <td>Albrecht Du rer</td>\n",
       "    </tr>\n",
       "    <tr>\n",
       "      <th>4</th>\n",
       "      <td>TEST_00004</td>\n",
       "      <td>Henri de Toulouse-Lautrec</td>\n",
       "    </tr>\n",
       "  </tbody>\n",
       "</table>\n",
       "</div>"
      ],
      "text/plain": [
       "           id                     artist\n",
       "0  TEST_00000              Piet Mondrian\n",
       "1  TEST_00001              Piet Mondrian\n",
       "2  TEST_00002           Eugene Delacroix\n",
       "3  TEST_00003            Albrecht Du rer\n",
       "4  TEST_00004  Henri de Toulouse-Lautrec"
      ]
     },
     "execution_count": 18,
     "metadata": {},
     "output_type": "execute_result"
    }
   ],
   "source": [
    "submission_df = pd.read_csv(\"./sample_submission.csv\")\n",
    "submission_df = submission_df.drop('artist', axis=1)\n",
    "submission_df['artist'] = artist_name\n",
    "submission_df.head()"
   ]
  },
  {
   "cell_type": "code",
   "execution_count": 19,
   "id": "vietnamese-offense",
   "metadata": {},
   "outputs": [],
   "source": [
    "submission_df.to_csv(\"googlenet_submission.csv\", index=False)"
   ]
  },
  {
   "cell_type": "code",
   "execution_count": null,
   "id": "comfortable-powder",
   "metadata": {},
   "outputs": [],
   "source": []
  }
 ],
 "metadata": {
  "kernelspec": {
   "display_name": "Python 3 (ipykernel)",
   "language": "python",
   "name": "python3"
  },
  "language_info": {
   "codemirror_mode": {
    "name": "ipython",
    "version": 3
   },
   "file_extension": ".py",
   "mimetype": "text/x-python",
   "name": "python",
   "nbconvert_exporter": "python",
   "pygments_lexer": "ipython3",
   "version": "3.10.9"
  }
 },
 "nbformat": 4,
 "nbformat_minor": 5
}
