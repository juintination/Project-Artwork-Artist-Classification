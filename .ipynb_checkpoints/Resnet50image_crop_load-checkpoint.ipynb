{
 "cells": [
  {
   "cell_type": "code",
   "execution_count": 1,
   "id": "5a40fe84",
   "metadata": {},
   "outputs": [
    {
     "name": "stdout",
     "output_type": "stream",
     "text": [
      "[name: \"/device:CPU:0\"\n",
      "device_type: \"CPU\"\n",
      "memory_limit: 268435456\n",
      "locality {\n",
      "}\n",
      "incarnation: 5648457414020920932\n",
      ", name: \"/device:GPU:0\"\n",
      "device_type: \"GPU\"\n",
      "memory_limit: 15134713447\n",
      "locality {\n",
      "  bus_id: 1\n",
      "  links {\n",
      "  }\n",
      "}\n",
      "incarnation: 18287975853137320311\n",
      "physical_device_desc: \"device: 0, name: Quadro RTX 5000, pci bus id: 0000:65:00.0, compute capability: 7.5\"\n",
      "]\n"
     ]
    }
   ],
   "source": [
    "from tensorflow.python.client import device_lib\n",
    "print(device_lib.list_local_devices())"
   ]
  },
  {
   "cell_type": "code",
   "execution_count": 2,
   "id": "be11af42",
   "metadata": {},
   "outputs": [],
   "source": [
    "import pandas as pd\n",
    "import numpy as np\n",
    "import cv2\n",
    "from sklearn.model_selection import train_test_split\n",
    "from tensorflow.keras.applications.resnet50 import ResNet50, preprocess_input\n",
    "from tensorflow.keras.layers import Dense, Flatten, Dropout\n",
    "from tensorflow.keras.models import Model\n",
    "from sklearn.preprocessing import LabelEncoder, OneHotEncoder\n",
    "from tensorflow.keras.optimizers import Adam\n",
    "import matplotlib.pyplot as plt"
   ]
  },
  {
   "cell_type": "code",
   "execution_count": 4,
   "id": "4bc35377",
   "metadata": {},
   "outputs": [
    {
     "name": "stdout",
     "output_type": "stream",
     "text": [
      "shape of x_train: (4728,)\n",
      "shape of x_val: (1183,)\n",
      "shape of y_train: (4728, 50)\n",
      "shape of y_val: (1183, 50)\n"
     ]
    }
   ],
   "source": [
    "train_df = pd.read_csv('./train.csv')\n",
    "\n",
    "# 데이터 노이즈 수정\n",
    "train_df.loc[train_df['id'] == 3896, 'artist'] = 'Titian'\n",
    "train_df.loc[train_df['id'] == 3986, 'artist'] = 'Alfred Sisley'\n",
    "\n",
    "label_encoder = LabelEncoder()\n",
    "train_df['artist'] = label_encoder.fit_transform(train_df['artist'].values)\n",
    "x_train, x_val, y_train, y_val = train_test_split(train_df['img_path'], train_df['artist'].values, test_size=0.2)\n",
    "\n",
    "one_hot_encoder = OneHotEncoder(sparse=False)\n",
    "y_train = one_hot_encoder.fit_transform(y_train.reshape(-1, 1))\n",
    "y_val = one_hot_encoder.transform(y_val.reshape(-1, 1))\n",
    "\n",
    "print(\"shape of x_train:\", x_train.shape)\n",
    "print(\"shape of x_val:\", x_val.shape)\n",
    "print(\"shape of y_train:\", y_train.shape)\n",
    "print(\"shape of y_val:\", y_val.shape)"
   ]
  },
  {
   "cell_type": "code",
   "execution_count": 7,
   "id": "eea10896",
   "metadata": {},
   "outputs": [],
   "source": [
    "def image_crop_load(image_path):\n",
    "    # Load your own image\n",
    "    image = cv2.imread(image_path)\n",
    "\n",
    "    # Crop the center of the image to a square size\n",
    "    cropped_image = image[((image.shape[0] - min(image.shape[:2])) // 2):((image.shape[0] + min(image.shape[:2])) // 2),\n",
    "                          ((image.shape[1] - min(image.shape[:2])) // 2):((image.shape[1] + min(image.shape[:2])) // 2)]\n",
    "\n",
    "    # Resize the image to the desired input size\n",
    "    resized_image = cv2.resize(cropped_image, (244, 244))\n",
    "\n",
    "    # Return the preprocessed image\n",
    "    return resized_image / 255.0\n",
    "\n",
    "def image_load(image_path):\n",
    "    image = cv2.imread(image_path)\n",
    "    resized_image = cv2.resize(image, (244, 244))\n",
    "    return resized_image / 255.0"
   ]
  },
  {
   "cell_type": "code",
   "execution_count": 8,
   "id": "893601b2",
   "metadata": {},
   "outputs": [],
   "source": [
    "x_train_list, x_val_list = [], []\n",
    "\n",
    "for img_path in x_train:\n",
    "    x_train_list.append(image_load(img_path))\n",
    "\n",
    "x_train = np.array(x_train_list)\n",
    "\n",
    "for img_path in x_val:\n",
    "    x_val_list.append(image_load(img_path))\n",
    "\n",
    "x_val = np.array(x_val_list)"
   ]
  },
  {
   "cell_type": "code",
   "execution_count": 13,
   "id": "c3bab053",
   "metadata": {},
   "outputs": [],
   "source": [
    "# ResNet50 모델 로드\n",
    "base_model = ResNet50(weights='imagenet', include_top=False, input_shape=(244, 244, 3), pooling=None, input_tensor=None)\n",
    "\n",
    "# 새로운 Fully Connected Layer 추가\n",
    "x = base_model.output\n",
    "x = Flatten()(x)\n",
    "x = Dropout(0.2)(x) # 드롭아웃 추가\n",
    "predictions = Dense(50, activation='softmax')(x)\n",
    "\n",
    "#전체 모델 구성\n",
    "model = Model(inputs=base_model.input, outputs=predictions)\n",
    "\n",
    "\n",
    "# 모델 컴파일\n",
    "model.compile(optimizer=Adam(lr=1e-3), loss='categorical_crossentropy', metrics=['accuracy'])"
   ]
  },
  {
   "cell_type": "code",
   "execution_count": 14,
   "id": "06fab3ab",
   "metadata": {},
   "outputs": [],
   "source": [
    "from tensorflow.keras.callbacks import EarlyStopping\n",
    "\n",
    "# Early Stopping 콜백\n",
    "early_stopping = EarlyStopping(monitor='val_loss', patience=3, verbose=1)"
   ]
  },
  {
   "cell_type": "code",
   "execution_count": 15,
   "id": "b5da0dbf",
   "metadata": {},
   "outputs": [
    {
     "name": "stdout",
     "output_type": "stream",
     "text": [
      "Train on 4728 samples, validate on 1183 samples\n",
      "Epoch 1/50\n",
      "4728/4728 [==============================] - 48s 10ms/sample - loss: 4.3710 - accuracy: 0.2109 - val_loss: 4.7437 - val_accuracy: 0.0127\n",
      "Epoch 2/50\n",
      "4728/4728 [==============================] - 39s 8ms/sample - loss: 2.4752 - accuracy: 0.3555 - val_loss: 4.1312 - val_accuracy: 0.0127\n",
      "Epoch 3/50\n",
      "4728/4728 [==============================] - 39s 8ms/sample - loss: 2.0185 - accuracy: 0.4535 - val_loss: 6.6663 - val_accuracy: 0.0110\n",
      "Epoch 4/50\n",
      "4728/4728 [==============================] - 39s 8ms/sample - loss: 1.6408 - accuracy: 0.5457 - val_loss: 6.9918 - val_accuracy: 0.0101\n",
      "Epoch 5/50\n",
      "4728/4728 [==============================] - 39s 8ms/sample - loss: 1.1205 - accuracy: 0.6753 - val_loss: 9.6312 - val_accuracy: 0.0719\n",
      "Epoch 00005: early stopping\n"
     ]
    }
   ],
   "source": [
    "# 모델 학습\n",
    "history = model.fit(x_train, y_train,\n",
    "                    batch_size=32,\n",
    "                    epochs=50,\n",
    "                    validation_data=(x_val, y_val),\n",
    "                    callbacks=([early_stopping])\n",
    ")"
   ]
  },
  {
   "cell_type": "code",
   "execution_count": 17,
   "id": "30d5f4c0",
   "metadata": {},
   "outputs": [
    {
     "name": "stdout",
     "output_type": "stream",
     "text": [
      "val_loss: 9.631177\n",
      "val_accuracy: 7.185%\n"
     ]
    }
   ],
   "source": [
    "score = model.evaluate(x_val, y_val, verbose=0)\n",
    "print('val_loss:', round(score[0], 6))\n",
    "print(f'val_accuracy: {round(score[1] * 100, 3)}%')"
   ]
  },
  {
   "cell_type": "code",
   "execution_count": 18,
   "id": "7f92453a",
   "metadata": {},
   "outputs": [
    {
     "data": {
      "image/png": "[encoded data removed]",
      "text/plain": [
       "<Figure size 432x288 with 1 Axes>"
      ]
     },
     "metadata": {
      "needs_background": "light"
     },
     "output_type": "display_data"
    }
   ],
   "source": [
    "plt.plot(history.history['loss'])\n",
    "plt.plot(history.history['val_loss'])\n",
    "plt.title('Training Loss vs Validation Loss')\n",
    "plt.xlabel('Epochs')\n",
    "plt.ylabel('Loss')\n",
    "plt.legend(['Train','Val'])\n",
    "plt.show()"
   ]
  },
  {
   "cell_type": "code",
   "execution_count": 19,
   "id": "aeaa3ad9",
   "metadata": {},
   "outputs": [
    {
     "data": {
      "image/png": "[encoded data removed]",
      "text/plain": [
       "<Figure size 432x288 with 1 Axes>"
      ]
     },
     "metadata": {
      "needs_background": "light"
     },
     "output_type": "display_data"
    }
   ],
   "source": [
    "plt.plot([x * 100 for x in history.history['accuracy']])\n",
    "plt.plot([x * 100 for x in history.history['val_accuracy']])\n",
    "plt.title('Training Accuracy vs Validation Accuracy')\n",
    "plt.xlabel('Epochs')\n",
    "plt.ylabel('Accuracy (%)')\n",
    "plt.legend(['Train', 'Val'])\n",
    "plt.show()"
   ]
  },
  {
   "cell_type": "code",
   "execution_count": null,
   "id": "93e987a8",
   "metadata": {},
   "outputs": [],
   "source": []
  }
 ],
 "metadata": {
  "kernelspec": {
   "display_name": "Python 3 (ipykernel)",
   "language": "python",
   "name": "python3"
  },
  "language_info": {
   "codemirror_mode": {
    "name": "ipython",
    "version": 3
   },
   "file_extension": ".py",
   "mimetype": "text/x-python",
   "name": "python",
   "nbconvert_exporter": "python",
   "pygments_lexer": "ipython3",
   "version": "3.10.9"
  }
 },
 "nbformat": 4,
 "nbformat_minor": 5
}
