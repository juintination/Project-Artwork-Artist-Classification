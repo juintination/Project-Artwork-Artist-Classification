{
 "cells": [
  {
   "cell_type": "code",
   "execution_count": null,
   "id": "s7L70vyYrddY",
   "metadata": {
    "id": "s7L70vyYrddY",
    "outputId": "c4420ead-2f19-458a-f518-b70e2ffaec1e"
   },
   "outputs": [
    {
     "name": "stdout",
     "output_type": "stream",
     "text": [
      "[name: \"/device:CPU:0\"\n",
      "device_type: \"CPU\"\n",
      "memory_limit: 268435456\n",
      "locality {\n",
      "}\n",
      "incarnation: 14339404970098464691\n",
      ", name: \"/device:GPU:0\"\n",
      "device_type: \"GPU\"\n",
      "memory_limit: 15134713447\n",
      "locality {\n",
      "  bus_id: 1\n",
      "  links {\n",
      "  }\n",
      "}\n",
      "incarnation: 6142045736193263292\n",
      "physical_device_desc: \"device: 0, name: Quadro RTX 5000, pci bus id: 0000:65:00.0, compute capability: 7.5\"\n",
      "]\n"
     ]
    }
   ],
   "source": [
    "from tensorflow.python.client import device_lib\n",
    "print(device_lib.list_local_devices())"
   ]
  },
  {
   "cell_type": "code",
   "execution_count": null,
   "id": "53IZHPm3rddg",
   "metadata": {
    "id": "53IZHPm3rddg"
   },
   "outputs": [],
   "source": [
    "import pandas as pd\n",
    "import numpy as np\n",
    "import cv2\n",
    "from sklearn.model_selection import train_test_split\n",
    "from tensorflow.keras.applications.resnet50 import ResNet50, preprocess_input\n",
    "from tensorflow.keras.layers import Dense, Flatten, Dropout\n",
    "from tensorflow.keras.models import Model\n",
    "from sklearn.preprocessing import LabelEncoder, OneHotEncoder\n",
    "from tensorflow.keras.optimizers import Adam\n",
    "import matplotlib.pyplot as plt"
   ]
  },
  {
   "cell_type": "code",
   "execution_count": null,
   "id": "1fViQn_arddi",
   "metadata": {
    "id": "1fViQn_arddi",
    "outputId": "ade90215-7b61-46fd-ad0e-437f07b968a6"
   },
   "outputs": [
    {
     "name": "stdout",
     "output_type": "stream",
     "text": [
      "shape of x_train: (4728,)\n",
      "shape of x_val: (1183,)\n"
     ]
    }
   ],
   "source": [
    "train_df = pd.read_csv('./train.csv')\n",
    "\n",
    "# 데이터 노이즈 수정\n",
    "train_df.loc[train_df['id'] == 3896, 'artist'] = 'Titian'\n",
    "train_df.loc[train_df['id'] == 3986, 'artist'] = 'Alfred Sisley'\n",
    "\n",
    "label_encoder = LabelEncoder()\n",
    "train_df['artist'] = label_encoder.fit_transform(train_df['artist'].values)\n",
    "x_train, x_val, y_train, y_val = train_test_split(train_df['img_path'], train_df['artist'].values, test_size=0.2)\n",
    "\n",
    "one_hot_encoder = OneHotEncoder(sparse=False)\n",
    "y_train = one_hot_encoder.fit_transform(y_train.reshape(-1, 1))\n",
    "y_val = one_hot_encoder.transform(y_val.reshape(-1, 1))\n",
    "\n",
    "print(\"shape of x_train:\", x_train.shape)\n",
    "print(\"shape of x_val:\", x_val.shape)"
   ]
  },
  {
   "cell_type": "code",
   "execution_count": null,
   "id": "LQCMczzKrddk",
   "metadata": {
    "id": "LQCMczzKrddk"
   },
   "outputs": [],
   "source": [
    "def image_crop_load(image_path):\n",
    "    # Load your own image\n",
    "    image = cv2.imread(image_path)\n",
    "\n",
    "    # Crop the center of the image to a square size\n",
    "    cropped_image = image[((image.shape[0] - min(image.shape[:2])) // 2):((image.shape[0] + min(image.shape[:2])) // 2),\n",
    "                          ((image.shape[1] - min(image.shape[:2])) // 2):((image.shape[1] + min(image.shape[:2])) // 2)]\n",
    "\n",
    "    # Resize the image to the desired input size\n",
    "    resized_image = cv2.resize(cropped_image, (244, 244))\n",
    "\n",
    "    # Return the preprocessed image\n",
    "    return resized_image / 255.0\n",
    "\n",
    "def image_load(image_path):\n",
    "    image = cv2.imread(image_path)\n",
    "    resized_image = cv2.resize(image, (244, 244))\n",
    "    return resized_image / 255.0"
   ]
  },
  {
   "cell_type": "code",
   "execution_count": null,
   "id": "RGuVKnzarddl",
   "metadata": {
    "id": "RGuVKnzarddl"
   },
   "outputs": [],
   "source": [
    "x_train_list, x_val_list = [], []\n",
    "\n",
    "for img_path in x_train:\n",
    "    x_train_list.append(image_crop_load(img_path))\n",
    "\n",
    "x_train = np.array(x_train_list)\n",
    "\n",
    "for img_path in x_val:\n",
    "    x_val_list.append(image_crop_load(img_path))\n",
    "\n",
    "x_val = np.array(x_val_list)"
   ]
  },
  {
   "cell_type": "code",
   "execution_count": null,
   "id": "IYU-lWddrddm",
   "metadata": {
    "id": "IYU-lWddrddm"
   },
   "outputs": [],
   "source": [
    "# ResNet50 모델 로드\n",
    "base_model = ResNet50(weights='imagenet', include_top=False, input_shape=(244, 244, 3), pooling=None, input_tensor=None)\n",
    "\n",
    "# 새로운 Fully Connected Layer 추가\n",
    "x = base_model.output\n",
    "x = Flatten()(x)\n",
    "x = Dropout(0.2)(x) # 드롭아웃 추가\n",
    "predictions = Dense(50, activation='softmax')(x)\n",
    "\n",
    "#전체 모델 구성\n",
    "model = Model(inputs=base_model.input, outputs=predictions)\n",
    "\n",
    "\n",
    "# 모델 컴파일\n",
    "model.compile(optimizer=Adam(lr=1e-3), loss='categorical_crossentropy', metrics=['accuracy'])"
   ]
  },
  {
   "cell_type": "code",
   "execution_count": null,
   "id": "FIIrA_Wjrddo",
   "metadata": {
    "id": "FIIrA_Wjrddo"
   },
   "outputs": [],
   "source": [
    "from tensorflow.keras.callbacks import EarlyStopping\n",
    "\n",
    "# Early Stopping 콜백\n",
    "early_stopping = EarlyStopping(monitor='val_loss', patience=5, verbose=1)"
   ]
  },
  {
   "cell_type": "code",
   "execution_count": null,
   "id": "O7tiuWWVrddp",
   "metadata": {
    "id": "O7tiuWWVrddp",
    "outputId": "da395982-8704-4ff1-c08d-719702e1ba51"
   },
   "outputs": [
    {
     "name": "stdout",
     "output_type": "stream",
     "text": [
      "Train on 4728 samples, validate on 1183 samples\n",
      "Epoch 1/50\n",
      "4728/4728 [==============================] - 40s 8ms/sample - loss: 0.7299 - accuracy: 0.7695 - val_loss: 7.5207 - val_accuracy: 0.2181\n",
      "Epoch 2/50\n",
      "4728/4728 [==============================] - 39s 8ms/sample - loss: 0.5074 - accuracy: 0.8395 - val_loss: 5.5923 - val_accuracy: 0.2967\n",
      "Epoch 3/50\n",
      "4728/4728 [==============================] - 39s 8ms/sample - loss: 0.3614 - accuracy: 0.8822 - val_loss: 5.2430 - val_accuracy: 0.2773\n",
      "Epoch 4/50\n",
      "4728/4728 [==============================] - 39s 8ms/sample - loss: 0.3196 - accuracy: 0.8981 - val_loss: 6.9950 - val_accuracy: 0.2519\n",
      "Epoch 5/50\n",
      "4728/4728 [==============================] - 39s 8ms/sample - loss: 0.2001 - accuracy: 0.9389 - val_loss: 5.0402 - val_accuracy: 0.3483\n",
      "Epoch 6/50\n",
      "4728/4728 [==============================] - 39s 8ms/sample - loss: 0.2032 - accuracy: 0.9325 - val_loss: 8.0553 - val_accuracy: 0.2553\n",
      "Epoch 7/50\n",
      "4728/4728 [==============================] - 39s 8ms/sample - loss: 0.2086 - accuracy: 0.9355 - val_loss: 6.6622 - val_accuracy: 0.3432\n",
      "Epoch 8/50\n",
      "4728/4728 [==============================] - 39s 8ms/sample - loss: 0.1875 - accuracy: 0.9416 - val_loss: 6.8664 - val_accuracy: 0.2189\n",
      "Epoch 9/50\n",
      "4728/4728 [==============================] - 39s 8ms/sample - loss: 0.2353 - accuracy: 0.9247 - val_loss: 6.6473 - val_accuracy: 0.2959\n",
      "Epoch 10/50\n",
      "4728/4728 [==============================] - 39s 8ms/sample - loss: 0.1931 - accuracy: 0.9393 - val_loss: 7.1952 - val_accuracy: 0.2739\n",
      "Epoch 00010: early stopping\n"
     ]
    }
   ],
   "source": [
    "# 모델 학습\n",
    "history = model.fit(x_train, y_train,\n",
    "                    batch_size=32,\n",
    "                    epochs=50,\n",
    "                    validation_data=(x_val, y_val),\n",
    "                    callbacks=([early_stopping])\n",
    ")"
   ]
  },
  {
   "cell_type": "code",
   "execution_count": null,
   "id": "vMwpksI8rddq",
   "metadata": {
    "id": "vMwpksI8rddq",
    "outputId": "7f7153d1-406d-4a83-f714-0e5cbb90d2bc"
   },
   "outputs": [
    {
     "name": "stdout",
     "output_type": "stream",
     "text": [
      "val_loss: 7.195197\n",
      "val_accuracy: 27.388%\n"
     ]
    }
   ],
   "source": [
    "score = model.evaluate(x_val, y_val, verbose=0)\n",
    "print('val_loss:', round(score[0], 6))\n",
    "print(f'val_accuracy: {round(score[1] * 100, 3)}%')"
   ]
  },
  {
   "cell_type": "code",
   "execution_count": null,
   "id": "hjocsZYJrddr",
   "metadata": {
    "id": "hjocsZYJrddr",
    "outputId": "f8441777-70dc-4ee1-fe9f-7d405e947b14"
   },
   "outputs": [
    {
     "data": {
      "image/png": "[encoded data removed]",
      "text/plain": [
       "<Figure size 432x288 with 1 Axes>"
      ]
     },
     "metadata": {
      "needs_background": "light"
     },
     "output_type": "display_data"
    }
   ],
   "source": [
    "plt.plot(history.history['loss'])\n",
    "plt.plot(history.history['val_loss'])\n",
    "plt.title('Training Loss vs Validation Loss')\n",
    "plt.xlabel('Epochs')\n",
    "plt.ylabel('Loss')\n",
    "plt.legend(['Train','Val'])\n",
    "plt.show()"
   ]
  },
  {
   "cell_type": "code",
   "execution_count": null,
   "id": "IPvXNTeFrdds",
   "metadata": {
    "id": "IPvXNTeFrdds",
    "outputId": "5027c068-e2c4-463a-c5c5-4b104ee87a2c"
   },
   "outputs": [
    {
     "data": {
      "image/png": "[encoded data removed]",
      "text/plain": [
       "<Figure size 432x288 with 1 Axes>"
      ]
     },
     "metadata": {
      "needs_background": "light"
     },
     "output_type": "display_data"
    }
   ],
   "source": [
    "plt.plot([x * 100 for x in history.history['accuracy']])\n",
    "plt.plot([x * 100 for x in history.history['val_accuracy']])\n",
    "plt.title('Training Accuracy vs Validation Accuracy')\n",
    "plt.xlabel('Epochs')\n",
    "plt.ylabel('Accuracy (%)')\n",
    "plt.legend(['Train', 'Val'])\n",
    "plt.show()"
   ]
  },
  {
   "cell_type": "code",
   "execution_count": null,
   "id": "ulPqSqocrddt",
   "metadata": {
    "id": "ulPqSqocrddt"
   },
   "outputs": [],
   "source": []
  }
 ],
 "metadata": {
  "colab": {
   "provenance": []
  },
  "kernelspec": {
   "display_name": "Python 3 (ipykernel)",
   "language": "python",
   "name": "python3"
  },
  "language_info": {
   "codemirror_mode": {
    "name": "ipython",
    "version": 3
   },
   "file_extension": ".py",
   "mimetype": "text/x-python",
   "name": "python",
   "nbconvert_exporter": "python",
   "pygments_lexer": "ipython3",
   "version": "3.10.9"
  }
 },
 "nbformat": 4,
 "nbformat_minor": 5
}
