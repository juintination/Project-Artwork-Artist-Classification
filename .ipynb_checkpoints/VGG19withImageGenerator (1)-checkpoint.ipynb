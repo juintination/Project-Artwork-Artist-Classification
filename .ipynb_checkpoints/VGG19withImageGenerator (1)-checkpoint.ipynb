{
 "cells": [
  {
   "cell_type": "code",
   "execution_count": 1,
   "metadata": {},
   "outputs": [
    {
     "name": "stdout",
     "output_type": "stream",
     "text": [
      "[name: \"/device:CPU:0\"\n",
      "device_type: \"CPU\"\n",
      "memory_limit: 268435456\n",
      "locality {\n",
      "}\n",
      "incarnation: 16354576928832955450\n",
      ", name: \"/device:GPU:0\"\n",
      "device_type: \"GPU\"\n",
      "memory_limit: 15134713447\n",
      "locality {\n",
      "  bus_id: 1\n",
      "  links {\n",
      "  }\n",
      "}\n",
      "incarnation: 8088319452043915465\n",
      "physical_device_desc: \"device: 0, name: Quadro RTX 5000, pci bus id: 0000:65:00.0, compute capability: 7.5\"\n",
      "]\n"
     ]
    }
   ],
   "source": [
    "from tensorflow.python.client import device_lib\n",
    "print(device_lib.list_local_devices())"
   ]
  },
  {
   "cell_type": "code",
   "execution_count": 2,
   "metadata": {},
   "outputs": [],
   "source": [
    "import pandas as pd\n",
    "import numpy as np\n",
    "import tensorflow as tf\n",
    "import os\n",
    "import cv2\n",
    "import glob\n",
    "from sklearn.model_selection import train_test_split\n",
    "from tensorflow.keras.applications import VGG19\n",
    "from tensorflow.keras.layers import Dense, Flatten, Dropout\n",
    "from tensorflow.keras.models import Model\n",
    "from tensorflow.keras.optimizers import Adam\n",
    "import matplotlib.pyplot as plt"
   ]
  },
  {
   "cell_type": "code",
   "execution_count": 3,
   "metadata": {},
   "outputs": [
    {
     "name": "stdout",
     "output_type": "stream",
     "text": [
      "size of train_df: 5911\n",
      "Found 5320 validated image filenames belonging to 50 classes.\n",
      "Found 591 validated image filenames belonging to 50 classes.\n"
     ]
    }
   ],
   "source": [
    "from tensorflow.keras.preprocessing.image import ImageDataGenerator\n",
    "\n",
    "train_df = pd.read_csv('./train.csv')\n",
    "print(\"size of train_df:\", len(train_df))\n",
    "\n",
    "# 데이터 노이즈 수정\n",
    "train_df.loc[train_df['id'] == 3896, 'artist'] = 'Titian'\n",
    "train_df.loc[train_df['id'] == 3986, 'artist'] = 'Alfred Sisley'\n",
    "\n",
    "DATAGEN_TRAIN = ImageDataGenerator(\n",
    "    rescale=1./255,\n",
    "    rotation_range=20,\n",
    "    width_shift_range=0.2,\n",
    "    height_shift_range=0.2,\n",
    "    shear_range=0.2,\n",
    "    zoom_range=0.2,\n",
    "    horizontal_flip=True,\n",
    "    vertical_flip=True,\n",
    "    data_format=\"channels_last\",\n",
    "    validation_split=0.10\n",
    ") # Train / Validation\n",
    "\n",
    "# Generator의 instance 생성 (Train)\n",
    "TRAIN_GENERATOR = DATAGEN_TRAIN.flow_from_dataframe(\n",
    "    dataframe=train_df,\n",
    "    x_col='img_path',\n",
    "    y_col='artist',\n",
    "    target_size=(244, 244),\n",
    "    class_mode='categorical',\n",
    "    batch_size=32,\n",
    "    shuffle=True,\n",
    "    subset=\"training\"\n",
    ")\n",
    "\n",
    "VALID_GENERATOR = DATAGEN_TRAIN.flow_from_dataframe(\n",
    "    dataframe=train_df,\n",
    "    x_col='img_path',\n",
    "    y_col='artist',\n",
    "    target_size=(244, 244),\n",
    "    class_mode='categorical',\n",
    "    batch_size=32,\n",
    "    shuffle=True,\n",
    "    subset=\"validation\"\n",
    ")"
   ]
  },
  {
   "cell_type": "code",
   "execution_count": 4,
   "metadata": {},
   "outputs": [],
   "source": [
    "# ResNet50 모델 로드\n",
    "base_model = VGG19(weights='imagenet', include_top=False, input_shape=(244, 244, 3), pooling=None, input_tensor=None)\n",
    "\n",
    "# 새로운 Fully Connected Layer 추가\n",
    "x = base_model.output\n",
    "x = Flatten()(x)\n",
    "x = Dropout(0.2)(x) # 드롭아웃 추가\n",
    "predictions = Dense(50, activation='softmax')(x)\n",
    "\n",
    "#전체 모델 구성\n",
    "model = Model(inputs=base_model.input, outputs=predictions)\n",
    "\n",
    "# 모델 컴파일\n",
    "model.compile(optimizer=Adam(lr=3e-4), loss='categorical_crossentropy', metrics=['accuracy'])"
   ]
  },
  {
   "cell_type": "code",
   "execution_count": 5,
   "metadata": {},
   "outputs": [],
   "source": [
    "from tensorflow.keras.callbacks import ModelCheckpoint, ReduceLROnPlateau\n",
    "CP = ModelCheckpoint(filepath='vgg19_model/' + 'VGG19-Sigmoid-{epoch:03d}-{accuracy:.4f}-{val_loss:.4f}.hdf5',\n",
    "                     monitor='val_loss', verbose=1, save_best_only=True, mode='min'\n",
    ")\n",
    "\n",
    "LR = ReduceLROnPlateau(monitor='val_loss', factor=0.5, patience=5, verbose=1, min_lr=0.00005)\n",
    "CALLBACK = [CP, LR]"
   ]
  },
  {
   "cell_type": "code",
   "execution_count": 6,
   "metadata": {
    "scrolled": false
   },
   "outputs": [
    {
     "name": "stdout",
     "output_type": "stream",
     "text": [
      "Train for 167 steps, validate for 19 steps\n",
      "Epoch 1/10\n",
      "166/167 [============================>.] - ETA: 0s - loss: 3.6382 - accuracy: 0.1108\n",
      "Epoch 00001: val_loss improved from inf to 3.51735, saving model to vgg19_model/VGG19-Sigmoid-001-0.1109-3.5173.hdf5\n",
      "167/167 [==============================] - 150s 899ms/step - loss: 3.6389 - accuracy: 0.1109 - val_loss: 3.5173 - val_accuracy: 0.1472\n",
      "Epoch 2/10\n",
      "166/167 [============================>.] - ETA: 0s - loss: 3.4139 - accuracy: 0.1549\n",
      "Epoch 00002: val_loss improved from 3.51735 to 3.37623, saving model to vgg19_model/VGG19-Sigmoid-002-0.1551-3.3762.hdf5\n",
      "167/167 [==============================] - 141s 846ms/step - loss: 3.4119 - accuracy: 0.1551 - val_loss: 3.3762 - val_accuracy: 0.1760\n",
      "Epoch 3/10\n",
      "166/167 [============================>.] - ETA: 0s - loss: 3.2690 - accuracy: 0.1762\n",
      "Epoch 00003: val_loss improved from 3.37623 to 3.27933, saving model to vgg19_model/VGG19-Sigmoid-003-0.1761-3.2793.hdf5\n",
      "167/167 [==============================] - 141s 847ms/step - loss: 3.2701 - accuracy: 0.1761 - val_loss: 3.2793 - val_accuracy: 0.1760\n",
      "Epoch 4/10\n",
      "166/167 [============================>.] - ETA: 0s - loss: 3.1564 - accuracy: 0.1929\n",
      "Epoch 00004: val_loss improved from 3.27933 to 3.15947, saving model to vgg19_model/VGG19-Sigmoid-004-0.1930-3.1595.hdf5\n",
      "167/167 [==============================] - 142s 851ms/step - loss: 3.1556 - accuracy: 0.1930 - val_loss: 3.1595 - val_accuracy: 0.2098\n",
      "Epoch 5/10\n",
      "166/167 [============================>.] - ETA: 0s - loss: 3.1017 - accuracy: 0.1959\n",
      "Epoch 00005: val_loss improved from 3.15947 to 3.08825, saving model to vgg19_model/VGG19-Sigmoid-005-0.1955-3.0882.hdf5\n",
      "167/167 [==============================] - 141s 847ms/step - loss: 3.1025 - accuracy: 0.1955 - val_loss: 3.0882 - val_accuracy: 0.2064\n",
      "Epoch 6/10\n",
      "166/167 [============================>.] - ETA: 0s - loss: 3.0285 - accuracy: 0.2046\n",
      "Epoch 00006: val_loss improved from 3.08825 to 3.07915, saving model to vgg19_model/VGG19-Sigmoid-006-0.2045-3.0791.hdf5\n",
      "167/167 [==============================] - 142s 848ms/step - loss: 3.0282 - accuracy: 0.2045 - val_loss: 3.0791 - val_accuracy: 0.2014\n",
      "Epoch 7/10\n",
      "166/167 [============================>.] - ETA: 0s - loss: 2.9584 - accuracy: 0.2175\n",
      "Epoch 00007: val_loss improved from 3.07915 to 3.00406, saving model to vgg19_model/VGG19-Sigmoid-007-0.2175-3.0041.hdf5\n",
      "167/167 [==============================] - 144s 860ms/step - loss: 2.9569 - accuracy: 0.2175 - val_loss: 3.0041 - val_accuracy: 0.2200\n",
      "Epoch 8/10\n",
      "166/167 [============================>.] - ETA: 0s - loss: 2.9052 - accuracy: 0.2317\n",
      "Epoch 00008: val_loss improved from 3.00406 to 2.94517, saving model to vgg19_model/VGG19-Sigmoid-008-0.2318-2.9452.hdf5\n",
      "167/167 [==============================] - 142s 852ms/step - loss: 2.9043 - accuracy: 0.2318 - val_loss: 2.9452 - val_accuracy: 0.2267\n",
      "Epoch 9/10\n",
      "166/167 [============================>.] - ETA: 0s - loss: 2.8651 - accuracy: 0.2388\n",
      "Epoch 00009: val_loss improved from 2.94517 to 2.91810, saving model to vgg19_model/VGG19-Sigmoid-009-0.2387-2.9181.hdf5\n",
      "167/167 [==============================] - 143s 855ms/step - loss: 2.8656 - accuracy: 0.2387 - val_loss: 2.9181 - val_accuracy: 0.2149\n",
      "Epoch 10/10\n",
      "166/167 [============================>.] - ETA: 0s - loss: 2.8278 - accuracy: 0.2366\n",
      "Epoch 00010: val_loss improved from 2.91810 to 2.84760, saving model to vgg19_model/VGG19-Sigmoid-010-0.2370-2.8476.hdf5\n",
      "167/167 [==============================] - 143s 856ms/step - loss: 2.8257 - accuracy: 0.2370 - val_loss: 2.8476 - val_accuracy: 0.2250\n"
     ]
    }
   ],
   "source": [
    "# 모델 학습\n",
    "history = model.fit(TRAIN_GENERATOR,\n",
    "                    epochs=10,\n",
    "                    validation_data=VALID_GENERATOR,\n",
    "                    callbacks=CALLBACK,\n",
    ")"
   ]
  },
  {
   "cell_type": "code",
   "execution_count": 7,
   "metadata": {},
   "outputs": [
    {
     "data": {
      "image/png": "[encoded data removed]",
      "text/plain": [
       "<Figure size 432x288 with 1 Axes>"
      ]
     },
     "metadata": {
      "needs_background": "light"
     },
     "output_type": "display_data"
    }
   ],
   "source": [
    "# 손실 그래프\n",
    "plt.plot(history.history['loss'])\n",
    "plt.plot(history.history['val_loss'])\n",
    "plt.title('Training Loss vs Validation Loss')\n",
    "plt.xlabel('Epochs')\n",
    "plt.ylabel('Loss')\n",
    "plt.legend(['loss', 'val_loss'])\n",
    "plt.show()"
   ]
  },
  {
   "cell_type": "code",
   "execution_count": 8,
   "metadata": {},
   "outputs": [
    {
     "data": {
      "image/png": "[encoded data removed]",
      "text/plain": [
       "<Figure size 432x288 with 1 Axes>"
      ]
     },
     "metadata": {
      "needs_background": "light"
     },
     "output_type": "display_data"
    }
   ],
   "source": [
    "# 정확도 그래프\n",
    "plt.plot([x * 100 for x in history.history['accuracy']])\n",
    "plt.plot([x * 100 for x in history.history['val_accuracy']])\n",
    "plt.title('Training Accuracy vs Validation Accuracy')\n",
    "plt.xlabel('Epochs')\n",
    "plt.ylabel('Accuracy (%)')\n",
    "plt.legend(['accuracy', 'val_accuracy'])\n",
    "plt.show()"
   ]
  },
  {
   "cell_type": "code",
   "execution_count": 9,
   "metadata": {},
   "outputs": [
    {
     "name": "stdout",
     "output_type": "stream",
     "text": [
      "19/19 [==============================] - 11s 553ms/step - loss: 2.8219 - accuracy: 0.2437\n",
      "Validation Loss: 2.821923\n",
      "Validation Accuracy: 0.244\n"
     ]
    }
   ],
   "source": [
    "# 최신 체크포인트 파일 찾기\n",
    "checkpoint_files = glob.glob('vgg19_model/*.hdf5')\n",
    "latest_checkpoint = max(checkpoint_files, key=os.path.getctime)\n",
    "\n",
    "# 모델에 최신 가중치 로드\n",
    "model.load_weights(latest_checkpoint)\n",
    "\n",
    "# Validation 데이터에 대한 정확도 확인\n",
    "val_loss, val_accuracy = model.evaluate(VALID_GENERATOR)\n",
    "print('Validation Loss:', round(val_loss, 6))\n",
    "print('Validation Accuracy:', round(val_accuracy, 3))"
   ]
  },
  {
   "cell_type": "code",
   "execution_count": 10,
   "metadata": {},
   "outputs": [
    {
     "name": "stdout",
     "output_type": "stream",
     "text": [
      "Found 12670 validated image filenames.\n",
      "vgg19_model\\VGG19-Sigmoid-010-0.2370-2.8476.hdf5\n",
      "396/396 [==============================] - 188s 475ms/step\n"
     ]
    },
    {
     "data": {
      "text/plain": [
       "array([[2.60663498e-03, 1.29586936e-03, 3.42517160e-02, ...,\n",
       "        6.88854838e-04, 9.38398167e-02, 2.31462345e-03],\n",
       "       [5.86059876e-04, 6.70453440e-03, 3.12266964e-02, ...,\n",
       "        6.39247801e-03, 4.60138358e-02, 6.12587901e-03],\n",
       "       [1.71680143e-03, 2.13218890e-02, 1.66846197e-02, ...,\n",
       "        1.48369616e-03, 7.48162121e-02, 1.06426207e-02],\n",
       "       ...,\n",
       "       [1.90252948e-04, 3.28865764e-03, 9.18321684e-03, ...,\n",
       "        4.54717192e-05, 8.87405574e-02, 5.77076105e-03],\n",
       "       [3.02992249e-03, 2.24349322e-03, 7.89622869e-03, ...,\n",
       "        9.66469888e-05, 1.14743382e-01, 1.03092808e-02],\n",
       "       [1.14685616e-04, 3.06392484e-03, 7.70290103e-03, ...,\n",
       "        2.34230800e-04, 2.66326871e-02, 1.12614711e-03]], dtype=float32)"
      ]
     },
     "metadata": {},
     "output_type": "display_data"
    }
   ],
   "source": [
    "test_df = pd.read_csv('test.csv')\n",
    "\n",
    "TEST_GENERATOR = DATAGEN_TRAIN.flow_from_dataframe(\n",
    "    dataframe=test_df,\n",
    "    x_col='img_path',\n",
    "    y_col='id',\n",
    "    target_size=(244, 244),\n",
    "    class_mode='raw',\n",
    "    batch_size=32,\n",
    "    shuffle=False,\n",
    ")\n",
    "\n",
    "TEST_GENERATOR.reset()\n",
    "\n",
    "# 최신 체크포인트 파일 찾기\n",
    "checkpoint_files = glob.glob('vgg19_model/*.hdf5')\n",
    "latest_checkpoint = max(checkpoint_files, key=os.path.getctime)\n",
    "\n",
    "print(latest_checkpoint)\n",
    "\n",
    "# 모델에 최신 가중치 로드\n",
    "model.load_weights(latest_checkpoint)\n",
    "\n",
    "test_prediction = model.predict(TEST_GENERATOR, verbose=1)\n",
    "display(test_prediction)"
   ]
  },
  {
   "cell_type": "code",
   "execution_count": 11,
   "metadata": {},
   "outputs": [
    {
     "data": {
      "text/plain": [
       "array([15, 10, 10, ..., 10, 46, 13], dtype=int64)"
      ]
     },
     "execution_count": 11,
     "metadata": {},
     "output_type": "execute_result"
    }
   ],
   "source": [
    "test_prediction = np.argmax(test_prediction, axis = 1)\n",
    "test_prediction"
   ]
  },
  {
   "cell_type": "code",
   "execution_count": 12,
   "metadata": {},
   "outputs": [
    {
     "data": {
      "text/html": [
       "<div>\n",
       "<style scoped>\n",
       "    .dataframe tbody tr th:only-of-type {\n",
       "        vertical-align: middle;\n",
       "    }\n",
       "\n",
       "    .dataframe tbody tr th {\n",
       "        vertical-align: top;\n",
       "    }\n",
       "\n",
       "    .dataframe thead th {\n",
       "        text-align: right;\n",
       "    }\n",
       "</style>\n",
       "<table border=\"1\" class=\"dataframe\">\n",
       "  <thead>\n",
       "    <tr style=\"text-align: right;\">\n",
       "      <th></th>\n",
       "      <th>artist</th>\n",
       "    </tr>\n",
       "  </thead>\n",
       "  <tbody>\n",
       "    <tr>\n",
       "      <th>0</th>\n",
       "      <td>15</td>\n",
       "    </tr>\n",
       "    <tr>\n",
       "      <th>1</th>\n",
       "      <td>10</td>\n",
       "    </tr>\n",
       "    <tr>\n",
       "      <th>2</th>\n",
       "      <td>10</td>\n",
       "    </tr>\n",
       "    <tr>\n",
       "      <th>3</th>\n",
       "      <td>0</td>\n",
       "    </tr>\n",
       "    <tr>\n",
       "      <th>4</th>\n",
       "      <td>10</td>\n",
       "    </tr>\n",
       "    <tr>\n",
       "      <th>...</th>\n",
       "      <td>...</td>\n",
       "    </tr>\n",
       "    <tr>\n",
       "      <th>12665</th>\n",
       "      <td>1</td>\n",
       "    </tr>\n",
       "    <tr>\n",
       "      <th>12666</th>\n",
       "      <td>10</td>\n",
       "    </tr>\n",
       "    <tr>\n",
       "      <th>12667</th>\n",
       "      <td>10</td>\n",
       "    </tr>\n",
       "    <tr>\n",
       "      <th>12668</th>\n",
       "      <td>46</td>\n",
       "    </tr>\n",
       "    <tr>\n",
       "      <th>12669</th>\n",
       "      <td>13</td>\n",
       "    </tr>\n",
       "  </tbody>\n",
       "</table>\n",
       "<p>12670 rows × 1 columns</p>\n",
       "</div>"
      ],
      "text/plain": [
       "       artist\n",
       "0          15\n",
       "1          10\n",
       "2          10\n",
       "3           0\n",
       "4          10\n",
       "...       ...\n",
       "12665       1\n",
       "12666      10\n",
       "12667      10\n",
       "12668      46\n",
       "12669      13\n",
       "\n",
       "[12670 rows x 1 columns]"
      ]
     },
     "execution_count": 12,
     "metadata": {},
     "output_type": "execute_result"
    }
   ],
   "source": [
    "test_prediction_df = pd.DataFrame(test_prediction, columns = ['artist'])\n",
    "test_prediction_df"
   ]
  },
  {
   "cell_type": "code",
   "execution_count": 13,
   "metadata": {},
   "outputs": [
    {
     "data": {
      "text/html": [
       "<div>\n",
       "<style scoped>\n",
       "    .dataframe tbody tr th:only-of-type {\n",
       "        vertical-align: middle;\n",
       "    }\n",
       "\n",
       "    .dataframe tbody tr th {\n",
       "        vertical-align: top;\n",
       "    }\n",
       "\n",
       "    .dataframe thead th {\n",
       "        text-align: right;\n",
       "    }\n",
       "</style>\n",
       "<table border=\"1\" class=\"dataframe\">\n",
       "  <thead>\n",
       "    <tr style=\"text-align: right;\">\n",
       "      <th></th>\n",
       "      <th>name</th>\n",
       "      <th>num</th>\n",
       "    </tr>\n",
       "  </thead>\n",
       "  <tbody>\n",
       "    <tr>\n",
       "      <th>0</th>\n",
       "      <td>Amedeo Modigliani</td>\n",
       "      <td>0</td>\n",
       "    </tr>\n",
       "    <tr>\n",
       "      <th>1</th>\n",
       "      <td>Vasiliy Kandinskiy</td>\n",
       "      <td>1</td>\n",
       "    </tr>\n",
       "    <tr>\n",
       "      <th>2</th>\n",
       "      <td>Diego Rivera</td>\n",
       "      <td>2</td>\n",
       "    </tr>\n",
       "    <tr>\n",
       "      <th>3</th>\n",
       "      <td>Claude Monet</td>\n",
       "      <td>3</td>\n",
       "    </tr>\n",
       "    <tr>\n",
       "      <th>4</th>\n",
       "      <td>Rene Magritte</td>\n",
       "      <td>4</td>\n",
       "    </tr>\n",
       "  </tbody>\n",
       "</table>\n",
       "</div>"
      ],
      "text/plain": [
       "                 name  num\n",
       "0   Amedeo Modigliani    0\n",
       "1  Vasiliy Kandinskiy    1\n",
       "2        Diego Rivera    2\n",
       "3        Claude Monet    3\n",
       "4       Rene Magritte    4"
      ]
     },
     "execution_count": 13,
     "metadata": {},
     "output_type": "execute_result"
    }
   ],
   "source": [
    "artist_info = pd.read_csv(\"./artists_info.csv\")\n",
    "new_df = pd.DataFrame(artist_info['name'])\n",
    "new_df['num'] = np.arange(50)\n",
    "new_df.head()"
   ]
  },
  {
   "cell_type": "code",
   "execution_count": 14,
   "metadata": {},
   "outputs": [
    {
     "data": {
      "text/plain": [
       "[15, 10, 10, 0, 10]"
      ]
     },
     "execution_count": 14,
     "metadata": {},
     "output_type": "execute_result"
    }
   ],
   "source": [
    "test_prediction_dic = test_prediction_df.to_dict()\n",
    "test_prediction_values = test_prediction_dic['artist'].values()\n",
    "test_prediction_list = list(test_prediction_values)\n",
    "test_prediction_list[:5]"
   ]
  },
  {
   "cell_type": "code",
   "execution_count": 15,
   "metadata": {},
   "outputs": [
    {
     "data": {
      "text/plain": [
       "{0: 'Amedeo Modigliani',\n",
       " 1: 'Vasiliy Kandinskiy',\n",
       " 2: 'Diego Rivera',\n",
       " 3: 'Claude Monet',\n",
       " 4: 'Rene Magritte',\n",
       " 5: 'Salvador Dali',\n",
       " 6: 'Edouard Manet',\n",
       " 7: 'Andrei Rublev',\n",
       " 8: 'Vincent van Gogh',\n",
       " 9: 'Gustav Klimt',\n",
       " 10: 'Hieronymus Bosch',\n",
       " 11: 'Kazimir Malevich',\n",
       " 12: 'Mikhail Vrubel',\n",
       " 13: 'Pablo Picasso',\n",
       " 14: 'Peter Paul Rubens',\n",
       " 15: 'Pierre-Auguste Renoir',\n",
       " 16: 'Francisco Goya',\n",
       " 17: 'Frida Kahlo',\n",
       " 18: 'El Greco',\n",
       " 19: 'Albrecht Dürer',\n",
       " 20: 'Alfred Sisley',\n",
       " 21: 'Pieter Bruegel',\n",
       " 22: 'Marc Chagall',\n",
       " 23: 'Giotto di Bondone',\n",
       " 24: 'Sandro Botticelli',\n",
       " 25: 'Caravaggio',\n",
       " 26: 'Leonardo da Vinci',\n",
       " 27: 'Diego Velazquez',\n",
       " 28: 'Henri Matisse',\n",
       " 29: 'Jan van Eyck',\n",
       " 30: 'Edgar Degas',\n",
       " 31: 'Rembrandt',\n",
       " 32: 'Titian',\n",
       " 33: 'Henri de Toulouse-Lautrec',\n",
       " 34: 'Gustave Courbet',\n",
       " 35: 'Camille Pissarro',\n",
       " 36: 'William Turner',\n",
       " 37: 'Edvard Munch',\n",
       " 38: 'Paul Cezanne',\n",
       " 39: 'Eugene Delacroix',\n",
       " 40: 'Henri Rousseau',\n",
       " 41: 'Georges Seurat',\n",
       " 42: 'Paul Klee',\n",
       " 43: 'Piet Mondrian',\n",
       " 44: 'Joan Miro',\n",
       " 45: 'Andy Warhol',\n",
       " 46: 'Paul Gauguin',\n",
       " 47: 'Raphael',\n",
       " 48: 'Michelangelo',\n",
       " 49: 'Jackson Pollock'}"
      ]
     },
     "execution_count": 15,
     "metadata": {},
     "output_type": "execute_result"
    }
   ],
   "source": [
    "artist_info_dic = artist_info['name'].to_dict()\n",
    "artist_info_dic"
   ]
  },
  {
   "cell_type": "code",
   "execution_count": 16,
   "metadata": {},
   "outputs": [
    {
     "data": {
      "text/plain": [
       "['Pierre-Auguste Renoir',\n",
       " 'Hieronymus Bosch',\n",
       " 'Hieronymus Bosch',\n",
       " 'Amedeo Modigliani',\n",
       " 'Hieronymus Bosch']"
      ]
     },
     "execution_count": 16,
     "metadata": {},
     "output_type": "execute_result"
    }
   ],
   "source": [
    "artist_name = []\n",
    "for i in test_prediction_list:\n",
    "    artist_name.append(artist_info_dic[i])\n",
    "artist_name[:5]"
   ]
  },
  {
   "cell_type": "code",
   "execution_count": 17,
   "metadata": {},
   "outputs": [
    {
     "data": {
      "text/html": [
       "<div>\n",
       "<style scoped>\n",
       "    .dataframe tbody tr th:only-of-type {\n",
       "        vertical-align: middle;\n",
       "    }\n",
       "\n",
       "    .dataframe tbody tr th {\n",
       "        vertical-align: top;\n",
       "    }\n",
       "\n",
       "    .dataframe thead th {\n",
       "        text-align: right;\n",
       "    }\n",
       "</style>\n",
       "<table border=\"1\" class=\"dataframe\">\n",
       "  <thead>\n",
       "    <tr style=\"text-align: right;\">\n",
       "      <th></th>\n",
       "      <th>id</th>\n",
       "    </tr>\n",
       "  </thead>\n",
       "  <tbody>\n",
       "    <tr>\n",
       "      <th>0</th>\n",
       "      <td>TEST_00000</td>\n",
       "    </tr>\n",
       "    <tr>\n",
       "      <th>1</th>\n",
       "      <td>TEST_00001</td>\n",
       "    </tr>\n",
       "    <tr>\n",
       "      <th>2</th>\n",
       "      <td>TEST_00002</td>\n",
       "    </tr>\n",
       "    <tr>\n",
       "      <th>3</th>\n",
       "      <td>TEST_00003</td>\n",
       "    </tr>\n",
       "    <tr>\n",
       "      <th>4</th>\n",
       "      <td>TEST_00004</td>\n",
       "    </tr>\n",
       "  </tbody>\n",
       "</table>\n",
       "</div>"
      ],
      "text/plain": [
       "           id\n",
       "0  TEST_00000\n",
       "1  TEST_00001\n",
       "2  TEST_00002\n",
       "3  TEST_00003\n",
       "4  TEST_00004"
      ]
     },
     "execution_count": 17,
     "metadata": {},
     "output_type": "execute_result"
    }
   ],
   "source": [
    "submission_df = pd.read_csv(\"./sample_submission.csv\")\n",
    "submission_df = submission_df.drop('artist', axis=1)\n",
    "submission_df.head()"
   ]
  },
  {
   "cell_type": "code",
   "execution_count": 18,
   "metadata": {},
   "outputs": [
    {
     "data": {
      "text/html": [
       "<div>\n",
       "<style scoped>\n",
       "    .dataframe tbody tr th:only-of-type {\n",
       "        vertical-align: middle;\n",
       "    }\n",
       "\n",
       "    .dataframe tbody tr th {\n",
       "        vertical-align: top;\n",
       "    }\n",
       "\n",
       "    .dataframe thead th {\n",
       "        text-align: right;\n",
       "    }\n",
       "</style>\n",
       "<table border=\"1\" class=\"dataframe\">\n",
       "  <thead>\n",
       "    <tr style=\"text-align: right;\">\n",
       "      <th></th>\n",
       "      <th>id</th>\n",
       "      <th>artist</th>\n",
       "    </tr>\n",
       "  </thead>\n",
       "  <tbody>\n",
       "    <tr>\n",
       "      <th>0</th>\n",
       "      <td>TEST_00000</td>\n",
       "      <td>Pierre-Auguste Renoir</td>\n",
       "    </tr>\n",
       "    <tr>\n",
       "      <th>1</th>\n",
       "      <td>TEST_00001</td>\n",
       "      <td>Hieronymus Bosch</td>\n",
       "    </tr>\n",
       "    <tr>\n",
       "      <th>2</th>\n",
       "      <td>TEST_00002</td>\n",
       "      <td>Hieronymus Bosch</td>\n",
       "    </tr>\n",
       "    <tr>\n",
       "      <th>3</th>\n",
       "      <td>TEST_00003</td>\n",
       "      <td>Amedeo Modigliani</td>\n",
       "    </tr>\n",
       "    <tr>\n",
       "      <th>4</th>\n",
       "      <td>TEST_00004</td>\n",
       "      <td>Hieronymus Bosch</td>\n",
       "    </tr>\n",
       "  </tbody>\n",
       "</table>\n",
       "</div>"
      ],
      "text/plain": [
       "           id                 artist\n",
       "0  TEST_00000  Pierre-Auguste Renoir\n",
       "1  TEST_00001       Hieronymus Bosch\n",
       "2  TEST_00002       Hieronymus Bosch\n",
       "3  TEST_00003      Amedeo Modigliani\n",
       "4  TEST_00004       Hieronymus Bosch"
      ]
     },
     "execution_count": 18,
     "metadata": {},
     "output_type": "execute_result"
    }
   ],
   "source": [
    "submission_df['artist'] = artist_name\n",
    "submission_df.head()"
   ]
  },
  {
   "cell_type": "code",
   "execution_count": 19,
   "metadata": {},
   "outputs": [],
   "source": [
    "submission_df.to_csv(\"vgg19_submission.csv\", index=False)"
   ]
  },
  {
   "cell_type": "code",
   "execution_count": null,
   "metadata": {},
   "outputs": [],
   "source": []
  }
 ],
 "metadata": {
  "kernelspec": {
   "display_name": "Python 3 (ipykernel)",
   "language": "python",
   "name": "python3"
  },
  "language_info": {
   "codemirror_mode": {
    "name": "ipython",
    "version": 3
   },
   "file_extension": ".py",
   "mimetype": "text/x-python",
   "name": "python",
   "nbconvert_exporter": "python",
   "pygments_lexer": "ipython3",
   "version": "3.10.9"
  }
 },
 "nbformat": 4,
 "nbformat_minor": 4
}
