{
 "cells": [
  {
   "cell_type": "code",
   "execution_count": 1,
   "id": "developmental-photograph",
   "metadata": {},
   "outputs": [
    {
     "name": "stdout",
     "output_type": "stream",
     "text": [
      "[name: \"/device:CPU:0\"\n",
      "device_type: \"CPU\"\n",
      "memory_limit: 268435456\n",
      "locality {\n",
      "}\n",
      "incarnation: 10004059802032841200\n",
      ", name: \"/device:GPU:0\"\n",
      "device_type: \"GPU\"\n",
      "memory_limit: 15134713447\n",
      "locality {\n",
      "  bus_id: 1\n",
      "  links {\n",
      "  }\n",
      "}\n",
      "incarnation: 13138026540331066339\n",
      "physical_device_desc: \"device: 0, name: Quadro RTX 5000, pci bus id: 0000:65:00.0, compute capability: 7.5\"\n",
      "]\n"
     ]
    }
   ],
   "source": [
    "from tensorflow.python.client import device_lib\n",
    "print(device_lib.list_local_devices())"
   ]
  },
  {
   "cell_type": "code",
   "execution_count": 2,
   "id": "smoking-content",
   "metadata": {},
   "outputs": [],
   "source": [
    "import pandas as pd\n",
    "import numpy as np\n",
    "import tensorflow as tf\n",
    "import os\n",
    "import cv2\n",
    "import glob\n",
    "from sklearn.model_selection import train_test_split\n",
    "from sklearn.preprocessing import LabelEncoder\n",
    "from sklearn.utils import class_weight\n",
    "from tensorflow.keras.applications import InceptionV3\n",
    "from tensorflow.keras.layers import Dense, Flatten, Dropout\n",
    "from tensorflow.keras.models import Model\n",
    "from tensorflow.keras.optimizers import Adam\n",
    "import matplotlib.pyplot as plt"
   ]
  },
  {
   "cell_type": "code",
   "execution_count": 3,
   "id": "isolated-travel",
   "metadata": {},
   "outputs": [
    {
     "name": "stdout",
     "output_type": "stream",
     "text": [
      "size of train_df: 5911\n",
      "Found 5320 validated image filenames belonging to 50 classes.\n",
      "Found 591 validated image filenames belonging to 50 classes.\n"
     ]
    }
   ],
   "source": [
    "from tensorflow.keras.preprocessing.image import ImageDataGenerator\n",
    "\n",
    "train_df = pd.read_csv('./train.csv')\n",
    "print(\"size of train_df:\", len(train_df))\n",
    "\n",
    "# 데이터 노이즈 수정\n",
    "train_df.loc[train_df['id'] == 3896, 'artist'] = 'Titian'\n",
    "train_df.loc[train_df['id'] == 3986, 'artist'] = 'Alfred Sisley'\n",
    "\n",
    "DATAGEN_TRAIN = ImageDataGenerator(\n",
    "    rescale=1./255,\n",
    "    rotation_range=20,\n",
    "    width_shift_range=0.2,\n",
    "    height_shift_range=0.2,\n",
    "    shear_range=0.2,\n",
    "    zoom_range=0.2,\n",
    "    horizontal_flip=True,\n",
    "    vertical_flip=True,\n",
    "    data_format=\"channels_last\",\n",
    "    validation_split=0.10\n",
    ") # Train / Validation\n",
    "\n",
    "TRAIN_GENERATOR = DATAGEN_TRAIN.flow_from_dataframe(\n",
    "    dataframe=train_df,\n",
    "    x_col='img_path',\n",
    "    y_col='artist',\n",
    "    target_size=(244, 244),\n",
    "    class_mode='categorical',\n",
    "    batch_size=32,\n",
    "    shuffle=True,\n",
    "    subset=\"training\"\n",
    ")\n",
    "\n",
    "VALID_GENERATOR = DATAGEN_TRAIN.flow_from_dataframe(\n",
    "    dataframe=train_df,\n",
    "    x_col='img_path',\n",
    "    y_col='artist',\n",
    "    target_size=(244, 244),\n",
    "    class_mode='categorical',\n",
    "    batch_size=32,\n",
    "    shuffle=True,\n",
    "    subset=\"validation\"\n",
    ")"
   ]
  },
  {
   "cell_type": "code",
   "execution_count": 4,
   "id": "regional-recovery",
   "metadata": {},
   "outputs": [
    {
     "data": {
      "text/plain": [
       "Vincent van Gogh             629\n",
       "Edgar Degas                  490\n",
       "Pablo Picasso                303\n",
       "Pierre-Auguste Renoir        233\n",
       "Albrecht Du rer              220\n",
       "Paul Gauguin                 220\n",
       "Francisco Goya               204\n",
       "Rembrandt                    181\n",
       "Titian                       173\n",
       "Marc Chagall                 173\n",
       "Alfred Sisley                164\n",
       "Paul Klee                    142\n",
       "Rene Magritte                137\n",
       "Amedeo Modigliani            132\n",
       "Andy Warhol                  132\n",
       "Henri Matisse                121\n",
       "Sandro Botticelli            120\n",
       "Mikhail Vrubel               118\n",
       "Hieronymus Bosch             115\n",
       "Leonardo da Vinci            101\n",
       "Salvador Dali                 99\n",
       "Peter Paul Rubens             97\n",
       "Kazimir Malevich              91\n",
       "Pieter Bruegel                85\n",
       "Frida Kahlo                   84\n",
       "Diego Velazquez               81\n",
       "Joan Miro                     76\n",
       "Andrei Rublev                 74\n",
       "Raphael                       73\n",
       "Giotto di Bondone             72\n",
       "Gustav Klimt                  69\n",
       "El Greco                      65\n",
       "Camille Pissarro              64\n",
       "Jan van Eyck                  64\n",
       "Edouard Manet                 62\n",
       "Henri de Toulouse-Lautrec     61\n",
       "Vasiliy Kandinskiy            60\n",
       "Claude Monet                  59\n",
       "Piet Mondrian                 59\n",
       "Henri Rousseau                52\n",
       "Diego Rivera                  50\n",
       "Edvard Munch                  44\n",
       "William Turner                44\n",
       "Gustave Courbet               42\n",
       "Michelangelo                  34\n",
       "Paul Cezanne                  33\n",
       "Caravaggio                    32\n",
       "Georges Seurat                30\n",
       "Eugene Delacroix              26\n",
       "Jackson Pollock               21\n",
       "Name: artist, dtype: int64"
      ]
     },
     "metadata": {},
     "output_type": "display_data"
    }
   ],
   "source": [
    "df = train_df.copy()\n",
    "df['artist'].apply(lambda s: str(s).split('|'))\n",
    "label_freq = df['artist'].apply(lambda s: str(s).split('|')).explode().value_counts().sort_values(ascending=False)\n",
    "display(label_freq)"
   ]
  },
  {
   "cell_type": "code",
   "execution_count": 5,
   "id": "pacific-studio",
   "metadata": {},
   "outputs": [
    {
     "data": {
      "text/plain": [
       "{0: 0.5373636363636364,\n",
       " 1: 0.7208536585365853,\n",
       " 2: 0.8956060606060606,\n",
       " 3: 1.5975675675675676,\n",
       " 4: 0.8956060606060606,\n",
       " 5: 1.8471875,\n",
       " 6: 3.694375,\n",
       " 7: 2.003728813559322,\n",
       " 8: 2.3644,\n",
       " 9: 1.4595061728395062,\n",
       " 10: 0.24126530612244898,\n",
       " 11: 1.906774193548387,\n",
       " 12: 2.686818181818182,\n",
       " 13: 1.8187692307692307,\n",
       " 14: 4.546923076923077,\n",
       " 15: 0.5795098039215686,\n",
       " 16: 1.4073809523809524,\n",
       " 17: 3.9406666666666665,\n",
       " 18: 1.6419444444444444,\n",
       " 19: 1.7133333333333334,\n",
       " 20: 2.814761904761905,\n",
       " 21: 0.9770247933884297,\n",
       " 22: 2.2734615384615386,\n",
       " 23: 1.9380327868852458,\n",
       " 24: 1.028,\n",
       " 25: 5.62952380952381,\n",
       " 26: 1.8471875,\n",
       " 27: 1.5555263157894736,\n",
       " 28: 1.299120879120879,\n",
       " 29: 1.1704950495049504,\n",
       " 30: 0.6833526011560693,\n",
       " 31: 3.4770588235294118,\n",
       " 32: 1.001864406779661,\n",
       " 33: 0.39016501650165014,\n",
       " 34: 3.5824242424242425,\n",
       " 35: 0.5373636363636364,\n",
       " 36: 0.8325352112676057,\n",
       " 37: 1.218762886597938,\n",
       " 38: 0.5073819742489271,\n",
       " 39: 2.003728813559322,\n",
       " 40: 1.3908235294117648,\n",
       " 41: 1.6194520547945206,\n",
       " 42: 0.6531491712707183,\n",
       " 43: 0.862919708029197,\n",
       " 44: 1.1941414141414142,\n",
       " 45: 0.9851666666666666,\n",
       " 46: 0.6833526011560693,\n",
       " 47: 1.9703333333333333,\n",
       " 48: 0.18794912559618443,\n",
       " 49: 2.686818181818182}"
      ]
     },
     "execution_count": 5,
     "metadata": {},
     "output_type": "execute_result"
    }
   ],
   "source": [
    "artist_df = df.copy()\n",
    "label_encoder = LabelEncoder()\n",
    "labels_encoded = label_encoder.fit_transform(df['artist'].values)\n",
    "class_weights = class_weight.compute_class_weight('balanced', classes=np.unique(labels_encoded), y=labels_encoded)\n",
    "class_weights_dic = {i: class_weights[i] for i in range(len(class_weights))}\n",
    "class_weights_dic"
   ]
  },
  {
   "cell_type": "code",
   "execution_count": 6,
   "id": "included-motorcycle",
   "metadata": {},
   "outputs": [],
   "source": [
    "# ResNet50 모델 로드\n",
    "base_model = InceptionV3(weights='imagenet', include_top=False, input_shape=(244, 244, 3), pooling=None, input_tensor=None)\n",
    "\n",
    "# 새로운 Fully Connected Layer 추가\n",
    "x = base_model.output\n",
    "x = Flatten()(x)\n",
    "x = Dropout(0.2)(x) # 드롭아웃 추가\n",
    "predictions = Dense(50, activation='softmax')(x)\n",
    "\n",
    "#전체 모델 구성\n",
    "model = Model(inputs=base_model.input, outputs=predictions)\n",
    "\n",
    "# 모델 컴파일\n",
    "model.compile(optimizer=Adam(lr=3e-4), loss='categorical_crossentropy', metrics=['accuracy'])"
   ]
  },
  {
   "cell_type": "code",
   "execution_count": 7,
   "id": "constitutional-honey",
   "metadata": {},
   "outputs": [],
   "source": [
    "from tensorflow.keras.callbacks import ModelCheckpoint, ReduceLROnPlateau\n",
    "CP = ModelCheckpoint(filepath='googlenet_model/' + 'GOOGLENET-Sigmoid-{epoch:03d}-{accuracy:.4f}-{val_loss:.4f}.hdf5',\n",
    "                     monitor='val_loss', verbose=1, save_best_only=True, mode='min'\n",
    ")\n",
    "\n",
    "LR = ReduceLROnPlateau(monitor='val_loss', factor=0.5, patience=5, verbose=1, min_lr=0.00005)\n",
    "CALLBACK = [CP, LR]"
   ]
  },
  {
   "cell_type": "code",
   "execution_count": 8,
   "id": "directed-realtor",
   "metadata": {
    "scrolled": false
   },
   "outputs": [
    {
     "name": "stdout",
     "output_type": "stream",
     "text": [
      "Train for 167 steps, validate for 19 steps\n",
      "Epoch 1/20\n",
      "167/167 [==============================] - 147s 882ms/step - loss: 3.1073 - accuracy: 0.2748 - val_loss: 4.3301 - val_accuracy: 0.1472\n",
      "Epoch 2/20\n",
      "167/167 [==============================] - 115s 686ms/step - loss: 1.8077 - accuracy: 0.5055 - val_loss: 3.7661 - val_accuracy: 0.2555\n",
      "Epoch 3/20\n",
      "167/167 [==============================] - 115s 688ms/step - loss: 1.3772 - accuracy: 0.6100 - val_loss: 2.8257 - val_accuracy: 0.3858\n",
      "Epoch 4/20\n",
      "167/167 [==============================] - 114s 681ms/step - loss: 1.0729 - accuracy: 0.6789 - val_loss: 2.4068 - val_accuracy: 0.4839\n",
      "Epoch 5/20\n",
      "167/167 [==============================] - 222s 1s/step - loss: 0.9039 - accuracy: 0.7312 - val_loss: 2.7191 - val_accuracy: 0.4552\n",
      "Epoch 6/20\n",
      "167/167 [==============================] - 124s 743ms/step - loss: 0.7376 - accuracy: 0.7735 - val_loss: 2.3797 - val_accuracy: 0.5025\n",
      "Epoch 7/20\n",
      "167/167 [==============================] - 115s 687ms/step - loss: 0.6170 - accuracy: 0.8041 - val_loss: 3.6256 - val_accuracy: 0.3909\n",
      "Epoch 8/20\n",
      "167/167 [==============================] - 115s 687ms/step - loss: 0.5338 - accuracy: 0.8335 - val_loss: 2.3671 - val_accuracy: 0.5516\n",
      "Epoch 9/20\n",
      "167/167 [==============================] - 114s 685ms/step - loss: 0.4566 - accuracy: 0.8585 - val_loss: 3.8294 - val_accuracy: 0.3841\n",
      "Epoch 10/20\n",
      "167/167 [==============================] - 115s 687ms/step - loss: 0.4422 - accuracy: 0.8607 - val_loss: 2.6481 - val_accuracy: 0.5296\n",
      "Epoch 11/20\n",
      "167/167 [==============================] - 115s 687ms/step - loss: 0.3568 - accuracy: 0.8827 - val_loss: 3.4795 - val_accuracy: 0.4179\n",
      "Epoch 12/20\n",
      "167/167 [==============================] - 115s 687ms/step - loss: 0.3481 - accuracy: 0.8915 - val_loss: 2.8196 - val_accuracy: 0.5567\n",
      "Epoch 13/20\n",
      "167/167 [==============================] - 115s 686ms/step - loss: 0.3363 - accuracy: 0.8944 - val_loss: 3.1763 - val_accuracy: 0.5076\n",
      "Epoch 14/20\n",
      "167/167 [==============================] - 114s 685ms/step - loss: 0.3225 - accuracy: 0.9009 - val_loss: 3.1195 - val_accuracy: 0.5161\n",
      "Epoch 15/20\n",
      "167/167 [==============================] - 114s 685ms/step - loss: 0.2853 - accuracy: 0.9102 - val_loss: 3.1412 - val_accuracy: 0.4924\n",
      "Epoch 16/20\n",
      "167/167 [==============================] - 115s 687ms/step - loss: 0.2586 - accuracy: 0.9148 - val_loss: 3.0053 - val_accuracy: 0.4924\n",
      "Epoch 17/20\n",
      "167/167 [==============================] - 114s 685ms/step - loss: 0.2447 - accuracy: 0.9237 - val_loss: 3.7193 - val_accuracy: 0.4890\n",
      "Epoch 18/20\n",
      "167/167 [==============================] - 114s 685ms/step - loss: 0.2175 - accuracy: 0.9344 - val_loss: 2.3115 - val_accuracy: 0.6159\n",
      "Epoch 19/20\n",
      "167/167 [==============================] - 115s 687ms/step - loss: 0.2697 - accuracy: 0.9201 - val_loss: 3.6478 - val_accuracy: 0.4992\n",
      "Epoch 20/20\n",
      "167/167 [==============================] - 115s 688ms/step - loss: 0.2165 - accuracy: 0.9301 - val_loss: 2.6073 - val_accuracy: 0.5973\n"
     ]
    }
   ],
   "source": [
    "# 모델 학습\n",
    "history = model.fit(\n",
    "    TRAIN_GENERATOR,\n",
    "    epochs=20,\n",
    "    shuffle=True,\n",
    "    validation_data=VALID_GENERATOR,\n",
    "    class_weight=class_weights_dic\n",
    ")"
   ]
  },
  {
   "cell_type": "code",
   "execution_count": 9,
   "id": "wrong-timeline",
   "metadata": {},
   "outputs": [
    {
     "data": {
      "image/png": "[encoded data removed]",
      "text/plain": [
       "<Figure size 432x288 with 1 Axes>"
      ]
     },
     "metadata": {
      "needs_background": "light"
     },
     "output_type": "display_data"
    }
   ],
   "source": [
    "# 손실 그래프\n",
    "plt.plot(history.history['loss'])\n",
    "plt.plot(history.history['val_loss'])\n",
    "plt.title('Training Loss vs Validation Loss')\n",
    "plt.xlabel('Epochs')\n",
    "plt.ylabel('Loss')\n",
    "plt.legend(['loss', 'val_loss'])\n",
    "plt.show()"
   ]
  },
  {
   "cell_type": "code",
   "execution_count": 10,
   "id": "special-inventory",
   "metadata": {},
   "outputs": [
    {
     "data": {
      "image/png": "[encoded data removed]",
      "text/plain": [
       "<Figure size 432x288 with 1 Axes>"
      ]
     },
     "metadata": {
      "needs_background": "light"
     },
     "output_type": "display_data"
    }
   ],
   "source": [
    "# 정확도 그래프\n",
    "plt.plot([x * 100 for x in history.history['accuracy']])\n",
    "plt.plot([x * 100 for x in history.history['val_accuracy']])\n",
    "plt.title('Training Accuracy vs Validation Accuracy')\n",
    "plt.xlabel('Epochs')\n",
    "plt.ylabel('Accuracy (%)')\n",
    "plt.legend(['accuracy', 'val_accuracy'])\n",
    "plt.show()"
   ]
  },
  {
   "cell_type": "code",
   "execution_count": 11,
   "id": "driving-adrian",
   "metadata": {},
   "outputs": [
    {
     "name": "stdout",
     "output_type": "stream",
     "text": [
      "19/19 [==============================] - 9s 490ms/step - loss: 1.6660 - accuracy: 0.6582\n",
      "Validation Loss: 1.666012\n",
      "Validation Accuracy: 0.658\n"
     ]
    }
   ],
   "source": [
    "# 최신 체크포인트 파일 찾기\n",
    "checkpoint_files = glob.glob('googlenet_model/*.hdf5')\n",
    "latest_checkpoint = max(checkpoint_files, key=os.path.getctime)\n",
    "\n",
    "# 모델에 최신 가중치 로드\n",
    "model.load_weights(latest_checkpoint)\n",
    "\n",
    "# Validation 데이터에 대한 정확도 확인\n",
    "val_loss, val_accuracy = model.evaluate(VALID_GENERATOR)\n",
    "print('Validation Loss:', round(val_loss, 6))\n",
    "print('Validation Accuracy:', round(val_accuracy, 3))"
   ]
  },
  {
   "cell_type": "code",
   "execution_count": 12,
   "id": "fixed-jersey",
   "metadata": {},
   "outputs": [
    {
     "name": "stdout",
     "output_type": "stream",
     "text": [
      "Found 12670 validated image filenames.\n",
      "googlenet_model\\GOOGLENET-Sigmoid-012-0.9432-1.6724.hdf5\n",
      "396/396 [==============================] - 461s 1s/step\n"
     ]
    },
    {
     "data": {
      "text/plain": [
       "array([[2.82397377e-05, 8.73598619e-05, 6.58060401e-07, ...,\n",
       "        1.85260160e-06, 1.43945344e-05, 1.54906800e-07],\n",
       "       [1.16588205e-06, 1.49231809e-08, 1.36062823e-04, ...,\n",
       "        1.52644635e-08, 1.05070085e-05, 1.11045474e-05],\n",
       "       [2.27737706e-03, 5.59480462e-08, 1.06361256e-07, ...,\n",
       "        1.57041988e-08, 3.25684050e-05, 5.34767004e-08],\n",
       "       ...,\n",
       "       [1.26243194e-05, 3.27551364e-09, 5.90586029e-02, ...,\n",
       "        8.01769056e-06, 5.40335395e-06, 1.09411388e-07],\n",
       "       [7.39854272e-07, 3.31813155e-08, 5.16047560e-09, ...,\n",
       "        1.77679182e-09, 6.18807235e-07, 1.57911768e-06],\n",
       "       [4.95555696e-07, 2.72452507e-06, 9.63381922e-07, ...,\n",
       "        1.25504630e-06, 8.98596227e-01, 1.09504711e-07]], dtype=float32)"
      ]
     },
     "metadata": {},
     "output_type": "display_data"
    }
   ],
   "source": [
    "test_df = pd.read_csv('test.csv')\n",
    "\n",
    "TEST_GENERATOR = DATAGEN_TRAIN.flow_from_dataframe(\n",
    "    dataframe=test_df,\n",
    "    x_col='img_path',\n",
    "    y_col='id',\n",
    "    target_size=(244, 244),\n",
    "    class_mode='raw',\n",
    "    batch_size=32,\n",
    "    shuffle=False,\n",
    ")\n",
    "\n",
    "TEST_GENERATOR.reset()\n",
    "\n",
    "# 최신 체크포인트 파일 찾기\n",
    "checkpoint_files = glob.glob('googlenet_model/*.hdf5')\n",
    "latest_checkpoint = max(checkpoint_files, key=os.path.getctime)\n",
    "\n",
    "print(latest_checkpoint)\n",
    "\n",
    "# 모델에 최신 가중치 로드\n",
    "model.load_weights(latest_checkpoint)\n",
    "\n",
    "test_prediction = model.predict(TEST_GENERATOR, verbose=1)\n",
    "display(test_prediction)"
   ]
  },
  {
   "cell_type": "code",
   "execution_count": 13,
   "id": "rising-concentration",
   "metadata": {},
   "outputs": [
    {
     "data": {
      "text/plain": [
       "array([41, 38, 29, ..., 16, 46, 48], dtype=int64)"
      ]
     },
     "execution_count": 13,
     "metadata": {},
     "output_type": "execute_result"
    }
   ],
   "source": [
    "test_prediction = np.argmax(test_prediction, axis = 1)\n",
    "test_prediction"
   ]
  },
  {
   "cell_type": "code",
   "execution_count": 14,
   "id": "steady-limitation",
   "metadata": {},
   "outputs": [
    {
     "data": {
      "text/html": [
       "<div>\n",
       "<style scoped>\n",
       "    .dataframe tbody tr th:only-of-type {\n",
       "        vertical-align: middle;\n",
       "    }\n",
       "\n",
       "    .dataframe tbody tr th {\n",
       "        vertical-align: top;\n",
       "    }\n",
       "\n",
       "    .dataframe thead th {\n",
       "        text-align: right;\n",
       "    }\n",
       "</style>\n",
       "<table border=\"1\" class=\"dataframe\">\n",
       "  <thead>\n",
       "    <tr style=\"text-align: right;\">\n",
       "      <th></th>\n",
       "      <th>artist</th>\n",
       "    </tr>\n",
       "  </thead>\n",
       "  <tbody>\n",
       "    <tr>\n",
       "      <th>0</th>\n",
       "      <td>41</td>\n",
       "    </tr>\n",
       "    <tr>\n",
       "      <th>1</th>\n",
       "      <td>38</td>\n",
       "    </tr>\n",
       "    <tr>\n",
       "      <th>2</th>\n",
       "      <td>29</td>\n",
       "    </tr>\n",
       "    <tr>\n",
       "      <th>3</th>\n",
       "      <td>0</td>\n",
       "    </tr>\n",
       "    <tr>\n",
       "      <th>4</th>\n",
       "      <td>48</td>\n",
       "    </tr>\n",
       "    <tr>\n",
       "      <th>...</th>\n",
       "      <td>...</td>\n",
       "    </tr>\n",
       "    <tr>\n",
       "      <th>12665</th>\n",
       "      <td>10</td>\n",
       "    </tr>\n",
       "    <tr>\n",
       "      <th>12666</th>\n",
       "      <td>11</td>\n",
       "    </tr>\n",
       "    <tr>\n",
       "      <th>12667</th>\n",
       "      <td>16</td>\n",
       "    </tr>\n",
       "    <tr>\n",
       "      <th>12668</th>\n",
       "      <td>46</td>\n",
       "    </tr>\n",
       "    <tr>\n",
       "      <th>12669</th>\n",
       "      <td>48</td>\n",
       "    </tr>\n",
       "  </tbody>\n",
       "</table>\n",
       "<p>12670 rows × 1 columns</p>\n",
       "</div>"
      ],
      "text/plain": [
       "       artist\n",
       "0          41\n",
       "1          38\n",
       "2          29\n",
       "3           0\n",
       "4          48\n",
       "...       ...\n",
       "12665      10\n",
       "12666      11\n",
       "12667      16\n",
       "12668      46\n",
       "12669      48\n",
       "\n",
       "[12670 rows x 1 columns]"
      ]
     },
     "execution_count": 14,
     "metadata": {},
     "output_type": "execute_result"
    }
   ],
   "source": [
    "test_prediction_df = pd.DataFrame(test_prediction, columns = ['artist'])\n",
    "test_prediction_df"
   ]
  },
  {
   "cell_type": "code",
   "execution_count": 15,
   "id": "outer-climb",
   "metadata": {},
   "outputs": [],
   "source": [
    "artist_df = train_df.copy()\n",
    "artist_le = label_encoder.fit_transform(artist_df['artist'].values)\n",
    "artist_df['num'] = artist_le\n",
    "artist_df = artist_df.drop('id', axis=1)\n",
    "artist_df = artist_df.drop('img_path', axis=1)\n",
    "test_prediction_dic = test_prediction_df.to_dict()\n",
    "test_prediction_values = test_prediction_dic['artist'].values()\n",
    "test_prediction_list = list(test_prediction_values)\n",
    "artist_df.set_index('num', inplace=True)\n",
    "artist_df = artist_df.sort_index()\n",
    "artist_info_dic = artist_df['artist'].to_dict()"
   ]
  },
  {
   "cell_type": "code",
   "execution_count": 16,
   "id": "sitting-movement",
   "metadata": {},
   "outputs": [
    {
     "data": {
      "text/plain": [
       "['Raphael',\n",
       " 'Pierre-Auguste Renoir',\n",
       " 'Leonardo da Vinci',\n",
       " 'Albrecht Du rer',\n",
       " 'Vincent van Gogh']"
      ]
     },
     "execution_count": 16,
     "metadata": {},
     "output_type": "execute_result"
    }
   ],
   "source": [
    "artist_name = []\n",
    "for i in test_prediction_list:\n",
    "    artist_name.append(artist_info_dic[i])\n",
    "artist_name[:5]"
   ]
  },
  {
   "cell_type": "code",
   "execution_count": 17,
   "id": "false-background",
   "metadata": {},
   "outputs": [
    {
     "data": {
      "text/html": [
       "<div>\n",
       "<style scoped>\n",
       "    .dataframe tbody tr th:only-of-type {\n",
       "        vertical-align: middle;\n",
       "    }\n",
       "\n",
       "    .dataframe tbody tr th {\n",
       "        vertical-align: top;\n",
       "    }\n",
       "\n",
       "    .dataframe thead th {\n",
       "        text-align: right;\n",
       "    }\n",
       "</style>\n",
       "<table border=\"1\" class=\"dataframe\">\n",
       "  <thead>\n",
       "    <tr style=\"text-align: right;\">\n",
       "      <th></th>\n",
       "      <th>id</th>\n",
       "      <th>artist</th>\n",
       "    </tr>\n",
       "  </thead>\n",
       "  <tbody>\n",
       "    <tr>\n",
       "      <th>0</th>\n",
       "      <td>TEST_00000</td>\n",
       "      <td>Raphael</td>\n",
       "    </tr>\n",
       "    <tr>\n",
       "      <th>1</th>\n",
       "      <td>TEST_00001</td>\n",
       "      <td>Pierre-Auguste Renoir</td>\n",
       "    </tr>\n",
       "    <tr>\n",
       "      <th>2</th>\n",
       "      <td>TEST_00002</td>\n",
       "      <td>Leonardo da Vinci</td>\n",
       "    </tr>\n",
       "    <tr>\n",
       "      <th>3</th>\n",
       "      <td>TEST_00003</td>\n",
       "      <td>Albrecht Du rer</td>\n",
       "    </tr>\n",
       "    <tr>\n",
       "      <th>4</th>\n",
       "      <td>TEST_00004</td>\n",
       "      <td>Vincent van Gogh</td>\n",
       "    </tr>\n",
       "  </tbody>\n",
       "</table>\n",
       "</div>"
      ],
      "text/plain": [
       "           id                 artist\n",
       "0  TEST_00000                Raphael\n",
       "1  TEST_00001  Pierre-Auguste Renoir\n",
       "2  TEST_00002      Leonardo da Vinci\n",
       "3  TEST_00003        Albrecht Du rer\n",
       "4  TEST_00004       Vincent van Gogh"
      ]
     },
     "execution_count": 17,
     "metadata": {},
     "output_type": "execute_result"
    }
   ],
   "source": [
    "submission_df = pd.read_csv(\"./sample_submission.csv\")\n",
    "submission_df = submission_df.drop('artist', axis=1)\n",
    "submission_df['artist'] = artist_name\n",
    "submission_df.head()"
   ]
  },
  {
   "cell_type": "code",
   "execution_count": 18,
   "id": "vietnamese-offense",
   "metadata": {},
   "outputs": [],
   "source": [
    "submission_df.to_csv(\"googlenet_submission.csv\", index=False)"
   ]
  },
  {
   "cell_type": "code",
   "execution_count": null,
   "id": "comfortable-powder",
   "metadata": {},
   "outputs": [],
   "source": []
  }
 ],
 "metadata": {
  "kernelspec": {
   "display_name": "Python 3 (ipykernel)",
   "language": "python",
   "name": "python3"
  },
  "language_info": {
   "codemirror_mode": {
    "name": "ipython",
    "version": 3
   },
   "file_extension": ".py",
   "mimetype": "text/x-python",
   "name": "python",
   "nbconvert_exporter": "python",
   "pygments_lexer": "ipython3",
   "version": "3.10.9"
  }
 },
 "nbformat": 4,
 "nbformat_minor": 5
}
