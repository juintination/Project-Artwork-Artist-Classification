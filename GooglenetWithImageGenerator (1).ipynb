{
 "cells": [
  {
   "cell_type": "code",
   "execution_count": 1,
   "id": "engaged-increase",
   "metadata": {},
   "outputs": [
    {
     "name": "stdout",
     "output_type": "stream",
     "text": [
      "[name: \"/device:CPU:0\"\n",
      "device_type: \"CPU\"\n",
      "memory_limit: 268435456\n",
      "locality {\n",
      "}\n",
      "incarnation: 7332999458012202501\n",
      ", name: \"/device:GPU:0\"\n",
      "device_type: \"GPU\"\n",
      "memory_limit: 15111724237\n",
      "locality {\n",
      "  bus_id: 1\n",
      "  links {\n",
      "  }\n",
      "}\n",
      "incarnation: 117882924392162091\n",
      "physical_device_desc: \"device: 0, name: Quadro RTX 5000, pci bus id: 0000:65:00.0, compute capability: 7.5\"\n",
      "]\n"
     ]
    }
   ],
   "source": [
    "from tensorflow.python.client import device_lib\n",
    "print(device_lib.list_local_devices())"
   ]
  },
  {
   "cell_type": "code",
   "execution_count": 2,
   "id": "wicked-shelf",
   "metadata": {},
   "outputs": [],
   "source": [
    "import pandas as pd\n",
    "import numpy as np\n",
    "import tensorflow as tf\n",
    "import os\n",
    "import cv2\n",
    "import glob\n",
    "from sklearn.model_selection import train_test_split\n",
    "from sklearn.preprocessing import LabelEncoder\n",
    "from tensorflow.keras.applications import InceptionV3\n",
    "from tensorflow.keras.layers import Dense, Flatten, Dropout\n",
    "from tensorflow.keras.models import Model\n",
    "from tensorflow.keras.optimizers import Adam\n",
    "import matplotlib.pyplot as plt"
   ]
  },
  {
   "cell_type": "code",
   "execution_count": 3,
   "id": "actual-pound",
   "metadata": {},
   "outputs": [
    {
     "name": "stdout",
     "output_type": "stream",
     "text": [
      "size of train_df: 5911\n",
      "Found 5320 validated image filenames belonging to 50 classes.\n",
      "Found 591 validated image filenames belonging to 50 classes.\n"
     ]
    }
   ],
   "source": [
    "from tensorflow.keras.preprocessing.image import ImageDataGenerator\n",
    "\n",
    "train_df = pd.read_csv('./train.csv')\n",
    "print(\"size of train_df:\", len(train_df))\n",
    "\n",
    "# 데이터 노이즈 수정\n",
    "train_df.loc[train_df['id'] == 3896, 'artist'] = 'Titian'\n",
    "train_df.loc[train_df['id'] == 3986, 'artist'] = 'Alfred Sisley'\n",
    "\n",
    "DATAGEN_TRAIN = ImageDataGenerator(\n",
    "    rescale=1./255,\n",
    "    rotation_range=20,\n",
    "    width_shift_range=0.2,\n",
    "    height_shift_range=0.2,\n",
    "    shear_range=0.2,\n",
    "    zoom_range=0.2,\n",
    "    horizontal_flip=True,\n",
    "    vertical_flip=True,\n",
    "    data_format=\"channels_last\",\n",
    "    validation_split=0.10\n",
    ") # Train / Validation\n",
    "\n",
    "# Generator의 instance 생성 (Train)\n",
    "TRAIN_GENERATOR = DATAGEN_TRAIN.flow_from_dataframe(\n",
    "    dataframe=train_df,\n",
    "    x_col='img_path',\n",
    "    y_col='artist',\n",
    "    target_size=(244, 244),\n",
    "    class_mode='categorical',\n",
    "    batch_size=32,\n",
    "    shuffle=True,\n",
    "    subset=\"training\"\n",
    ")\n",
    "\n",
    "VALID_GENERATOR = DATAGEN_TRAIN.flow_from_dataframe(\n",
    "    dataframe=train_df,\n",
    "    x_col='img_path',\n",
    "    y_col='artist',\n",
    "    target_size=(244, 244),\n",
    "    class_mode='categorical',\n",
    "    batch_size=32,\n",
    "    shuffle=True,\n",
    "    subset=\"validation\"\n",
    ")"
   ]
  },
  {
   "cell_type": "code",
   "execution_count": 4,
   "id": "molecular-wales",
   "metadata": {},
   "outputs": [
    {
     "name": "stdout",
     "output_type": "stream",
     "text": [
      "Downloading data from https://github.com/fchollet/deep-learning-models/releases/download/v0.5/inception_v3_weights_tf_dim_ordering_tf_kernels_notop.h5\n",
      "87916544/87910968 [==============================] - 6s 0us/step\n"
     ]
    }
   ],
   "source": [
    "# ResNet50 모델 로드\n",
    "base_model = InceptionV3(weights='imagenet', include_top=False, input_shape=(244, 244, 3), pooling=None, input_tensor=None)\n",
    "\n",
    "# 새로운 Fully Connected Layer 추가\n",
    "x = base_model.output\n",
    "x = Flatten()(x)\n",
    "x = Dropout(0.2)(x) # 드롭아웃 추가\n",
    "predictions = Dense(50, activation='softmax')(x)\n",
    "\n",
    "#전체 모델 구성\n",
    "model = Model(inputs=base_model.input, outputs=predictions)\n",
    "\n",
    "# 모델 컴파일\n",
    "model.compile(optimizer=Adam(lr=3e-4), loss='categorical_crossentropy', metrics=['accuracy'])"
   ]
  },
  {
   "cell_type": "code",
   "execution_count": 5,
   "id": "eight-irrigation",
   "metadata": {},
   "outputs": [],
   "source": [
    "from tensorflow.keras.callbacks import ModelCheckpoint, ReduceLROnPlateau\n",
    "CP = ModelCheckpoint(filepath='googlenet_model/' + 'GOOGLENET-Sigmoid-{epoch:03d}-{accuracy:.4f}-{val_loss:.4f}.hdf5',\n",
    "                     monitor='val_loss', verbose=1, save_best_only=True, mode='min'\n",
    ")\n",
    "\n",
    "LR = ReduceLROnPlateau(monitor='val_loss', factor=0.5, patience=5, verbose=1, min_lr=0.00005)\n",
    "CALLBACK = [CP, LR]"
   ]
  },
  {
   "cell_type": "code",
   "execution_count": 6,
   "id": "searching-yemen",
   "metadata": {
    "scrolled": false
   },
   "outputs": [
    {
     "name": "stdout",
     "output_type": "stream",
     "text": [
      "Train for 167 steps, validate for 19 steps\n",
      "Epoch 1/20\n",
      "166/167 [============================>.] - ETA: 0s - loss: 3.2530 - accuracy: 0.2536\n",
      "Epoch 00001: val_loss improved from inf to 2.54388, saving model to googlenet_model/GOOGLENET-Sigmoid-001-0.2545-2.5439.hdf5\n",
      "167/167 [==============================] - 135s 810ms/step - loss: 3.2463 - accuracy: 0.2545 - val_loss: 2.5439 - val_accuracy: 0.3232\n",
      "Epoch 2/20\n",
      "166/167 [============================>.] - ETA: 0s - loss: 1.8360 - accuracy: 0.5021\n",
      "Epoch 00002: val_loss did not improve from 2.54388\n",
      "167/167 [==============================] - 114s 684ms/step - loss: 1.8361 - accuracy: 0.5017 - val_loss: 4.7420 - val_accuracy: 0.1946\n",
      "Epoch 3/20\n",
      "166/167 [============================>.] - ETA: 0s - loss: 1.3658 - accuracy: 0.6116\n",
      "Epoch 00003: val_loss did not improve from 2.54388\n",
      "167/167 [==============================] - 114s 683ms/step - loss: 1.3682 - accuracy: 0.6111 - val_loss: 2.5728 - val_accuracy: 0.4416\n",
      "Epoch 4/20\n",
      "166/167 [============================>.] - ETA: 0s - loss: 1.1467 - accuracy: 0.6643\n",
      "Epoch 00004: val_loss improved from 2.54388 to 1.88456, saving model to googlenet_model/GOOGLENET-Sigmoid-004-0.6647-1.8846.hdf5\n",
      "167/167 [==============================] - 115s 688ms/step - loss: 1.1443 - accuracy: 0.6647 - val_loss: 1.8846 - val_accuracy: 0.5245\n",
      "Epoch 5/20\n",
      "166/167 [============================>.] - ETA: 0s - loss: 0.8994 - accuracy: 0.7313\n",
      "Epoch 00005: val_loss did not improve from 1.88456\n",
      "167/167 [==============================] - 114s 686ms/step - loss: 0.8993 - accuracy: 0.7312 - val_loss: 3.7496 - val_accuracy: 0.3655\n",
      "Epoch 6/20\n",
      "166/167 [============================>.] - ETA: 0s - loss: 0.7454 - accuracy: 0.7738\n",
      "Epoch 00006: val_loss did not improve from 1.88456\n",
      "167/167 [==============================] - 115s 686ms/step - loss: 0.7435 - accuracy: 0.7744 - val_loss: 2.8129 - val_accuracy: 0.4044\n",
      "Epoch 7/20\n",
      "166/167 [============================>.] - ETA: 0s - loss: 0.6309 - accuracy: 0.8005\n",
      "Epoch 00007: val_loss did not improve from 1.88456\n",
      "167/167 [==============================] - 115s 688ms/step - loss: 0.6314 - accuracy: 0.8002 - val_loss: 2.0825 - val_accuracy: 0.5668\n",
      "Epoch 8/20\n",
      "166/167 [============================>.] - ETA: 0s - loss: 0.5486 - accuracy: 0.8300\n",
      "Epoch 00008: val_loss did not improve from 1.88456\n",
      "167/167 [==============================] - 114s 684ms/step - loss: 0.5497 - accuracy: 0.8301 - val_loss: 2.0516 - val_accuracy: 0.5533\n",
      "Epoch 9/20\n",
      "166/167 [============================>.] - ETA: 0s - loss: 0.4661 - accuracy: 0.8555\n",
      "Epoch 00009: val_loss did not improve from 1.88456\n",
      "\n",
      "Epoch 00009: ReduceLROnPlateau reducing learning rate to 0.0001500000071246177.\n",
      "167/167 [==============================] - 115s 688ms/step - loss: 0.4665 - accuracy: 0.8551 - val_loss: 2.6882 - val_accuracy: 0.4907\n",
      "Epoch 10/20\n",
      "166/167 [============================>.] - ETA: 0s - loss: 0.2276 - accuracy: 0.9266\n",
      "Epoch 00010: val_loss improved from 1.88456 to 1.48565, saving model to googlenet_model/GOOGLENET-Sigmoid-010-0.9269-1.4856.hdf5\n",
      "167/167 [==============================] - 115s 689ms/step - loss: 0.2267 - accuracy: 0.9269 - val_loss: 1.4856 - val_accuracy: 0.6870\n",
      "Epoch 11/20\n",
      "166/167 [============================>.] - ETA: 0s - loss: 0.1279 - accuracy: 0.9586\n",
      "Epoch 00011: val_loss did not improve from 1.48565\n",
      "167/167 [==============================] - 114s 685ms/step - loss: 0.1284 - accuracy: 0.9586 - val_loss: 1.5135 - val_accuracy: 0.6802\n",
      "Epoch 12/20\n",
      "166/167 [============================>.] - ETA: 0s - loss: 0.1081 - accuracy: 0.9660\n",
      "Epoch 00012: val_loss did not improve from 1.48565\n",
      "167/167 [==============================] - 115s 689ms/step - loss: 0.1081 - accuracy: 0.9660 - val_loss: 1.5237 - val_accuracy: 0.7225\n",
      "Epoch 13/20\n",
      "166/167 [============================>.] - ETA: 0s - loss: 0.0926 - accuracy: 0.9675\n",
      "Epoch 00013: val_loss did not improve from 1.48565\n",
      "167/167 [==============================] - 114s 684ms/step - loss: 0.0933 - accuracy: 0.9675 - val_loss: 1.6532 - val_accuracy: 0.6717\n",
      "Epoch 14/20\n",
      "166/167 [============================>.] - ETA: 0s - loss: 0.0941 - accuracy: 0.9682\n",
      "Epoch 00014: val_loss did not improve from 1.48565\n",
      "167/167 [==============================] - 114s 682ms/step - loss: 0.0939 - accuracy: 0.9682 - val_loss: 1.7498 - val_accuracy: 0.6633\n",
      "Epoch 15/20\n",
      "166/167 [============================>.] - ETA: 0s - loss: 0.0971 - accuracy: 0.9675\n",
      "Epoch 00015: val_loss did not improve from 1.48565\n",
      "\n",
      "Epoch 00015: ReduceLROnPlateau reducing learning rate to 7.500000356230885e-05.\n",
      "167/167 [==============================] - 115s 686ms/step - loss: 0.0982 - accuracy: 0.9671 - val_loss: 1.9122 - val_accuracy: 0.6802\n",
      "Epoch 16/20\n",
      "166/167 [============================>.] - ETA: 0s - loss: 0.0557 - accuracy: 0.9820\n",
      "Epoch 00016: val_loss improved from 1.48565 to 1.41562, saving model to googlenet_model/GOOGLENET-Sigmoid-016-0.9820-1.4156.hdf5\n",
      "167/167 [==============================] - 115s 689ms/step - loss: 0.0562 - accuracy: 0.9820 - val_loss: 1.4156 - val_accuracy: 0.7360\n",
      "Epoch 17/20\n",
      "166/167 [============================>.] - ETA: 0s - loss: 0.0248 - accuracy: 0.9941\n",
      "Epoch 00017: val_loss did not improve from 1.41562\n",
      "167/167 [==============================] - 115s 687ms/step - loss: 0.0247 - accuracy: 0.9942 - val_loss: 1.5367 - val_accuracy: 0.7242\n",
      "Epoch 18/20\n",
      "166/167 [============================>.] - ETA: 0s - loss: 0.0199 - accuracy: 0.9941\n",
      "Epoch 00018: val_loss did not improve from 1.41562\n",
      "167/167 [==============================] - 114s 685ms/step - loss: 0.0200 - accuracy: 0.9942 - val_loss: 1.5150 - val_accuracy: 0.7462\n",
      "Epoch 19/20\n",
      "166/167 [============================>.] - ETA: 0s - loss: 0.0275 - accuracy: 0.9905\n",
      "Epoch 00019: val_loss did not improve from 1.41562\n",
      "167/167 [==============================] - 115s 686ms/step - loss: 0.0278 - accuracy: 0.9904 - val_loss: 1.8726 - val_accuracy: 0.6937\n",
      "Epoch 20/20\n",
      "166/167 [============================>.] - ETA: 0s - loss: 0.0193 - accuracy: 0.9941\n",
      "Epoch 00020: val_loss did not improve from 1.41562\n",
      "167/167 [==============================] - 114s 683ms/step - loss: 0.0195 - accuracy: 0.9940 - val_loss: 1.6463 - val_accuracy: 0.7276\n"
     ]
    }
   ],
   "source": [
    "# 모델 학습\n",
    "history = model.fit(TRAIN_GENERATOR,\n",
    "                    epochs=20,\n",
    "                    validation_data=VALID_GENERATOR,\n",
    "                    callbacks=CALLBACK,\n",
    ")"
   ]
  },
  {
   "cell_type": "code",
   "execution_count": 7,
   "id": "sixth-stable",
   "metadata": {},
   "outputs": [
    {
     "data": {
      "image/png": "[encoded data removed]",
      "text/plain": [
       "<Figure size 432x288 with 1 Axes>"
      ]
     },
     "metadata": {
      "needs_background": "light"
     },
     "output_type": "display_data"
    }
   ],
   "source": [
    "# 손실 그래프\n",
    "plt.plot(history.history['loss'])\n",
    "plt.plot(history.history['val_loss'])\n",
    "plt.title('Training Loss vs Validation Loss')\n",
    "plt.xlabel('Epochs')\n",
    "plt.ylabel('Loss')\n",
    "plt.legend(['loss', 'val_loss'])\n",
    "plt.show()"
   ]
  },
  {
   "cell_type": "code",
   "execution_count": 8,
   "id": "distinguished-country",
   "metadata": {},
   "outputs": [
    {
     "data": {
      "image/png": "[encoded data removed]",
      "text/plain": [
       "<Figure size 432x288 with 1 Axes>"
      ]
     },
     "metadata": {
      "needs_background": "light"
     },
     "output_type": "display_data"
    }
   ],
   "source": [
    "# 정확도 그래프\n",
    "plt.plot([x * 100 for x in history.history['accuracy']])\n",
    "plt.plot([x * 100 for x in history.history['val_accuracy']])\n",
    "plt.title('Training Accuracy vs Validation Accuracy')\n",
    "plt.xlabel('Epochs')\n",
    "plt.ylabel('Accuracy (%)')\n",
    "plt.legend(['accuracy', 'val_accuracy'])\n",
    "plt.show()"
   ]
  },
  {
   "cell_type": "code",
   "execution_count": 9,
   "id": "opposed-teacher",
   "metadata": {},
   "outputs": [
    {
     "name": "stdout",
     "output_type": "stream",
     "text": [
      "19/19 [==============================] - 9s 480ms/step - loss: 1.4327 - accuracy: 0.7310\n",
      "Validation Loss: 1.432679\n",
      "Validation Accuracy: 0.731\n"
     ]
    }
   ],
   "source": [
    "# 최신 체크포인트 파일 찾기\n",
    "checkpoint_files = glob.glob('googlenet_model/*.hdf5')\n",
    "latest_checkpoint = max(checkpoint_files, key=os.path.getctime)\n",
    "\n",
    "# 모델에 최신 가중치 로드\n",
    "model.load_weights(latest_checkpoint)\n",
    "\n",
    "# Validation 데이터에 대한 정확도 확인\n",
    "val_loss, val_accuracy = model.evaluate(VALID_GENERATOR)\n",
    "print('Validation Loss:', round(val_loss, 6))\n",
    "print('Validation Accuracy:', round(val_accuracy, 3))"
   ]
  },
  {
   "cell_type": "code",
   "execution_count": 10,
   "id": "consecutive-missile",
   "metadata": {},
   "outputs": [
    {
     "name": "stdout",
     "output_type": "stream",
     "text": [
      "Found 12670 validated image filenames.\n",
      "googlenet_model\\GOOGLENET-Sigmoid-016-0.9820-1.4156.hdf5\n",
      "396/396 [==============================] - 162s 408ms/step\n"
     ]
    },
    {
     "data": {
      "text/plain": [
       "array([[8.90675801e-06, 1.81500254e-05, 2.81003322e-02, ...,\n",
       "        1.63446224e-04, 4.63692704e-03, 1.96118413e-06],\n",
       "       [2.41099155e-11, 4.90906260e-10, 1.47611390e-05, ...,\n",
       "        7.89015242e-11, 1.10259534e-05, 1.06560005e-08],\n",
       "       [6.02584938e-03, 1.51190029e-08, 3.57352491e-07, ...,\n",
       "        1.21590904e-06, 1.20819925e-04, 1.82258631e-07],\n",
       "       ...,\n",
       "       [1.65604604e-07, 4.26017388e-10, 9.94708776e-01, ...,\n",
       "        3.58876605e-07, 6.77619823e-07, 1.23201301e-06],\n",
       "       [1.24213693e-06, 1.74987895e-06, 2.75447837e-05, ...,\n",
       "        3.34969911e-07, 5.12375438e-04, 1.32901587e-05],\n",
       "       [9.09247157e-12, 2.67645611e-11, 1.11796403e-08, ...,\n",
       "        9.00720679e-11, 9.95746315e-01, 8.12871905e-12]], dtype=float32)"
      ]
     },
     "metadata": {},
     "output_type": "display_data"
    }
   ],
   "source": [
    "test_df = pd.read_csv('test.csv')\n",
    "\n",
    "TEST_GENERATOR = DATAGEN_TRAIN.flow_from_dataframe(\n",
    "    dataframe=test_df,\n",
    "    x_col='img_path',\n",
    "    y_col='id',\n",
    "    target_size=(244, 244),\n",
    "    class_mode='raw',\n",
    "    batch_size=32,\n",
    "    shuffle=False,\n",
    ")\n",
    "\n",
    "TEST_GENERATOR.reset()\n",
    "\n",
    "# 최신 체크포인트 파일 찾기\n",
    "checkpoint_files = glob.glob('googlenet_model/*.hdf5')\n",
    "latest_checkpoint = max(checkpoint_files, key=os.path.getctime)\n",
    "\n",
    "print(latest_checkpoint)\n",
    "\n",
    "# 모델에 최신 가중치 로드\n",
    "model.load_weights(latest_checkpoint)\n",
    "\n",
    "test_prediction = model.predict(TEST_GENERATOR, verbose=1)\n",
    "display(test_prediction)"
   ]
  },
  {
   "cell_type": "code",
   "execution_count": 11,
   "id": "unlike-recognition",
   "metadata": {},
   "outputs": [
    {
     "data": {
      "text/plain": [
       "array([11, 12, 46, ...,  2, 42, 48], dtype=int64)"
      ]
     },
     "execution_count": 11,
     "metadata": {},
     "output_type": "execute_result"
    }
   ],
   "source": [
    "test_prediction = np.argmax(test_prediction, axis = 1)\n",
    "test_prediction"
   ]
  },
  {
   "cell_type": "code",
   "execution_count": 12,
   "id": "random-opportunity",
   "metadata": {},
   "outputs": [
    {
     "data": {
      "text/html": [
       "<div>\n",
       "<style scoped>\n",
       "    .dataframe tbody tr th:only-of-type {\n",
       "        vertical-align: middle;\n",
       "    }\n",
       "\n",
       "    .dataframe tbody tr th {\n",
       "        vertical-align: top;\n",
       "    }\n",
       "\n",
       "    .dataframe thead th {\n",
       "        text-align: right;\n",
       "    }\n",
       "</style>\n",
       "<table border=\"1\" class=\"dataframe\">\n",
       "  <thead>\n",
       "    <tr style=\"text-align: right;\">\n",
       "      <th></th>\n",
       "      <th>artist</th>\n",
       "    </tr>\n",
       "  </thead>\n",
       "  <tbody>\n",
       "    <tr>\n",
       "      <th>0</th>\n",
       "      <td>11</td>\n",
       "    </tr>\n",
       "    <tr>\n",
       "      <th>1</th>\n",
       "      <td>12</td>\n",
       "    </tr>\n",
       "    <tr>\n",
       "      <th>2</th>\n",
       "      <td>46</td>\n",
       "    </tr>\n",
       "    <tr>\n",
       "      <th>3</th>\n",
       "      <td>0</td>\n",
       "    </tr>\n",
       "    <tr>\n",
       "      <th>4</th>\n",
       "      <td>48</td>\n",
       "    </tr>\n",
       "    <tr>\n",
       "      <th>...</th>\n",
       "      <td>...</td>\n",
       "    </tr>\n",
       "    <tr>\n",
       "      <th>12665</th>\n",
       "      <td>10</td>\n",
       "    </tr>\n",
       "    <tr>\n",
       "      <th>12666</th>\n",
       "      <td>2</td>\n",
       "    </tr>\n",
       "    <tr>\n",
       "      <th>12667</th>\n",
       "      <td>2</td>\n",
       "    </tr>\n",
       "    <tr>\n",
       "      <th>12668</th>\n",
       "      <td>42</td>\n",
       "    </tr>\n",
       "    <tr>\n",
       "      <th>12669</th>\n",
       "      <td>48</td>\n",
       "    </tr>\n",
       "  </tbody>\n",
       "</table>\n",
       "<p>12670 rows × 1 columns</p>\n",
       "</div>"
      ],
      "text/plain": [
       "       artist\n",
       "0          11\n",
       "1          12\n",
       "2          46\n",
       "3           0\n",
       "4          48\n",
       "...       ...\n",
       "12665      10\n",
       "12666       2\n",
       "12667       2\n",
       "12668      42\n",
       "12669      48\n",
       "\n",
       "[12670 rows x 1 columns]"
      ]
     },
     "execution_count": 12,
     "metadata": {},
     "output_type": "execute_result"
    }
   ],
   "source": [
    "test_prediction_df = pd.DataFrame(test_prediction, columns = ['artist'])\n",
    "test_prediction_df"
   ]
  },
  {
   "cell_type": "code",
   "execution_count": 13,
   "id": "pleasant-favorite",
   "metadata": {},
   "outputs": [],
   "source": [
    "label_encoder = LabelEncoder()\n",
    "artist_df = train_df.copy()\n",
    "artist_le = label_encoder.fit_transform(artist_df['artist'].values)\n",
    "artist_df['num'] = artist_le\n",
    "artist_df = artist_df.drop('id', axis=1)\n",
    "artist_df = artist_df.drop('img_path', axis=1)\n",
    "test_prediction_dic = test_prediction_df.to_dict()\n",
    "test_prediction_values = test_prediction_dic['artist'].values()\n",
    "test_prediction_list = list(test_prediction_values)\n",
    "artist_df.set_index('num', inplace=True)\n",
    "artist_df = artist_df.sort_index()\n",
    "artist_info_dic = artist_df['artist'].to_dict()"
   ]
  },
  {
   "cell_type": "code",
   "execution_count": 14,
   "id": "aggressive-diagram",
   "metadata": {},
   "outputs": [
    {
     "data": {
      "text/plain": [
       "['Edouard Manet',\n",
       " 'Edvard Munch',\n",
       " 'Titian',\n",
       " 'Albrecht Du rer',\n",
       " 'Vincent van Gogh']"
      ]
     },
     "execution_count": 14,
     "metadata": {},
     "output_type": "execute_result"
    }
   ],
   "source": [
    "artist_name = []\n",
    "for i in test_prediction_list:\n",
    "    artist_name.append(artist_info_dic[i])\n",
    "artist_name[:5]"
   ]
  },
  {
   "cell_type": "code",
   "execution_count": 15,
   "id": "whole-museum",
   "metadata": {},
   "outputs": [
    {
     "data": {
      "text/html": [
       "<div>\n",
       "<style scoped>\n",
       "    .dataframe tbody tr th:only-of-type {\n",
       "        vertical-align: middle;\n",
       "    }\n",
       "\n",
       "    .dataframe tbody tr th {\n",
       "        vertical-align: top;\n",
       "    }\n",
       "\n",
       "    .dataframe thead th {\n",
       "        text-align: right;\n",
       "    }\n",
       "</style>\n",
       "<table border=\"1\" class=\"dataframe\">\n",
       "  <thead>\n",
       "    <tr style=\"text-align: right;\">\n",
       "      <th></th>\n",
       "      <th>id</th>\n",
       "      <th>artist</th>\n",
       "    </tr>\n",
       "  </thead>\n",
       "  <tbody>\n",
       "    <tr>\n",
       "      <th>0</th>\n",
       "      <td>TEST_00000</td>\n",
       "      <td>Edouard Manet</td>\n",
       "    </tr>\n",
       "    <tr>\n",
       "      <th>1</th>\n",
       "      <td>TEST_00001</td>\n",
       "      <td>Edvard Munch</td>\n",
       "    </tr>\n",
       "    <tr>\n",
       "      <th>2</th>\n",
       "      <td>TEST_00002</td>\n",
       "      <td>Titian</td>\n",
       "    </tr>\n",
       "    <tr>\n",
       "      <th>3</th>\n",
       "      <td>TEST_00003</td>\n",
       "      <td>Albrecht Du rer</td>\n",
       "    </tr>\n",
       "    <tr>\n",
       "      <th>4</th>\n",
       "      <td>TEST_00004</td>\n",
       "      <td>Vincent van Gogh</td>\n",
       "    </tr>\n",
       "  </tbody>\n",
       "</table>\n",
       "</div>"
      ],
      "text/plain": [
       "           id            artist\n",
       "0  TEST_00000     Edouard Manet\n",
       "1  TEST_00001      Edvard Munch\n",
       "2  TEST_00002            Titian\n",
       "3  TEST_00003   Albrecht Du rer\n",
       "4  TEST_00004  Vincent van Gogh"
      ]
     },
     "execution_count": 15,
     "metadata": {},
     "output_type": "execute_result"
    }
   ],
   "source": [
    "submission_df = pd.read_csv(\"./sample_submission.csv\")\n",
    "submission_df = submission_df.drop('artist', axis=1)\n",
    "submission_df['artist'] = artist_name\n",
    "submission_df.head()"
   ]
  },
  {
   "cell_type": "code",
   "execution_count": 17,
   "id": "powerful-socket",
   "metadata": {},
   "outputs": [],
   "source": [
    "submission_df.to_csv(\"googlenet_submission.csv\", index=False)"
   ]
  },
  {
   "cell_type": "code",
   "execution_count": null,
   "id": "experienced-abuse",
   "metadata": {},
   "outputs": [],
   "source": []
  }
 ],
 "metadata": {
  "kernelspec": {
   "display_name": "Python 3 (ipykernel)",
   "language": "python",
   "name": "python3"
  },
  "language_info": {
   "codemirror_mode": {
    "name": "ipython",
    "version": 3
   },
   "file_extension": ".py",
   "mimetype": "text/x-python",
   "name": "python",
   "nbconvert_exporter": "python",
   "pygments_lexer": "ipython3",
   "version": "3.10.9"
  }
 },
 "nbformat": 4,
 "nbformat_minor": 5
}
