{
 "cells": [
  {
   "cell_type": "code",
   "execution_count": 1,
   "metadata": {},
   "outputs": [
    {
     "name": "stdout",
     "output_type": "stream",
     "text": [
      "[name: \"/device:CPU:0\"\n",
      "device_type: \"CPU\"\n",
      "memory_limit: 268435456\n",
      "locality {\n",
      "}\n",
      "incarnation: 16267312959168182742\n",
      ", name: \"/device:GPU:0\"\n",
      "device_type: \"GPU\"\n",
      "memory_limit: 15134713447\n",
      "locality {\n",
      "  bus_id: 1\n",
      "  links {\n",
      "  }\n",
      "}\n",
      "incarnation: 10515524334591469198\n",
      "physical_device_desc: \"device: 0, name: Quadro RTX 5000, pci bus id: 0000:65:00.0, compute capability: 7.5\"\n",
      "]\n"
     ]
    }
   ],
   "source": [
    "from tensorflow.python.client import device_lib\n",
    "print(device_lib.list_local_devices())"
   ]
  },
  {
   "cell_type": "code",
   "execution_count": 2,
   "metadata": {},
   "outputs": [],
   "source": [
    "import pandas as pd\n",
    "import numpy as np\n",
    "import cv2\n",
    "from sklearn.model_selection import train_test_split\n",
    "from tensorflow.keras.applications.resnet50 import ResNet50, preprocess_input\n",
    "from tensorflow.keras.layers import Dense, Flatten, Dropout\n",
    "from tensorflow.keras.models import Model\n",
    "from tensorflow.keras.optimizers import Adam\n",
    "import matplotlib.pyplot as plt"
   ]
  },
  {
   "cell_type": "code",
   "execution_count": 6,
   "metadata": {},
   "outputs": [
    {
     "name": "stdout",
     "output_type": "stream",
     "text": [
      "length of train_df: 5911\n",
      "Found 5320 validated image filenames belonging to 50 classes.\n",
      "Found 591 validated image filenames belonging to 50 classes.\n"
     ]
    }
   ],
   "source": [
    "from tensorflow.keras.preprocessing.image import ImageDataGenerator\n",
    "\n",
    "train_df = pd.read_csv('./train.csv')\n",
    "print(\"size of train_df:\", len(train_df))\n",
    "\n",
    "# 데이터 노이즈 수정\n",
    "train_df.loc[train_df['id'] == 3896, 'artist'] = 'Titian'\n",
    "train_df.loc[train_df['id'] == 3986, 'artist'] = 'Alfred Sisley'\n",
    "\n",
    "DATAGEN_TRAIN = ImageDataGenerator(\n",
    "    rescale=1./255,\n",
    "    rotation_range=20,\n",
    "    width_shift_range=0.2,\n",
    "    height_shift_range=0.2,\n",
    "    shear_range=0.2,\n",
    "    zoom_range=0.2,\n",
    "    horizontal_flip=True,\n",
    "    vertical_flip=True,\n",
    "    data_format=\"channels_last\",\n",
    "    validation_split=0.10\n",
    ") # Train / Validation\n",
    "\n",
    "# Generator의 instance 생성 (Train)\n",
    "TRAIN_GENERATOR = DATAGEN_TRAIN.flow_from_dataframe(\n",
    "    dataframe=train_df,\n",
    "    x_col='img_path',\n",
    "    y_col='artist',\n",
    "    target_size=(244, 244),\n",
    "    class_mode='categorical',\n",
    "    batch_size=32,\n",
    "    shuffle=True,\n",
    "    subset=\"training\"\n",
    ")\n",
    "\n",
    "VALID_GENERATOR = DATAGEN_TRAIN.flow_from_dataframe(\n",
    "    dataframe=train_df,\n",
    "    x_col='img_path',\n",
    "    y_col='artist',\n",
    "    target_size=(244, 244),\n",
    "    class_mode='categorical',\n",
    "    batch_size=32,\n",
    "    shuffle=True,\n",
    "    subset=\"validation\"\n",
    ")"
   ]
  },
  {
   "cell_type": "code",
   "execution_count": 7,
   "metadata": {},
   "outputs": [],
   "source": [
    "# ResNet50 모델 로드\n",
    "base_model = ResNet50(weights='imagenet', include_top=False, input_shape=(244, 244, 3), pooling=None, input_tensor=None)\n",
    "\n",
    "# 새로운 Fully Connected Layer 추가\n",
    "x = base_model.output\n",
    "x = Flatten()(x)\n",
    "x = Dropout(0.2)(x) # 드롭아웃 추가\n",
    "predictions = Dense(50, activation='softmax')(x)\n",
    "\n",
    "#전체 모델 구성\n",
    "model = Model(inputs=base_model.input, outputs=predictions)\n",
    "\n",
    "\n",
    "# 모델 컴파일\n",
    "model.compile(optimizer=Adam(lr=3e-4), loss='categorical_crossentropy', metrics=['accuracy'])"
   ]
  },
  {
   "cell_type": "code",
   "execution_count": 8,
   "metadata": {},
   "outputs": [],
   "source": [
    "from tensorflow.keras.callbacks import EarlyStopping\n",
    "\n",
    "# Early Stopping 콜백\n",
    "early_stopping = EarlyStopping(monitor='val_loss', patience=3, verbose=1)"
   ]
  },
  {
   "cell_type": "code",
   "execution_count": 9,
   "metadata": {},
   "outputs": [
    {
     "name": "stdout",
     "output_type": "stream",
     "text": [
      "Train for 167 steps, validate for 19 steps\n",
      "Epoch 1/10\n",
      "167/167 [==============================] - 141s 841ms/step - loss: 3.8572 - accuracy: 0.3130 - val_loss: 37.9923 - val_accuracy: 0.0271\n",
      "Epoch 2/10\n",
      "167/167 [==============================] - 127s 763ms/step - loss: 1.7963 - accuracy: 0.5312 - val_loss: 40.1633 - val_accuracy: 0.0152\n",
      "Epoch 3/10\n",
      "167/167 [==============================] - 129s 771ms/step - loss: 1.5323 - accuracy: 0.5842 - val_loss: 9.9701 - val_accuracy: 0.0085\n",
      "Epoch 4/10\n",
      "167/167 [==============================] - 128s 764ms/step - loss: 1.3095 - accuracy: 0.6397 - val_loss: 11.3552 - val_accuracy: 0.0220\n",
      "Epoch 5/10\n",
      "167/167 [==============================] - 127s 762ms/step - loss: 1.2705 - accuracy: 0.6494 - val_loss: 8.8224 - val_accuracy: 0.0626\n",
      "Epoch 6/10\n",
      "167/167 [==============================] - 127s 758ms/step - loss: 1.1280 - accuracy: 0.6876 - val_loss: 7.2745 - val_accuracy: 0.1844\n",
      "Epoch 7/10\n",
      "167/167 [==============================] - 127s 759ms/step - loss: 0.9747 - accuracy: 0.7274 - val_loss: 2.8039 - val_accuracy: 0.4196\n",
      "Epoch 8/10\n",
      "167/167 [==============================] - 127s 761ms/step - loss: 0.9438 - accuracy: 0.7263 - val_loss: 2.3562 - val_accuracy: 0.5161\n",
      "Epoch 9/10\n",
      "167/167 [==============================] - 127s 762ms/step - loss: 0.8936 - accuracy: 0.7476 - val_loss: 2.8296 - val_accuracy: 0.4281\n",
      "Epoch 10/10\n",
      "167/167 [==============================] - 127s 762ms/step - loss: 0.8216 - accuracy: 0.7573 - val_loss: 4.0912 - val_accuracy: 0.3824\n"
     ]
    }
   ],
   "source": [
    "# 모델 학습\n",
    "history = model.fit(TRAIN_GENERATOR,\n",
    "                    epochs=10,\n",
    "                    validation_data=VALID_GENERATOR,\n",
    "                    callbacks=([early_stopping])\n",
    ")"
   ]
  },
  {
   "cell_type": "code",
   "execution_count": 10,
   "metadata": {},
   "outputs": [
    {
     "name": "stdout",
     "output_type": "stream",
     "text": [
      "19/19 [==============================] - 10s 513ms/step - loss: 4.1671 - accuracy: 0.3706\n",
      "Validation Loss: 4.167143\n",
      "Validation Accuracy: 0.371\n"
     ]
    }
   ],
   "source": [
    "# Validation 데이터에 대한 정확도 확인\n",
    "val_loss, val_accuracy = model.evaluate(VALID_GENERATOR)\n",
    "print('Validation Loss:', round(val_loss, 6))\n",
    "print('Validation Accuracy:', round(val_accuracy, 3))"
   ]
  },
  {
   "cell_type": "code",
   "execution_count": 17,
   "metadata": {},
   "outputs": [
    {
     "data": {
      "image/png": "[encoded data removed]",
      "text/plain": [
       "<Figure size 432x288 with 1 Axes>"
      ]
     },
     "metadata": {
      "needs_background": "light"
     },
     "output_type": "display_data"
    }
   ],
   "source": [
    "# 손실 그래프\n",
    "plt.plot(history.history['loss'])\n",
    "plt.plot(history.history['val_loss'])\n",
    "plt.title('Training Loss vs Validation Loss')\n",
    "plt.xlabel('Epochs')\n",
    "plt.ylabel('Loss')\n",
    "plt.legend(['loss', 'val_loss'])\n",
    "plt.show()"
   ]
  },
  {
   "cell_type": "code",
   "execution_count": 18,
   "metadata": {},
   "outputs": [
    {
     "data": {
      "image/png": "[encoded data removed]",
      "text/plain": [
       "<Figure size 432x288 with 1 Axes>"
      ]
     },
     "metadata": {
      "needs_background": "light"
     },
     "output_type": "display_data"
    }
   ],
   "source": [
    "# 정확도 그래프\n",
    "plt.plot([x * 100 for x in history.history['accuracy']])\n",
    "plt.plot([x * 100 for x in history.history['val_accuracy']])\n",
    "plt.title('Training Accuracy vs Validation Accuracy')\n",
    "plt.xlabel('Epochs')\n",
    "plt.ylabel('Accuracy (%)')\n",
    "plt.legend(['accuracy', 'val_accuracy'])\n",
    "plt.show()"
   ]
  },
  {
   "cell_type": "code",
   "execution_count": 19,
   "metadata": {},
   "outputs": [
    {
     "name": "stdout",
     "output_type": "stream",
     "text": [
      "Found 12670 validated image filenames.\n",
      "396/396 [==============================] - 411s 1s/step\n"
     ]
    },
    {
     "data": {
      "text/plain": [
       "array([[3.64030420e-05, 7.70450606e-06, 1.07290813e-04, ...,\n",
       "        4.49395848e-05, 1.98686100e-03, 2.19479989e-06],\n",
       "       [3.13749638e-06, 7.72896840e-08, 1.80107946e-07, ...,\n",
       "        4.77993023e-09, 1.49814878e-06, 1.65729723e-08],\n",
       "       [1.46449571e-13, 2.93151381e-13, 3.23644648e-13, ...,\n",
       "        5.62930128e-12, 2.02394476e-10, 1.07638446e-13],\n",
       "       ...,\n",
       "       [1.82071790e-06, 1.24729652e-07, 9.27697460e-04, ...,\n",
       "        4.27614441e-06, 1.04986990e-04, 2.19860567e-07],\n",
       "       [2.74254663e-08, 4.18285540e-09, 3.54999558e-10, ...,\n",
       "        3.81204686e-11, 1.24394120e-07, 2.76063977e-10],\n",
       "       [2.87429066e-05, 3.49275433e-06, 1.40638906e-04, ...,\n",
       "        3.07540060e-04, 7.92263541e-03, 1.97452982e-06]], dtype=float32)"
      ]
     },
     "metadata": {},
     "output_type": "display_data"
    }
   ],
   "source": [
    "test_df = pd.read_csv('test.csv')\n",
    "\n",
    "TEST_GENERATOR = DATAGEN_TRAIN.flow_from_dataframe(\n",
    "    dataframe=test_df,\n",
    "    x_col='img_path',\n",
    "    y_col='id',\n",
    "    target_size=(244, 244),\n",
    "    class_mode='raw',\n",
    "    batch_size=32,\n",
    "    shuffle=False,\n",
    ")\n",
    "\n",
    "TEST_GENERATOR.reset()\n",
    "\n",
    "test_prediction = model.predict(TEST_GENERATOR, verbose=1)\n",
    "display(test_prediction)"
   ]
  },
  {
   "cell_type": "code",
   "execution_count": 47,
   "metadata": {},
   "outputs": [
    {
     "data": {
      "text/plain": [
       "array([43, 43,  6, ..., 43, 43, 22], dtype=int64)"
      ]
     },
     "execution_count": 47,
     "metadata": {},
     "output_type": "execute_result"
    }
   ],
   "source": [
    "test_prediction = np.argmax(test_prediction, axis = 1)\n",
    "test_prediction"
   ]
  },
  {
   "cell_type": "code",
   "execution_count": 48,
   "metadata": {},
   "outputs": [
    {
     "data": {
      "text/html": [
       "<div>\n",
       "<style scoped>\n",
       "    .dataframe tbody tr th:only-of-type {\n",
       "        vertical-align: middle;\n",
       "    }\n",
       "\n",
       "    .dataframe tbody tr th {\n",
       "        vertical-align: top;\n",
       "    }\n",
       "\n",
       "    .dataframe thead th {\n",
       "        text-align: right;\n",
       "    }\n",
       "</style>\n",
       "<table border=\"1\" class=\"dataframe\">\n",
       "  <thead>\n",
       "    <tr style=\"text-align: right;\">\n",
       "      <th></th>\n",
       "      <th>artist</th>\n",
       "    </tr>\n",
       "  </thead>\n",
       "  <tbody>\n",
       "    <tr>\n",
       "      <th>0</th>\n",
       "      <td>43</td>\n",
       "    </tr>\n",
       "    <tr>\n",
       "      <th>1</th>\n",
       "      <td>43</td>\n",
       "    </tr>\n",
       "    <tr>\n",
       "      <th>2</th>\n",
       "      <td>6</td>\n",
       "    </tr>\n",
       "    <tr>\n",
       "      <th>3</th>\n",
       "      <td>43</td>\n",
       "    </tr>\n",
       "    <tr>\n",
       "      <th>4</th>\n",
       "      <td>43</td>\n",
       "    </tr>\n",
       "    <tr>\n",
       "      <th>...</th>\n",
       "      <td>...</td>\n",
       "    </tr>\n",
       "    <tr>\n",
       "      <th>12665</th>\n",
       "      <td>43</td>\n",
       "    </tr>\n",
       "    <tr>\n",
       "      <th>12666</th>\n",
       "      <td>43</td>\n",
       "    </tr>\n",
       "    <tr>\n",
       "      <th>12667</th>\n",
       "      <td>43</td>\n",
       "    </tr>\n",
       "    <tr>\n",
       "      <th>12668</th>\n",
       "      <td>43</td>\n",
       "    </tr>\n",
       "    <tr>\n",
       "      <th>12669</th>\n",
       "      <td>22</td>\n",
       "    </tr>\n",
       "  </tbody>\n",
       "</table>\n",
       "<p>12670 rows × 1 columns</p>\n",
       "</div>"
      ],
      "text/plain": [
       "       artist\n",
       "0          43\n",
       "1          43\n",
       "2           6\n",
       "3          43\n",
       "4          43\n",
       "...       ...\n",
       "12665      43\n",
       "12666      43\n",
       "12667      43\n",
       "12668      43\n",
       "12669      22\n",
       "\n",
       "[12670 rows x 1 columns]"
      ]
     },
     "execution_count": 48,
     "metadata": {},
     "output_type": "execute_result"
    }
   ],
   "source": [
    "test_prediction_df = pd.DataFrame(test_prediction, columns = ['artist'])\n",
    "test_prediction_df"
   ]
  },
  {
   "cell_type": "code",
   "execution_count": 49,
   "metadata": {},
   "outputs": [
    {
     "data": {
      "text/html": [
       "<div>\n",
       "<style scoped>\n",
       "    .dataframe tbody tr th:only-of-type {\n",
       "        vertical-align: middle;\n",
       "    }\n",
       "\n",
       "    .dataframe tbody tr th {\n",
       "        vertical-align: top;\n",
       "    }\n",
       "\n",
       "    .dataframe thead th {\n",
       "        text-align: right;\n",
       "    }\n",
       "</style>\n",
       "<table border=\"1\" class=\"dataframe\">\n",
       "  <thead>\n",
       "    <tr style=\"text-align: right;\">\n",
       "      <th></th>\n",
       "      <th>name</th>\n",
       "      <th>num</th>\n",
       "    </tr>\n",
       "  </thead>\n",
       "  <tbody>\n",
       "    <tr>\n",
       "      <th>0</th>\n",
       "      <td>Amedeo Modigliani</td>\n",
       "      <td>0</td>\n",
       "    </tr>\n",
       "    <tr>\n",
       "      <th>1</th>\n",
       "      <td>Vasiliy Kandinskiy</td>\n",
       "      <td>1</td>\n",
       "    </tr>\n",
       "    <tr>\n",
       "      <th>2</th>\n",
       "      <td>Diego Rivera</td>\n",
       "      <td>2</td>\n",
       "    </tr>\n",
       "    <tr>\n",
       "      <th>3</th>\n",
       "      <td>Claude Monet</td>\n",
       "      <td>3</td>\n",
       "    </tr>\n",
       "    <tr>\n",
       "      <th>4</th>\n",
       "      <td>Rene Magritte</td>\n",
       "      <td>4</td>\n",
       "    </tr>\n",
       "  </tbody>\n",
       "</table>\n",
       "</div>"
      ],
      "text/plain": [
       "                 name  num\n",
       "0   Amedeo Modigliani    0\n",
       "1  Vasiliy Kandinskiy    1\n",
       "2        Diego Rivera    2\n",
       "3        Claude Monet    3\n",
       "4       Rene Magritte    4"
      ]
     },
     "execution_count": 49,
     "metadata": {},
     "output_type": "execute_result"
    }
   ],
   "source": [
    "artist_info = pd.read_csv(\"./artists_info.csv\")\n",
    "new_df = pd.DataFrame(artist_info['name'])\n",
    "new_df['num'] = np.arange(50)\n",
    "new_df.head()"
   ]
  },
  {
   "cell_type": "code",
   "execution_count": 50,
   "metadata": {},
   "outputs": [
    {
     "data": {
      "text/plain": [
       "[43, 43, 6, 43, 43]"
      ]
     },
     "execution_count": 50,
     "metadata": {},
     "output_type": "execute_result"
    }
   ],
   "source": [
    "test_prediction_dic = test_prediction_df.to_dict()\n",
    "test_prediction_values = test_prediction_dic['artist'].values()\n",
    "test_prediction_list = list(test_prediction_values)\n",
    "test_prediction_list[:5]"
   ]
  },
  {
   "cell_type": "code",
   "execution_count": 51,
   "metadata": {},
   "outputs": [
    {
     "data": {
      "text/plain": [
       "{0: 'Amedeo Modigliani',\n",
       " 1: 'Vasiliy Kandinskiy',\n",
       " 2: 'Diego Rivera',\n",
       " 3: 'Claude Monet',\n",
       " 4: 'Rene Magritte',\n",
       " 5: 'Salvador Dali',\n",
       " 6: 'Edouard Manet',\n",
       " 7: 'Andrei Rublev',\n",
       " 8: 'Vincent van Gogh',\n",
       " 9: 'Gustav Klimt',\n",
       " 10: 'Hieronymus Bosch',\n",
       " 11: 'Kazimir Malevich',\n",
       " 12: 'Mikhail Vrubel',\n",
       " 13: 'Pablo Picasso',\n",
       " 14: 'Peter Paul Rubens',\n",
       " 15: 'Pierre-Auguste Renoir',\n",
       " 16: 'Francisco Goya',\n",
       " 17: 'Frida Kahlo',\n",
       " 18: 'El Greco',\n",
       " 19: 'Albrecht Dürer',\n",
       " 20: 'Alfred Sisley',\n",
       " 21: 'Pieter Bruegel',\n",
       " 22: 'Marc Chagall',\n",
       " 23: 'Giotto di Bondone',\n",
       " 24: 'Sandro Botticelli',\n",
       " 25: 'Caravaggio',\n",
       " 26: 'Leonardo da Vinci',\n",
       " 27: 'Diego Velazquez',\n",
       " 28: 'Henri Matisse',\n",
       " 29: 'Jan van Eyck',\n",
       " 30: 'Edgar Degas',\n",
       " 31: 'Rembrandt',\n",
       " 32: 'Titian',\n",
       " 33: 'Henri de Toulouse-Lautrec',\n",
       " 34: 'Gustave Courbet',\n",
       " 35: 'Camille Pissarro',\n",
       " 36: 'William Turner',\n",
       " 37: 'Edvard Munch',\n",
       " 38: 'Paul Cezanne',\n",
       " 39: 'Eugene Delacroix',\n",
       " 40: 'Henri Rousseau',\n",
       " 41: 'Georges Seurat',\n",
       " 42: 'Paul Klee',\n",
       " 43: 'Piet Mondrian',\n",
       " 44: 'Joan Miro',\n",
       " 45: 'Andy Warhol',\n",
       " 46: 'Paul Gauguin',\n",
       " 47: 'Raphael',\n",
       " 48: 'Michelangelo',\n",
       " 49: 'Jackson Pollock'}"
      ]
     },
     "execution_count": 51,
     "metadata": {},
     "output_type": "execute_result"
    }
   ],
   "source": [
    "artist_info_dic = artist_info['name'].to_dict()\n",
    "artist_info_dic"
   ]
  },
  {
   "cell_type": "code",
   "execution_count": 52,
   "metadata": {},
   "outputs": [
    {
     "data": {
      "text/plain": [
       "['Piet Mondrian',\n",
       " 'Piet Mondrian',\n",
       " 'Edouard Manet',\n",
       " 'Piet Mondrian',\n",
       " 'Piet Mondrian']"
      ]
     },
     "execution_count": 52,
     "metadata": {},
     "output_type": "execute_result"
    }
   ],
   "source": [
    "artist_name = []\n",
    "for i in test_prediction_list:\n",
    "    artist_name.append(artist_info_dic[i])\n",
    "artist_name[:5]"
   ]
  },
  {
   "cell_type": "code",
   "execution_count": 53,
   "metadata": {},
   "outputs": [
    {
     "data": {
      "text/html": [
       "<div>\n",
       "<style scoped>\n",
       "    .dataframe tbody tr th:only-of-type {\n",
       "        vertical-align: middle;\n",
       "    }\n",
       "\n",
       "    .dataframe tbody tr th {\n",
       "        vertical-align: top;\n",
       "    }\n",
       "\n",
       "    .dataframe thead th {\n",
       "        text-align: right;\n",
       "    }\n",
       "</style>\n",
       "<table border=\"1\" class=\"dataframe\">\n",
       "  <thead>\n",
       "    <tr style=\"text-align: right;\">\n",
       "      <th></th>\n",
       "      <th>id</th>\n",
       "    </tr>\n",
       "  </thead>\n",
       "  <tbody>\n",
       "    <tr>\n",
       "      <th>0</th>\n",
       "      <td>TEST_00000</td>\n",
       "    </tr>\n",
       "    <tr>\n",
       "      <th>1</th>\n",
       "      <td>TEST_00001</td>\n",
       "    </tr>\n",
       "    <tr>\n",
       "      <th>2</th>\n",
       "      <td>TEST_00002</td>\n",
       "    </tr>\n",
       "    <tr>\n",
       "      <th>3</th>\n",
       "      <td>TEST_00003</td>\n",
       "    </tr>\n",
       "    <tr>\n",
       "      <th>4</th>\n",
       "      <td>TEST_00004</td>\n",
       "    </tr>\n",
       "  </tbody>\n",
       "</table>\n",
       "</div>"
      ],
      "text/plain": [
       "           id\n",
       "0  TEST_00000\n",
       "1  TEST_00001\n",
       "2  TEST_00002\n",
       "3  TEST_00003\n",
       "4  TEST_00004"
      ]
     },
     "execution_count": 53,
     "metadata": {},
     "output_type": "execute_result"
    }
   ],
   "source": [
    "submission_df = pd.read_csv(\"./sample_submission.csv\")\n",
    "submission_df = submission_df.drop('artist', axis=1)\n",
    "submission_df.head()"
   ]
  },
  {
   "cell_type": "code",
   "execution_count": 54,
   "metadata": {},
   "outputs": [
    {
     "data": {
      "text/html": [
       "<div>\n",
       "<style scoped>\n",
       "    .dataframe tbody tr th:only-of-type {\n",
       "        vertical-align: middle;\n",
       "    }\n",
       "\n",
       "    .dataframe tbody tr th {\n",
       "        vertical-align: top;\n",
       "    }\n",
       "\n",
       "    .dataframe thead th {\n",
       "        text-align: right;\n",
       "    }\n",
       "</style>\n",
       "<table border=\"1\" class=\"dataframe\">\n",
       "  <thead>\n",
       "    <tr style=\"text-align: right;\">\n",
       "      <th></th>\n",
       "      <th>id</th>\n",
       "      <th>artist</th>\n",
       "    </tr>\n",
       "  </thead>\n",
       "  <tbody>\n",
       "    <tr>\n",
       "      <th>0</th>\n",
       "      <td>TEST_00000</td>\n",
       "      <td>Piet Mondrian</td>\n",
       "    </tr>\n",
       "    <tr>\n",
       "      <th>1</th>\n",
       "      <td>TEST_00001</td>\n",
       "      <td>Piet Mondrian</td>\n",
       "    </tr>\n",
       "    <tr>\n",
       "      <th>2</th>\n",
       "      <td>TEST_00002</td>\n",
       "      <td>Edouard Manet</td>\n",
       "    </tr>\n",
       "    <tr>\n",
       "      <th>3</th>\n",
       "      <td>TEST_00003</td>\n",
       "      <td>Piet Mondrian</td>\n",
       "    </tr>\n",
       "    <tr>\n",
       "      <th>4</th>\n",
       "      <td>TEST_00004</td>\n",
       "      <td>Piet Mondrian</td>\n",
       "    </tr>\n",
       "  </tbody>\n",
       "</table>\n",
       "</div>"
      ],
      "text/plain": [
       "           id         artist\n",
       "0  TEST_00000  Piet Mondrian\n",
       "1  TEST_00001  Piet Mondrian\n",
       "2  TEST_00002  Edouard Manet\n",
       "3  TEST_00003  Piet Mondrian\n",
       "4  TEST_00004  Piet Mondrian"
      ]
     },
     "execution_count": 54,
     "metadata": {},
     "output_type": "execute_result"
    }
   ],
   "source": [
    "submission_df['artist'] = artist_name\n",
    "submission_df.head()"
   ]
  },
  {
   "cell_type": "code",
   "execution_count": 55,
   "metadata": {},
   "outputs": [],
   "source": [
    "submission_df.to_csv(\"resnet50_submission.csv\", index=False)"
   ]
  },
  {
   "cell_type": "code",
   "execution_count": null,
   "metadata": {},
   "outputs": [],
   "source": []
  }
 ],
 "metadata": {
  "kernelspec": {
   "display_name": "Python 3 (ipykernel)",
   "language": "python",
   "name": "python3"
  },
  "language_info": {
   "codemirror_mode": {
    "name": "ipython",
    "version": 3
   },
   "file_extension": ".py",
   "mimetype": "text/x-python",
   "name": "python",
   "nbconvert_exporter": "python",
   "pygments_lexer": "ipython3",
   "version": "3.10.9"
  }
 },
 "nbformat": 4,
 "nbformat_minor": 4
}
