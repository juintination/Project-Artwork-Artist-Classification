{
 "cells": [
  {
   "cell_type": "code",
   "execution_count": 1,
   "metadata": {},
   "outputs": [
    {
     "name": "stdout",
     "output_type": "stream",
     "text": [
      "[name: \"/device:CPU:0\"\n",
      "device_type: \"CPU\"\n",
      "memory_limit: 268435456\n",
      "locality {\n",
      "}\n",
      "incarnation: 7768388468824357389\n",
      ", name: \"/device:GPU:0\"\n",
      "device_type: \"GPU\"\n",
      "memory_limit: 15134713447\n",
      "locality {\n",
      "  bus_id: 1\n",
      "  links {\n",
      "  }\n",
      "}\n",
      "incarnation: 16901691601481543634\n",
      "physical_device_desc: \"device: 0, name: Quadro RTX 5000, pci bus id: 0000:65:00.0, compute capability: 7.5\"\n",
      "]\n"
     ]
    }
   ],
   "source": [
    "from tensorflow.python.client import device_lib\n",
    "print(device_lib.list_local_devices())"
   ]
  },
  {
   "cell_type": "code",
   "execution_count": 2,
   "metadata": {},
   "outputs": [],
   "source": [
    "import pandas as pd\n",
    "import numpy as np\n",
    "import tensorflow as tf\n",
    "import os\n",
    "import cv2\n",
    "import glob\n",
    "from sklearn.model_selection import train_test_split\n",
    "from sklearn.preprocessing import LabelEncoder\n",
    "from tensorflow.keras.applications.resnet50 import ResNet50\n",
    "from tensorflow.keras.layers import Dense, Flatten, Dropout\n",
    "from tensorflow.keras.models import Model\n",
    "from tensorflow.keras.optimizers import Adam\n",
    "import matplotlib.pyplot as plt"
   ]
  },
  {
   "cell_type": "code",
   "execution_count": 3,
   "metadata": {},
   "outputs": [
    {
     "name": "stdout",
     "output_type": "stream",
     "text": [
      "size of train_df: 5911\n",
      "Found 5320 validated image filenames belonging to 50 classes.\n",
      "Found 591 validated image filenames belonging to 50 classes.\n"
     ]
    }
   ],
   "source": [
    "from tensorflow.keras.preprocessing.image import ImageDataGenerator\n",
    "\n",
    "train_df = pd.read_csv('./train.csv')\n",
    "print(\"size of train_df:\", len(train_df))\n",
    "\n",
    "# 데이터 노이즈 수정\n",
    "train_df.loc[train_df['id'] == 3896, 'artist'] = 'Titian'\n",
    "train_df.loc[train_df['id'] == 3986, 'artist'] = 'Alfred Sisley'\n",
    "\n",
    "DATAGEN_TRAIN = ImageDataGenerator(\n",
    "    rescale=1./255,\n",
    "    rotation_range=20,\n",
    "    width_shift_range=0.2,\n",
    "    height_shift_range=0.2,\n",
    "    shear_range=0.2,\n",
    "    zoom_range=0.2,\n",
    "    horizontal_flip=True,\n",
    "    vertical_flip=True,\n",
    "    data_format=\"channels_last\",\n",
    "    validation_split=0.10\n",
    ") # Train / Validation\n",
    "\n",
    "# Generator의 instance 생성 (Train)\n",
    "TRAIN_GENERATOR = DATAGEN_TRAIN.flow_from_dataframe(\n",
    "    dataframe=train_df,\n",
    "    x_col='img_path',\n",
    "    y_col='artist',\n",
    "    target_size=(244, 244),\n",
    "    class_mode='categorical',\n",
    "    batch_size=32,\n",
    "    shuffle=True,\n",
    "    subset=\"training\"\n",
    ")\n",
    "\n",
    "VALID_GENERATOR = DATAGEN_TRAIN.flow_from_dataframe(\n",
    "    dataframe=train_df,\n",
    "    x_col='img_path',\n",
    "    y_col='artist',\n",
    "    target_size=(244, 244),\n",
    "    class_mode='categorical',\n",
    "    batch_size=32,\n",
    "    shuffle=True,\n",
    "    subset=\"validation\"\n",
    ")"
   ]
  },
  {
   "cell_type": "code",
   "execution_count": 4,
   "metadata": {},
   "outputs": [],
   "source": [
    "# ResNet50 모델 로드\n",
    "base_model = ResNet50(weights='imagenet', include_top=False, input_shape=(244, 244, 3), pooling=None, input_tensor=None)\n",
    "\n",
    "# 새로운 Fully Connected Layer 추가\n",
    "x = base_model.output\n",
    "x = Flatten()(x)\n",
    "x = Dropout(0.2)(x) # 드롭아웃 추가\n",
    "predictions = Dense(50, activation='softmax')(x)\n",
    "\n",
    "#전체 모델 구성\n",
    "model = Model(inputs=base_model.input, outputs=predictions)\n",
    "\n",
    "\n",
    "# 모델 컴파일\n",
    "model.compile(optimizer=Adam(lr=3e-4), loss='categorical_crossentropy', metrics=['accuracy'])"
   ]
  },
  {
   "cell_type": "code",
   "execution_count": 5,
   "metadata": {},
   "outputs": [],
   "source": [
    "from tensorflow.keras.callbacks import ModelCheckpoint, ReduceLROnPlateau\n",
    "CP = ModelCheckpoint(filepath='resnet50_model/' + 'ResNet50-Sigmoid-{epoch:03d}-{loss:.4f}-{val_loss:.4f}.hdf5',\n",
    "                     monitor='val_loss', verbose=1, save_best_only=True, mode='min'\n",
    ")\n",
    "\n",
    "LR = ReduceLROnPlateau(monitor='val_loss', factor=0.5, patience=5, verbose=1, min_lr=0.00005)\n",
    "CALLBACK = [CP, LR]"
   ]
  },
  {
   "cell_type": "code",
   "execution_count": 6,
   "metadata": {
    "scrolled": false
   },
   "outputs": [
    {
     "name": "stdout",
     "output_type": "stream",
     "text": [
      "Train for 167 steps, validate for 19 steps\n",
      "Epoch 1/20\n",
      "166/167 [============================>.] - ETA: 0s - loss: 4.1568 - accuracy: 0.2655\n",
      "Epoch 00001: val_loss improved from inf to 4.02323, saving model to resnet50_model/ResNet50-Sigmoid-001-4.1548-4.0232.hdf5\n",
      "167/167 [==============================] - 140s 838ms/step - loss: 4.1463 - accuracy: 0.2665 - val_loss: 4.0232 - val_accuracy: 0.0169\n",
      "Epoch 2/20\n",
      "166/167 [============================>.] - ETA: 0s - loss: 2.1866 - accuracy: 0.4465\n",
      "Epoch 00002: val_loss did not improve from 4.02323\n",
      "167/167 [==============================] - 129s 770ms/step - loss: 2.1837 - accuracy: 0.4468 - val_loss: 5.2451 - val_accuracy: 0.0169\n",
      "Epoch 3/20\n",
      "166/167 [============================>.] - ETA: 0s - loss: 1.6957 - accuracy: 0.5418\n",
      "Epoch 00003: val_loss did not improve from 4.02323\n",
      "167/167 [==============================] - 128s 767ms/step - loss: 1.6960 - accuracy: 0.5417 - val_loss: 4.9433 - val_accuracy: 0.0406\n",
      "Epoch 4/20\n",
      "166/167 [============================>.] - ETA: 0s - loss: 1.5237 - accuracy: 0.5883\n",
      "Epoch 00004: val_loss did not improve from 4.02323\n",
      "167/167 [==============================] - 127s 761ms/step - loss: 1.5251 - accuracy: 0.5882 - val_loss: 7.9691 - val_accuracy: 0.0203\n",
      "Epoch 5/20\n",
      "166/167 [============================>.] - ETA: 0s - loss: 1.3753 - accuracy: 0.6229\n",
      "Epoch 00005: val_loss did not improve from 4.02323\n",
      "167/167 [==============================] - 127s 762ms/step - loss: 1.3715 - accuracy: 0.6237 - val_loss: 7.1749 - val_accuracy: 0.0609\n",
      "Epoch 6/20\n",
      "166/167 [============================>.] - ETA: 0s - loss: 1.3012 - accuracy: 0.6450\n",
      "Epoch 00006: val_loss did not improve from 4.02323\n",
      "\n",
      "Epoch 00006: ReduceLROnPlateau reducing learning rate to 0.0001500000071246177.\n",
      "167/167 [==============================] - 127s 761ms/step - loss: 1.3016 - accuracy: 0.6449 - val_loss: 4.4383 - val_accuracy: 0.2521\n",
      "Epoch 7/20\n",
      "166/167 [============================>.] - ETA: 0s - loss: 0.8965 - accuracy: 0.7441\n",
      "Epoch 00007: val_loss improved from 4.02323 to 2.35347, saving model to resnet50_model/ResNet50-Sigmoid-007-0.9007-2.3535.hdf5\n",
      "167/167 [==============================] - 128s 767ms/step - loss: 0.8974 - accuracy: 0.7436 - val_loss: 2.3535 - val_accuracy: 0.5076\n",
      "Epoch 8/20\n",
      "166/167 [============================>.] - ETA: 0s - loss: 0.7022 - accuracy: 0.7886\n",
      "Epoch 00008: val_loss improved from 2.35347 to 1.67235, saving model to resnet50_model/ResNet50-Sigmoid-008-0.7116-1.6723.hdf5\n",
      "167/167 [==============================] - 130s 777ms/step - loss: 0.7090 - accuracy: 0.7865 - val_loss: 1.6723 - val_accuracy: 0.6227\n",
      "Epoch 9/20\n",
      "166/167 [============================>.] - ETA: 0s - loss: 0.6266 - accuracy: 0.8084\n",
      "Epoch 00009: val_loss did not improve from 1.67235\n",
      "167/167 [==============================] - 129s 770ms/step - loss: 0.6263 - accuracy: 0.8088 - val_loss: 1.6964 - val_accuracy: 0.6125\n",
      "Epoch 10/20\n",
      "166/167 [============================>.] - ETA: 0s - loss: 0.5510 - accuracy: 0.8275\n",
      "Epoch 00010: val_loss did not improve from 1.67235\n",
      "167/167 [==============================] - 127s 761ms/step - loss: 0.5518 - accuracy: 0.8274 - val_loss: 2.0400 - val_accuracy: 0.5821\n",
      "Epoch 11/20\n",
      "166/167 [============================>.] - ETA: 0s - loss: 0.4999 - accuracy: 0.8444\n",
      "Epoch 00011: val_loss did not improve from 1.67235\n",
      "167/167 [==============================] - 127s 762ms/step - loss: 0.4999 - accuracy: 0.8445 - val_loss: 1.8020 - val_accuracy: 0.6244\n",
      "Epoch 12/20\n",
      "166/167 [============================>.] - ETA: 0s - loss: 0.4454 - accuracy: 0.8580\n",
      "Epoch 00012: val_loss did not improve from 1.67235\n",
      "167/167 [==============================] - 127s 759ms/step - loss: 0.4445 - accuracy: 0.8583 - val_loss: 1.9288 - val_accuracy: 0.5854\n",
      "Epoch 13/20\n",
      "166/167 [============================>.] - ETA: 0s - loss: 0.4126 - accuracy: 0.8650\n",
      "Epoch 00013: val_loss did not improve from 1.67235\n",
      "\n",
      "Epoch 00013: ReduceLROnPlateau reducing learning rate to 7.500000356230885e-05.\n",
      "167/167 [==============================] - 127s 759ms/step - loss: 0.4132 - accuracy: 0.8648 - val_loss: 2.0400 - val_accuracy: 0.5753\n",
      "Epoch 14/20\n",
      "166/167 [============================>.] - ETA: 0s - loss: 0.2803 - accuracy: 0.9094\n",
      "Epoch 00014: val_loss improved from 1.67235 to 1.54580, saving model to resnet50_model/ResNet50-Sigmoid-014-0.2804-1.5458.hdf5\n",
      "167/167 [==============================] - 128s 768ms/step - loss: 0.2794 - accuracy: 0.9096 - val_loss: 1.5458 - val_accuracy: 0.7140\n",
      "Epoch 15/20\n",
      "166/167 [============================>.] - ETA: 0s - loss: 0.1950 - accuracy: 0.9368\n",
      "Epoch 00015: val_loss did not improve from 1.54580\n",
      "167/167 [==============================] - 129s 771ms/step - loss: 0.1953 - accuracy: 0.9367 - val_loss: 1.7071 - val_accuracy: 0.6904\n",
      "Epoch 16/20\n",
      "166/167 [============================>.] - ETA: 0s - loss: 0.1823 - accuracy: 0.9421\n",
      "Epoch 00016: val_loss did not improve from 1.54580\n",
      "167/167 [==============================] - 127s 759ms/step - loss: 0.1832 - accuracy: 0.9419 - val_loss: 2.0174 - val_accuracy: 0.6768\n",
      "Epoch 17/20\n",
      "166/167 [============================>.] - ETA: 0s - loss: 0.1655 - accuracy: 0.9474\n",
      "Epoch 00017: val_loss did not improve from 1.54580\n",
      "167/167 [==============================] - 126s 756ms/step - loss: 0.1660 - accuracy: 0.9468 - val_loss: 1.9507 - val_accuracy: 0.6819\n",
      "Epoch 18/20\n",
      "166/167 [============================>.] - ETA: 0s - loss: 0.1421 - accuracy: 0.9544\n",
      "Epoch 00018: val_loss did not improve from 1.54580\n",
      "167/167 [==============================] - 126s 757ms/step - loss: 0.1433 - accuracy: 0.9541 - val_loss: 1.9111 - val_accuracy: 0.6785\n",
      "Epoch 19/20\n",
      "166/167 [============================>.] - ETA: 0s - loss: 0.1261 - accuracy: 0.9586\n",
      "Epoch 00019: val_loss did not improve from 1.54580\n",
      "\n",
      "Epoch 00019: ReduceLROnPlateau reducing learning rate to 5e-05.\n",
      "167/167 [==============================] - 126s 756ms/step - loss: 0.1262 - accuracy: 0.9585 - val_loss: 1.8045 - val_accuracy: 0.6904\n",
      "Epoch 20/20\n",
      "166/167 [============================>.] - ETA: 0s - loss: 0.0998 - accuracy: 0.9680\n",
      "Epoch 00020: val_loss did not improve from 1.54580\n",
      "167/167 [==============================] - 127s 759ms/step - loss: 0.0995 - accuracy: 0.9682 - val_loss: 1.7314 - val_accuracy: 0.6920\n"
     ]
    }
   ],
   "source": [
    "# 모델 학습\n",
    "history = model.fit(TRAIN_GENERATOR,\n",
    "                    epochs=20,\n",
    "                    validation_data=VALID_GENERATOR,\n",
    "                    callbacks=CALLBACK,\n",
    ")"
   ]
  },
  {
   "cell_type": "code",
   "execution_count": 7,
   "metadata": {},
   "outputs": [
    {
     "data": {
      "image/png": "[encoded data removed]",
      "text/plain": [
       "<Figure size 432x288 with 1 Axes>"
      ]
     },
     "metadata": {
      "needs_background": "light"
     },
     "output_type": "display_data"
    }
   ],
   "source": [
    "# 손실 그래프\n",
    "plt.plot(history.history['loss'])\n",
    "plt.plot(history.history['val_loss'])\n",
    "plt.title('Training Loss vs Validation Loss')\n",
    "plt.xlabel('Epochs')\n",
    "plt.ylabel('Loss')\n",
    "plt.legend(['loss', 'val_loss'])\n",
    "plt.show()"
   ]
  },
  {
   "cell_type": "code",
   "execution_count": 8,
   "metadata": {},
   "outputs": [
    {
     "data": {
      "image/png": "[encoded data removed]",
      "text/plain": [
       "<Figure size 432x288 with 1 Axes>"
      ]
     },
     "metadata": {
      "needs_background": "light"
     },
     "output_type": "display_data"
    }
   ],
   "source": [
    "# 정확도 그래프\n",
    "plt.plot([x * 100 for x in history.history['accuracy']])\n",
    "plt.plot([x * 100 for x in history.history['val_accuracy']])\n",
    "plt.title('Training Accuracy vs Validation Accuracy')\n",
    "plt.xlabel('Epochs')\n",
    "plt.ylabel('Accuracy (%)')\n",
    "plt.legend(['accuracy', 'val_accuracy'])\n",
    "plt.show()"
   ]
  },
  {
   "cell_type": "code",
   "execution_count": 6,
   "metadata": {},
   "outputs": [
    {
     "name": "stdout",
     "output_type": "stream",
     "text": [
      "19/19 [==============================] - 27s 1s/step - loss: 1.5572 - accuracy: 0.6887\n",
      "Validation Loss: 1.557201\n",
      "Validation Accuracy: 0.689\n"
     ]
    }
   ],
   "source": [
    "# 최신 체크포인트 파일 찾기\n",
    "checkpoint_files = glob.glob('resnet50_model/*.hdf5')\n",
    "latest_checkpoint = max(checkpoint_files, key=os.path.getctime)\n",
    "\n",
    "# 모델에 최신 가중치 로드\n",
    "model.load_weights(latest_checkpoint)\n",
    "\n",
    "# Validation 데이터에 대한 정확도 확인\n",
    "val_loss, val_accuracy = model.evaluate(VALID_GENERATOR)\n",
    "print('Validation Loss:', round(val_loss, 6))\n",
    "print('Validation Accuracy:', round(val_accuracy, 3))"
   ]
  },
  {
   "cell_type": "code",
   "execution_count": 7,
   "metadata": {},
   "outputs": [
    {
     "name": "stdout",
     "output_type": "stream",
     "text": [
      "Found 12670 validated image filenames.\n",
      "resnet50_model\\ResNet50-Sigmoid-014-0.2804-1.5458.hdf5\n",
      "396/396 [==============================] - 467s 1s/step\n"
     ]
    },
    {
     "data": {
      "text/plain": [
       "array([[1.6943183e-04, 9.9976087e-06, 2.2487135e-03, ..., 9.5472351e-05,\n",
       "        2.9622573e-02, 1.8148499e-07],\n",
       "       [2.5966885e-06, 3.3336843e-07, 8.2911938e-01, ..., 5.9192607e-06,\n",
       "        2.8596651e-03, 1.4071844e-06],\n",
       "       [2.1524486e-06, 1.4108102e-07, 3.0086076e-06, ..., 1.6191147e-05,\n",
       "        2.0995556e-04, 1.6446934e-09],\n",
       "       ...,\n",
       "       [2.9334633e-06, 1.2780438e-07, 3.0439960e-02, ..., 7.6787357e-05,\n",
       "        3.6677317e-04, 1.1691445e-08],\n",
       "       [3.6544134e-04, 2.0242749e-06, 1.5355890e-04, ..., 2.1415049e-06,\n",
       "        1.3356821e-02, 5.3659769e-06],\n",
       "       [4.1638732e-06, 5.2197734e-08, 2.4576262e-05, ..., 3.4950481e-06,\n",
       "        9.7072798e-01, 2.7390282e-10]], dtype=float32)"
      ]
     },
     "metadata": {},
     "output_type": "display_data"
    }
   ],
   "source": [
    "test_df = pd.read_csv('test.csv')\n",
    "\n",
    "TEST_GENERATOR = DATAGEN_TRAIN.flow_from_dataframe(\n",
    "    dataframe=test_df,\n",
    "    x_col='img_path',\n",
    "    y_col='id',\n",
    "    target_size=(244, 244),\n",
    "    class_mode='raw',\n",
    "    batch_size=32,\n",
    "    shuffle=False,\n",
    ")\n",
    "\n",
    "TEST_GENERATOR.reset()\n",
    "\n",
    "# 최신 체크포인트 파일 찾기\n",
    "checkpoint_files = glob.glob('resnet50_model/*.hdf5')\n",
    "latest_checkpoint = max(checkpoint_files, key=os.path.getctime)\n",
    "\n",
    "print(latest_checkpoint)\n",
    "\n",
    "# 모델에 최신 가중치 로드\n",
    "model.load_weights(latest_checkpoint)\n",
    "\n",
    "test_prediction = model.predict(TEST_GENERATOR, verbose=1)\n",
    "display(test_prediction)"
   ]
  },
  {
   "cell_type": "code",
   "execution_count": 8,
   "metadata": {},
   "outputs": [
    {
     "data": {
      "text/plain": [
       "array([10,  2,  9, ..., 33, 46, 48], dtype=int64)"
      ]
     },
     "execution_count": 8,
     "metadata": {},
     "output_type": "execute_result"
    }
   ],
   "source": [
    "test_prediction = np.argmax(test_prediction, axis = 1)\n",
    "test_prediction"
   ]
  },
  {
   "cell_type": "code",
   "execution_count": 9,
   "metadata": {},
   "outputs": [
    {
     "data": {
      "text/html": [
       "<div>\n",
       "<style scoped>\n",
       "    .dataframe tbody tr th:only-of-type {\n",
       "        vertical-align: middle;\n",
       "    }\n",
       "\n",
       "    .dataframe tbody tr th {\n",
       "        vertical-align: top;\n",
       "    }\n",
       "\n",
       "    .dataframe thead th {\n",
       "        text-align: right;\n",
       "    }\n",
       "</style>\n",
       "<table border=\"1\" class=\"dataframe\">\n",
       "  <thead>\n",
       "    <tr style=\"text-align: right;\">\n",
       "      <th></th>\n",
       "      <th>artist</th>\n",
       "    </tr>\n",
       "  </thead>\n",
       "  <tbody>\n",
       "    <tr>\n",
       "      <th>0</th>\n",
       "      <td>10</td>\n",
       "    </tr>\n",
       "    <tr>\n",
       "      <th>1</th>\n",
       "      <td>2</td>\n",
       "    </tr>\n",
       "    <tr>\n",
       "      <th>2</th>\n",
       "      <td>9</td>\n",
       "    </tr>\n",
       "    <tr>\n",
       "      <th>3</th>\n",
       "      <td>15</td>\n",
       "    </tr>\n",
       "    <tr>\n",
       "      <th>4</th>\n",
       "      <td>48</td>\n",
       "    </tr>\n",
       "    <tr>\n",
       "      <th>...</th>\n",
       "      <td>...</td>\n",
       "    </tr>\n",
       "    <tr>\n",
       "      <th>12665</th>\n",
       "      <td>10</td>\n",
       "    </tr>\n",
       "    <tr>\n",
       "      <th>12666</th>\n",
       "      <td>13</td>\n",
       "    </tr>\n",
       "    <tr>\n",
       "      <th>12667</th>\n",
       "      <td>33</td>\n",
       "    </tr>\n",
       "    <tr>\n",
       "      <th>12668</th>\n",
       "      <td>46</td>\n",
       "    </tr>\n",
       "    <tr>\n",
       "      <th>12669</th>\n",
       "      <td>48</td>\n",
       "    </tr>\n",
       "  </tbody>\n",
       "</table>\n",
       "<p>12670 rows × 1 columns</p>\n",
       "</div>"
      ],
      "text/plain": [
       "       artist\n",
       "0          10\n",
       "1           2\n",
       "2           9\n",
       "3          15\n",
       "4          48\n",
       "...       ...\n",
       "12665      10\n",
       "12666      13\n",
       "12667      33\n",
       "12668      46\n",
       "12669      48\n",
       "\n",
       "[12670 rows x 1 columns]"
      ]
     },
     "execution_count": 9,
     "metadata": {},
     "output_type": "execute_result"
    }
   ],
   "source": [
    "test_prediction_df = pd.DataFrame(test_prediction, columns = ['artist'])\n",
    "test_prediction_df"
   ]
  },
  {
   "cell_type": "code",
   "execution_count": 11,
   "metadata": {},
   "outputs": [
    {
     "data": {
      "text/html": [
       "<div>\n",
       "<style scoped>\n",
       "    .dataframe tbody tr th:only-of-type {\n",
       "        vertical-align: middle;\n",
       "    }\n",
       "\n",
       "    .dataframe tbody tr th {\n",
       "        vertical-align: top;\n",
       "    }\n",
       "\n",
       "    .dataframe thead th {\n",
       "        text-align: right;\n",
       "    }\n",
       "</style>\n",
       "<table border=\"1\" class=\"dataframe\">\n",
       "  <thead>\n",
       "    <tr style=\"text-align: right;\">\n",
       "      <th></th>\n",
       "      <th>artist</th>\n",
       "      <th>num</th>\n",
       "    </tr>\n",
       "  </thead>\n",
       "  <tbody>\n",
       "    <tr>\n",
       "      <th>0</th>\n",
       "      <td>Diego Velazquez</td>\n",
       "      <td>9</td>\n",
       "    </tr>\n",
       "    <tr>\n",
       "      <th>1</th>\n",
       "      <td>Vincent van Gogh</td>\n",
       "      <td>48</td>\n",
       "    </tr>\n",
       "    <tr>\n",
       "      <th>2</th>\n",
       "      <td>Claude Monet</td>\n",
       "      <td>7</td>\n",
       "    </tr>\n",
       "    <tr>\n",
       "      <th>3</th>\n",
       "      <td>Edgar Degas</td>\n",
       "      <td>10</td>\n",
       "    </tr>\n",
       "    <tr>\n",
       "      <th>4</th>\n",
       "      <td>Hieronymus Bosch</td>\n",
       "      <td>24</td>\n",
       "    </tr>\n",
       "  </tbody>\n",
       "</table>\n",
       "</div>"
      ],
      "text/plain": [
       "             artist  num\n",
       "0   Diego Velazquez    9\n",
       "1  Vincent van Gogh   48\n",
       "2      Claude Monet    7\n",
       "3       Edgar Degas   10\n",
       "4  Hieronymus Bosch   24"
      ]
     },
     "execution_count": 11,
     "metadata": {},
     "output_type": "execute_result"
    }
   ],
   "source": [
    "label_encoder = LabelEncoder()\n",
    "artist_df = train_df.copy()\n",
    "artist_le = label_encoder.fit_transform(artist_df['artist'].values)\n",
    "artist_df['num'] = artist_le\n",
    "artist_df = artist_df.drop('id', axis=1)\n",
    "artist_df = artist_df.drop('img_path', axis=1)\n",
    "artist_df.head()"
   ]
  },
  {
   "cell_type": "code",
   "execution_count": 12,
   "metadata": {},
   "outputs": [
    {
     "data": {
      "text/plain": [
       "[10, 2, 9, 15, 48]"
      ]
     },
     "execution_count": 12,
     "metadata": {},
     "output_type": "execute_result"
    }
   ],
   "source": [
    "test_prediction_dic = test_prediction_df.to_dict()\n",
    "test_prediction_values = test_prediction_dic['artist'].values()\n",
    "test_prediction_list = list(test_prediction_values)\n",
    "test_prediction_list[:5]"
   ]
  },
  {
   "cell_type": "code",
   "execution_count": 13,
   "metadata": {},
   "outputs": [
    {
     "data": {
      "text/html": [
       "<div>\n",
       "<style scoped>\n",
       "    .dataframe tbody tr th:only-of-type {\n",
       "        vertical-align: middle;\n",
       "    }\n",
       "\n",
       "    .dataframe tbody tr th {\n",
       "        vertical-align: top;\n",
       "    }\n",
       "\n",
       "    .dataframe thead th {\n",
       "        text-align: right;\n",
       "    }\n",
       "</style>\n",
       "<table border=\"1\" class=\"dataframe\">\n",
       "  <thead>\n",
       "    <tr style=\"text-align: right;\">\n",
       "      <th></th>\n",
       "      <th>artist</th>\n",
       "    </tr>\n",
       "    <tr>\n",
       "      <th>num</th>\n",
       "      <th></th>\n",
       "    </tr>\n",
       "  </thead>\n",
       "  <tbody>\n",
       "    <tr>\n",
       "      <th>9</th>\n",
       "      <td>Diego Velazquez</td>\n",
       "    </tr>\n",
       "    <tr>\n",
       "      <th>48</th>\n",
       "      <td>Vincent van Gogh</td>\n",
       "    </tr>\n",
       "    <tr>\n",
       "      <th>7</th>\n",
       "      <td>Claude Monet</td>\n",
       "    </tr>\n",
       "    <tr>\n",
       "      <th>10</th>\n",
       "      <td>Edgar Degas</td>\n",
       "    </tr>\n",
       "    <tr>\n",
       "      <th>24</th>\n",
       "      <td>Hieronymus Bosch</td>\n",
       "    </tr>\n",
       "    <tr>\n",
       "      <th>...</th>\n",
       "      <td>...</td>\n",
       "    </tr>\n",
       "    <tr>\n",
       "      <th>40</th>\n",
       "      <td>Pieter Bruegel</td>\n",
       "    </tr>\n",
       "    <tr>\n",
       "      <th>37</th>\n",
       "      <td>Peter Paul Rubens</td>\n",
       "    </tr>\n",
       "    <tr>\n",
       "      <th>35</th>\n",
       "      <td>Paul Gauguin</td>\n",
       "    </tr>\n",
       "    <tr>\n",
       "      <th>35</th>\n",
       "      <td>Paul Gauguin</td>\n",
       "    </tr>\n",
       "    <tr>\n",
       "      <th>3</th>\n",
       "      <td>Andrei Rublev</td>\n",
       "    </tr>\n",
       "  </tbody>\n",
       "</table>\n",
       "<p>5911 rows × 1 columns</p>\n",
       "</div>"
      ],
      "text/plain": [
       "                artist\n",
       "num                   \n",
       "9      Diego Velazquez\n",
       "48    Vincent van Gogh\n",
       "7         Claude Monet\n",
       "10         Edgar Degas\n",
       "24    Hieronymus Bosch\n",
       "..                 ...\n",
       "40      Pieter Bruegel\n",
       "37   Peter Paul Rubens\n",
       "35        Paul Gauguin\n",
       "35        Paul Gauguin\n",
       "3        Andrei Rublev\n",
       "\n",
       "[5911 rows x 1 columns]"
      ]
     },
     "execution_count": 13,
     "metadata": {},
     "output_type": "execute_result"
    }
   ],
   "source": [
    "artist_df.set_index('num', inplace=True)\n",
    "artist_df"
   ]
  },
  {
   "cell_type": "code",
   "execution_count": 14,
   "metadata": {},
   "outputs": [
    {
     "data": {
      "text/html": [
       "<div>\n",
       "<style scoped>\n",
       "    .dataframe tbody tr th:only-of-type {\n",
       "        vertical-align: middle;\n",
       "    }\n",
       "\n",
       "    .dataframe tbody tr th {\n",
       "        vertical-align: top;\n",
       "    }\n",
       "\n",
       "    .dataframe thead th {\n",
       "        text-align: right;\n",
       "    }\n",
       "</style>\n",
       "<table border=\"1\" class=\"dataframe\">\n",
       "  <thead>\n",
       "    <tr style=\"text-align: right;\">\n",
       "      <th></th>\n",
       "      <th>artist</th>\n",
       "    </tr>\n",
       "    <tr>\n",
       "      <th>num</th>\n",
       "      <th></th>\n",
       "    </tr>\n",
       "  </thead>\n",
       "  <tbody>\n",
       "    <tr>\n",
       "      <th>0</th>\n",
       "      <td>Albrecht Du rer</td>\n",
       "    </tr>\n",
       "    <tr>\n",
       "      <th>0</th>\n",
       "      <td>Albrecht Du rer</td>\n",
       "    </tr>\n",
       "    <tr>\n",
       "      <th>0</th>\n",
       "      <td>Albrecht Du rer</td>\n",
       "    </tr>\n",
       "    <tr>\n",
       "      <th>0</th>\n",
       "      <td>Albrecht Du rer</td>\n",
       "    </tr>\n",
       "    <tr>\n",
       "      <th>0</th>\n",
       "      <td>Albrecht Du rer</td>\n",
       "    </tr>\n",
       "    <tr>\n",
       "      <th>...</th>\n",
       "      <td>...</td>\n",
       "    </tr>\n",
       "    <tr>\n",
       "      <th>49</th>\n",
       "      <td>William Turner</td>\n",
       "    </tr>\n",
       "    <tr>\n",
       "      <th>49</th>\n",
       "      <td>William Turner</td>\n",
       "    </tr>\n",
       "    <tr>\n",
       "      <th>49</th>\n",
       "      <td>William Turner</td>\n",
       "    </tr>\n",
       "    <tr>\n",
       "      <th>49</th>\n",
       "      <td>William Turner</td>\n",
       "    </tr>\n",
       "    <tr>\n",
       "      <th>49</th>\n",
       "      <td>William Turner</td>\n",
       "    </tr>\n",
       "  </tbody>\n",
       "</table>\n",
       "<p>5911 rows × 1 columns</p>\n",
       "</div>"
      ],
      "text/plain": [
       "              artist\n",
       "num                 \n",
       "0    Albrecht Du rer\n",
       "0    Albrecht Du rer\n",
       "0    Albrecht Du rer\n",
       "0    Albrecht Du rer\n",
       "0    Albrecht Du rer\n",
       "..               ...\n",
       "49    William Turner\n",
       "49    William Turner\n",
       "49    William Turner\n",
       "49    William Turner\n",
       "49    William Turner\n",
       "\n",
       "[5911 rows x 1 columns]"
      ]
     },
     "execution_count": 14,
     "metadata": {},
     "output_type": "execute_result"
    }
   ],
   "source": [
    "artist_df = artist_df.sort_index()\n",
    "artist_df"
   ]
  },
  {
   "cell_type": "code",
   "execution_count": 20,
   "metadata": {},
   "outputs": [
    {
     "data": {
      "text/plain": [
       "{0: 'Albrecht Du rer',\n",
       " 1: 'Alfred Sisley',\n",
       " 2: 'Amedeo Modigliani',\n",
       " 3: 'Andrei Rublev',\n",
       " 4: 'Andy Warhol',\n",
       " 5: 'Camille Pissarro',\n",
       " 6: 'Caravaggio',\n",
       " 7: 'Claude Monet',\n",
       " 8: 'Diego Rivera',\n",
       " 9: 'Diego Velazquez',\n",
       " 10: 'Edgar Degas',\n",
       " 11: 'Edouard Manet',\n",
       " 12: 'Edvard Munch',\n",
       " 13: 'El Greco',\n",
       " 14: 'Eugene Delacroix',\n",
       " 15: 'Francisco Goya',\n",
       " 16: 'Frida Kahlo',\n",
       " 17: 'Georges Seurat',\n",
       " 18: 'Giotto di Bondone',\n",
       " 19: 'Gustav Klimt',\n",
       " 20: 'Gustave Courbet',\n",
       " 21: 'Henri Matisse',\n",
       " 22: 'Henri Rousseau',\n",
       " 23: 'Henri de Toulouse-Lautrec',\n",
       " 24: 'Hieronymus Bosch',\n",
       " 25: 'Jackson Pollock',\n",
       " 26: 'Jan van Eyck',\n",
       " 27: 'Joan Miro',\n",
       " 28: 'Kazimir Malevich',\n",
       " 29: 'Leonardo da Vinci',\n",
       " 30: 'Marc Chagall',\n",
       " 31: 'Michelangelo',\n",
       " 32: 'Mikhail Vrubel',\n",
       " 33: 'Pablo Picasso',\n",
       " 34: 'Paul Cezanne',\n",
       " 35: 'Paul Gauguin',\n",
       " 36: 'Paul Klee',\n",
       " 37: 'Peter Paul Rubens',\n",
       " 38: 'Pierre-Auguste Renoir',\n",
       " 39: 'Piet Mondrian',\n",
       " 40: 'Pieter Bruegel',\n",
       " 41: 'Raphael',\n",
       " 42: 'Rembrandt',\n",
       " 43: 'Rene Magritte',\n",
       " 44: 'Salvador Dali',\n",
       " 45: 'Sandro Botticelli',\n",
       " 46: 'Titian',\n",
       " 47: 'Vasiliy Kandinskiy',\n",
       " 48: 'Vincent van Gogh',\n",
       " 49: 'William Turner'}"
      ]
     },
     "execution_count": 20,
     "metadata": {},
     "output_type": "execute_result"
    }
   ],
   "source": [
    "artist_info_dic = artist_df['artist'].to_dict()\n",
    "artist_info_dic"
   ]
  },
  {
   "cell_type": "code",
   "execution_count": 21,
   "metadata": {},
   "outputs": [
    {
     "data": {
      "text/plain": [
       "['Edgar Degas',\n",
       " 'Amedeo Modigliani',\n",
       " 'Diego Velazquez',\n",
       " 'Francisco Goya',\n",
       " 'Vincent van Gogh']"
      ]
     },
     "execution_count": 21,
     "metadata": {},
     "output_type": "execute_result"
    }
   ],
   "source": [
    "artist_name = []\n",
    "for i in test_prediction_list:\n",
    "    artist_name.append(artist_info_dic[i])\n",
    "artist_name[:5]"
   ]
  },
  {
   "cell_type": "code",
   "execution_count": 22,
   "metadata": {},
   "outputs": [
    {
     "data": {
      "text/html": [
       "<div>\n",
       "<style scoped>\n",
       "    .dataframe tbody tr th:only-of-type {\n",
       "        vertical-align: middle;\n",
       "    }\n",
       "\n",
       "    .dataframe tbody tr th {\n",
       "        vertical-align: top;\n",
       "    }\n",
       "\n",
       "    .dataframe thead th {\n",
       "        text-align: right;\n",
       "    }\n",
       "</style>\n",
       "<table border=\"1\" class=\"dataframe\">\n",
       "  <thead>\n",
       "    <tr style=\"text-align: right;\">\n",
       "      <th></th>\n",
       "      <th>id</th>\n",
       "    </tr>\n",
       "  </thead>\n",
       "  <tbody>\n",
       "    <tr>\n",
       "      <th>0</th>\n",
       "      <td>TEST_00000</td>\n",
       "    </tr>\n",
       "    <tr>\n",
       "      <th>1</th>\n",
       "      <td>TEST_00001</td>\n",
       "    </tr>\n",
       "    <tr>\n",
       "      <th>2</th>\n",
       "      <td>TEST_00002</td>\n",
       "    </tr>\n",
       "    <tr>\n",
       "      <th>3</th>\n",
       "      <td>TEST_00003</td>\n",
       "    </tr>\n",
       "    <tr>\n",
       "      <th>4</th>\n",
       "      <td>TEST_00004</td>\n",
       "    </tr>\n",
       "  </tbody>\n",
       "</table>\n",
       "</div>"
      ],
      "text/plain": [
       "           id\n",
       "0  TEST_00000\n",
       "1  TEST_00001\n",
       "2  TEST_00002\n",
       "3  TEST_00003\n",
       "4  TEST_00004"
      ]
     },
     "execution_count": 22,
     "metadata": {},
     "output_type": "execute_result"
    }
   ],
   "source": [
    "submission_df = pd.read_csv(\"./sample_submission.csv\")\n",
    "submission_df = submission_df.drop('artist', axis=1)\n",
    "submission_df.head()"
   ]
  },
  {
   "cell_type": "code",
   "execution_count": 23,
   "metadata": {},
   "outputs": [
    {
     "data": {
      "text/html": [
       "<div>\n",
       "<style scoped>\n",
       "    .dataframe tbody tr th:only-of-type {\n",
       "        vertical-align: middle;\n",
       "    }\n",
       "\n",
       "    .dataframe tbody tr th {\n",
       "        vertical-align: top;\n",
       "    }\n",
       "\n",
       "    .dataframe thead th {\n",
       "        text-align: right;\n",
       "    }\n",
       "</style>\n",
       "<table border=\"1\" class=\"dataframe\">\n",
       "  <thead>\n",
       "    <tr style=\"text-align: right;\">\n",
       "      <th></th>\n",
       "      <th>id</th>\n",
       "      <th>artist</th>\n",
       "    </tr>\n",
       "  </thead>\n",
       "  <tbody>\n",
       "    <tr>\n",
       "      <th>0</th>\n",
       "      <td>TEST_00000</td>\n",
       "      <td>Edgar Degas</td>\n",
       "    </tr>\n",
       "    <tr>\n",
       "      <th>1</th>\n",
       "      <td>TEST_00001</td>\n",
       "      <td>Amedeo Modigliani</td>\n",
       "    </tr>\n",
       "    <tr>\n",
       "      <th>2</th>\n",
       "      <td>TEST_00002</td>\n",
       "      <td>Diego Velazquez</td>\n",
       "    </tr>\n",
       "    <tr>\n",
       "      <th>3</th>\n",
       "      <td>TEST_00003</td>\n",
       "      <td>Francisco Goya</td>\n",
       "    </tr>\n",
       "    <tr>\n",
       "      <th>4</th>\n",
       "      <td>TEST_00004</td>\n",
       "      <td>Vincent van Gogh</td>\n",
       "    </tr>\n",
       "  </tbody>\n",
       "</table>\n",
       "</div>"
      ],
      "text/plain": [
       "           id             artist\n",
       "0  TEST_00000        Edgar Degas\n",
       "1  TEST_00001  Amedeo Modigliani\n",
       "2  TEST_00002    Diego Velazquez\n",
       "3  TEST_00003     Francisco Goya\n",
       "4  TEST_00004   Vincent van Gogh"
      ]
     },
     "execution_count": 23,
     "metadata": {},
     "output_type": "execute_result"
    }
   ],
   "source": [
    "submission_df['artist'] = artist_name\n",
    "submission_df.head()"
   ]
  },
  {
   "cell_type": "code",
   "execution_count": 24,
   "metadata": {},
   "outputs": [],
   "source": [
    "submission_df.to_csv(\"resnet50_submission.csv\", index=False)"
   ]
  },
  {
   "cell_type": "code",
   "execution_count": null,
   "metadata": {},
   "outputs": [],
   "source": []
  }
 ],
 "metadata": {
  "kernelspec": {
   "display_name": "Python 3 (ipykernel)",
   "language": "python",
   "name": "python3"
  },
  "language_info": {
   "codemirror_mode": {
    "name": "ipython",
    "version": 3
   },
   "file_extension": ".py",
   "mimetype": "text/x-python",
   "name": "python",
   "nbconvert_exporter": "python",
   "pygments_lexer": "ipython3",
   "version": "3.10.9"
  }
 },
 "nbformat": 4,
 "nbformat_minor": 4
}
