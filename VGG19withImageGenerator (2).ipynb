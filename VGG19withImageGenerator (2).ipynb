{
 "cells": [
  {
   "cell_type": "code",
   "execution_count": 1,
   "id": "violent-estonia",
   "metadata": {},
   "outputs": [
    {
     "name": "stdout",
     "output_type": "stream",
     "text": [
      "[name: \"/device:CPU:0\"\n",
      "device_type: \"CPU\"\n",
      "memory_limit: 268435456\n",
      "locality {\n",
      "}\n",
      "incarnation: 17596239598380534212\n",
      ", name: \"/device:GPU:0\"\n",
      "device_type: \"GPU\"\n",
      "memory_limit: 15134713447\n",
      "locality {\n",
      "  bus_id: 1\n",
      "  links {\n",
      "  }\n",
      "}\n",
      "incarnation: 11941137036082817147\n",
      "physical_device_desc: \"device: 0, name: Quadro RTX 5000, pci bus id: 0000:65:00.0, compute capability: 7.5\"\n",
      "]\n"
     ]
    }
   ],
   "source": [
    "from tensorflow.python.client import device_lib\n",
    "print(device_lib.list_local_devices())"
   ]
  },
  {
   "cell_type": "code",
   "execution_count": 2,
   "id": "greenhouse-enemy",
   "metadata": {},
   "outputs": [],
   "source": [
    "import pandas as pd\n",
    "import numpy as np\n",
    "import tensorflow as tf\n",
    "import os\n",
    "import cv2\n",
    "import glob\n",
    "from sklearn.model_selection import train_test_split\n",
    "from sklearn.preprocessing import LabelEncoder\n",
    "from tensorflow.keras.applications import VGG19\n",
    "from tensorflow.keras.layers import Dense, Flatten, Dropout\n",
    "from tensorflow.keras.models import Model\n",
    "from tensorflow.keras.optimizers import Adam\n",
    "import matplotlib.pyplot as plt"
   ]
  },
  {
   "cell_type": "code",
   "execution_count": 3,
   "id": "adopted-frank",
   "metadata": {},
   "outputs": [
    {
     "name": "stdout",
     "output_type": "stream",
     "text": [
      "size of train_df: 5911\n",
      "Found 5320 validated image filenames belonging to 50 classes.\n",
      "Found 591 validated image filenames belonging to 50 classes.\n"
     ]
    }
   ],
   "source": [
    "from tensorflow.keras.preprocessing.image import ImageDataGenerator\n",
    "\n",
    "train_df = pd.read_csv('./train.csv')\n",
    "print(\"size of train_df:\", len(train_df))\n",
    "\n",
    "# 데이터 노이즈 수정\n",
    "train_df.loc[train_df['id'] == 3896, 'artist'] = 'Titian'\n",
    "train_df.loc[train_df['id'] == 3986, 'artist'] = 'Alfred Sisley'\n",
    "\n",
    "DATAGEN_TRAIN = ImageDataGenerator(\n",
    "    rescale=1./255,\n",
    "    rotation_range=20,\n",
    "    width_shift_range=0.2,\n",
    "    height_shift_range=0.2,\n",
    "    shear_range=0.2,\n",
    "    zoom_range=0.2,\n",
    "    horizontal_flip=True,\n",
    "    vertical_flip=True,\n",
    "    data_format=\"channels_last\",\n",
    "    validation_split=0.10\n",
    ") # Train / Validation\n",
    "\n",
    "# Generator의 instance 생성 (Train)\n",
    "TRAIN_GENERATOR = DATAGEN_TRAIN.flow_from_dataframe(\n",
    "    dataframe=train_df,\n",
    "    x_col='img_path',\n",
    "    y_col='artist',\n",
    "    target_size=(244, 244),\n",
    "    class_mode='categorical',\n",
    "    batch_size=32,\n",
    "    shuffle=True,\n",
    "    subset=\"training\"\n",
    ")\n",
    "\n",
    "VALID_GENERATOR = DATAGEN_TRAIN.flow_from_dataframe(\n",
    "    dataframe=train_df,\n",
    "    x_col='img_path',\n",
    "    y_col='artist',\n",
    "    target_size=(244, 244),\n",
    "    class_mode='categorical',\n",
    "    batch_size=32,\n",
    "    shuffle=True,\n",
    "    subset=\"validation\"\n",
    ")"
   ]
  },
  {
   "cell_type": "code",
   "execution_count": 4,
   "id": "stylish-dallas",
   "metadata": {},
   "outputs": [],
   "source": [
    "# ResNet50 모델 로드\n",
    "base_model = VGG19(weights='imagenet', include_top=False, input_shape=(244, 244, 3), pooling=None, input_tensor=None)\n",
    "\n",
    "# 새로운 Fully Connected Layer 추가\n",
    "x = base_model.output\n",
    "x = Flatten()(x)\n",
    "x = Dropout(0.2)(x) # 드롭아웃 추가\n",
    "predictions = Dense(50, activation='softmax')(x)\n",
    "\n",
    "#전체 모델 구성\n",
    "model = Model(inputs=base_model.input, outputs=predictions)\n",
    "\n",
    "# 모델 컴파일\n",
    "model.compile(optimizer=Adam(lr=3e-4), loss='categorical_crossentropy', metrics=['accuracy'])"
   ]
  },
  {
   "cell_type": "code",
   "execution_count": 5,
   "id": "western-television",
   "metadata": {},
   "outputs": [],
   "source": [
    "from tensorflow.keras.callbacks import ModelCheckpoint, ReduceLROnPlateau\n",
    "CP = ModelCheckpoint(filepath='vgg19_model/' + 'VGG19-Sigmoid-{epoch:03d}-{accuracy:.4f}-{val_loss:.4f}.hdf5',\n",
    "                     monitor='val_loss', verbose=1, save_best_only=True, mode='min'\n",
    ")\n",
    "\n",
    "LR = ReduceLROnPlateau(monitor='val_loss', factor=0.5, patience=5, verbose=1, min_lr=0.00005)\n",
    "CALLBACK = [CP, LR]"
   ]
  },
  {
   "cell_type": "code",
   "execution_count": 6,
   "id": "opened-difficulty",
   "metadata": {},
   "outputs": [
    {
     "name": "stdout",
     "output_type": "stream",
     "text": [
      "Train for 167 steps, validate for 19 steps\n",
      "Epoch 1/20\n",
      "166/167 [============================>.] - ETA: 0s - loss: 3.6475 - accuracy: 0.0997\n",
      "Epoch 00001: val_loss improved from inf to 3.50073, saving model to vgg19_model/VGG19-Sigmoid-001-0.0998-3.5007.hdf5\n",
      "167/167 [==============================] - 164s 980ms/step - loss: 3.6462 - accuracy: 0.0998 - val_loss: 3.5007 - val_accuracy: 0.1235\n",
      "Epoch 2/20\n",
      "166/167 [============================>.] - ETA: 0s - loss: 3.3668 - accuracy: 0.1379\n",
      "Epoch 00002: val_loss improved from 3.50073 to 3.22024, saving model to vgg19_model/VGG19-Sigmoid-002-0.1385-3.2202.hdf5\n",
      "167/167 [==============================] - 143s 858ms/step - loss: 3.3664 - accuracy: 0.1385 - val_loss: 3.2202 - val_accuracy: 0.1523\n",
      "Epoch 3/20\n",
      "166/167 [============================>.] - ETA: 0s - loss: 3.2087 - accuracy: 0.1668\n",
      "Epoch 00003: val_loss did not improve from 3.22024\n",
      "167/167 [==============================] - 143s 854ms/step - loss: 3.2113 - accuracy: 0.1667 - val_loss: 3.2393 - val_accuracy: 0.1337\n",
      "Epoch 4/20\n",
      "166/167 [============================>.] - ETA: 0s - loss: 3.1089 - accuracy: 0.1848\n",
      "Epoch 00004: val_loss improved from 3.22024 to 3.05550, saving model to vgg19_model/VGG19-Sigmoid-004-0.1850-3.0555.hdf5\n",
      "167/167 [==============================] - 141s 847ms/step - loss: 3.1083 - accuracy: 0.1850 - val_loss: 3.0555 - val_accuracy: 0.2081\n",
      "Epoch 5/20\n",
      "166/167 [============================>.] - ETA: 0s - loss: 3.0220 - accuracy: 0.2141\n",
      "Epoch 00005: val_loss improved from 3.05550 to 3.05264, saving model to vgg19_model/VGG19-Sigmoid-005-0.2143-3.0526.hdf5\n",
      "167/167 [==============================] - 143s 855ms/step - loss: 3.0202 - accuracy: 0.2143 - val_loss: 3.0526 - val_accuracy: 0.2014\n",
      "Epoch 6/20\n",
      "166/167 [============================>.] - ETA: 0s - loss: 2.9612 - accuracy: 0.2277\n",
      "Epoch 00006: val_loss improved from 3.05264 to 2.99224, saving model to vgg19_model/VGG19-Sigmoid-006-0.2280-2.9922.hdf5\n",
      "167/167 [==============================] - 143s 857ms/step - loss: 2.9594 - accuracy: 0.2280 - val_loss: 2.9922 - val_accuracy: 0.2267\n",
      "Epoch 7/20\n",
      "166/167 [============================>.] - ETA: 0s - loss: 2.9275 - accuracy: 0.2256\n",
      "Epoch 00007: val_loss improved from 2.99224 to 2.97843, saving model to vgg19_model/VGG19-Sigmoid-007-0.2256-2.9784.hdf5\n",
      "167/167 [==============================] - 143s 855ms/step - loss: 2.9269 - accuracy: 0.2256 - val_loss: 2.9784 - val_accuracy: 0.2030\n",
      "Epoch 8/20\n",
      "166/167 [============================>.] - ETA: 0s - loss: 2.8695 - accuracy: 0.2419\n",
      "Epoch 00008: val_loss improved from 2.97843 to 2.89626, saving model to vgg19_model/VGG19-Sigmoid-008-0.2421-2.8963.hdf5\n",
      "167/167 [==============================] - 142s 850ms/step - loss: 2.8677 - accuracy: 0.2421 - val_loss: 2.8963 - val_accuracy: 0.2589\n",
      "Epoch 9/20\n",
      "166/167 [============================>.] - ETA: 0s - loss: 2.8287 - accuracy: 0.2409\n",
      "Epoch 00009: val_loss did not improve from 2.89626\n",
      "167/167 [==============================] - 143s 855ms/step - loss: 2.8287 - accuracy: 0.2414 - val_loss: 2.9342 - val_accuracy: 0.2352\n",
      "Epoch 10/20\n",
      "166/167 [============================>.] - ETA: 0s - loss: 2.7845 - accuracy: 0.2508\n",
      "Epoch 00010: val_loss did not improve from 2.89626\n",
      "167/167 [==============================] - 141s 847ms/step - loss: 2.7856 - accuracy: 0.2504 - val_loss: 2.9243 - val_accuracy: 0.2200\n",
      "Epoch 11/20\n",
      "166/167 [============================>.] - ETA: 0s - loss: 2.7555 - accuracy: 0.2523\n",
      "Epoch 00011: val_loss improved from 2.89626 to 2.87221, saving model to vgg19_model/VGG19-Sigmoid-011-0.2523-2.8722.hdf5\n",
      "167/167 [==============================] - 142s 847ms/step - loss: 2.7583 - accuracy: 0.2523 - val_loss: 2.8722 - val_accuracy: 0.2267\n",
      "Epoch 12/20\n",
      "166/167 [============================>.] - ETA: 0s - loss: 2.7272 - accuracy: 0.2608\n",
      "Epoch 00012: val_loss did not improve from 2.87221\n",
      "167/167 [==============================] - 142s 853ms/step - loss: 2.7246 - accuracy: 0.2617 - val_loss: 2.8729 - val_accuracy: 0.2538\n",
      "Epoch 13/20\n",
      "166/167 [============================>.] - ETA: 0s - loss: 2.7076 - accuracy: 0.2623\n",
      "Epoch 00013: val_loss improved from 2.87221 to 2.85925, saving model to vgg19_model/VGG19-Sigmoid-013-0.2622-2.8593.hdf5\n",
      "167/167 [==============================] - 142s 850ms/step - loss: 2.7090 - accuracy: 0.2622 - val_loss: 2.8593 - val_accuracy: 0.2589\n",
      "Epoch 14/20\n",
      "166/167 [============================>.] - ETA: 0s - loss: 2.6939 - accuracy: 0.2731\n",
      "Epoch 00014: val_loss improved from 2.85925 to 2.80819, saving model to vgg19_model/VGG19-Sigmoid-014-0.2729-2.8082.hdf5\n",
      "167/167 [==============================] - 143s 856ms/step - loss: 2.6947 - accuracy: 0.2729 - val_loss: 2.8082 - val_accuracy: 0.2623\n",
      "Epoch 15/20\n",
      "166/167 [============================>.] - ETA: 0s - loss: 2.6478 - accuracy: 0.2776\n",
      "Epoch 00015: val_loss improved from 2.80819 to 2.80200, saving model to vgg19_model/VGG19-Sigmoid-015-0.2773-2.8020.hdf5\n",
      "167/167 [==============================] - 143s 856ms/step - loss: 2.6465 - accuracy: 0.2773 - val_loss: 2.8020 - val_accuracy: 0.2623\n",
      "Epoch 16/20\n",
      "166/167 [============================>.] - ETA: 0s - loss: 2.6395 - accuracy: 0.2759\n",
      "Epoch 00016: val_loss improved from 2.80200 to 2.74235, saving model to vgg19_model/VGG19-Sigmoid-016-0.2758-2.7424.hdf5\n",
      "167/167 [==============================] - 143s 857ms/step - loss: 2.6412 - accuracy: 0.2758 - val_loss: 2.7424 - val_accuracy: 0.2826\n",
      "Epoch 17/20\n",
      "166/167 [============================>.] - ETA: 0s - loss: 2.6301 - accuracy: 0.2835\n",
      "Epoch 00017: val_loss improved from 2.74235 to 2.69158, saving model to vgg19_model/VGG19-Sigmoid-017-0.2842-2.6916.hdf5\n",
      "167/167 [==============================] - 143s 858ms/step - loss: 2.6286 - accuracy: 0.2842 - val_loss: 2.6916 - val_accuracy: 0.2826\n",
      "Epoch 18/20\n",
      "166/167 [============================>.] - ETA: 0s - loss: 2.5836 - accuracy: 0.2929\n",
      "Epoch 00018: val_loss improved from 2.69158 to 2.66453, saving model to vgg19_model/VGG19-Sigmoid-018-0.2932-2.6645.hdf5\n",
      "167/167 [==============================] - 143s 855ms/step - loss: 2.5822 - accuracy: 0.2932 - val_loss: 2.6645 - val_accuracy: 0.3063\n",
      "Epoch 19/20\n",
      "166/167 [============================>.] - ETA: 0s - loss: 2.5723 - accuracy: 0.2922\n",
      "Epoch 00019: val_loss did not improve from 2.66453\n",
      "167/167 [==============================] - 142s 853ms/step - loss: 2.5709 - accuracy: 0.2930 - val_loss: 2.7535 - val_accuracy: 0.2944\n",
      "Epoch 20/20\n",
      "166/167 [============================>.] - ETA: 0s - loss: 2.5603 - accuracy: 0.2842\n",
      "Epoch 00020: val_loss did not improve from 2.66453\n",
      "167/167 [==============================] - 141s 845ms/step - loss: 2.5602 - accuracy: 0.2850 - val_loss: 2.7240 - val_accuracy: 0.2758\n"
     ]
    }
   ],
   "source": [
    "# 모델 학습\n",
    "history = model.fit(TRAIN_GENERATOR,\n",
    "                    epochs=20,\n",
    "                    validation_data=VALID_GENERATOR,\n",
    "                    callbacks=CALLBACK,\n",
    ")"
   ]
  },
  {
   "cell_type": "code",
   "execution_count": 7,
   "id": "leading-surface",
   "metadata": {},
   "outputs": [
    {
     "data": {
      "image/png": "[encoded data removed]",
      "text/plain": [
       "<Figure size 432x288 with 1 Axes>"
      ]
     },
     "metadata": {
      "needs_background": "light"
     },
     "output_type": "display_data"
    }
   ],
   "source": [
    "# 손실 그래프\n",
    "plt.plot(history.history['loss'])\n",
    "plt.plot(history.history['val_loss'])\n",
    "plt.title('Training Loss vs Validation Loss')\n",
    "plt.xlabel('Epochs')\n",
    "plt.ylabel('Loss')\n",
    "plt.legend(['loss', 'val_loss'])\n",
    "plt.show()"
   ]
  },
  {
   "cell_type": "code",
   "execution_count": 8,
   "id": "available-crowd",
   "metadata": {},
   "outputs": [
    {
     "data": {
      "image/png": "[encoded data removed]",
      "text/plain": [
       "<Figure size 432x288 with 1 Axes>"
      ]
     },
     "metadata": {
      "needs_background": "light"
     },
     "output_type": "display_data"
    }
   ],
   "source": [
    "# 정확도 그래프\n",
    "plt.plot([x * 100 for x in history.history['accuracy']])\n",
    "plt.plot([x * 100 for x in history.history['val_accuracy']])\n",
    "plt.title('Training Accuracy vs Validation Accuracy')\n",
    "plt.xlabel('Epochs')\n",
    "plt.ylabel('Accuracy (%)')\n",
    "plt.legend(['accuracy', 'val_accuracy'])\n",
    "plt.show()"
   ]
  },
  {
   "cell_type": "code",
   "execution_count": 9,
   "id": "secondary-amino",
   "metadata": {},
   "outputs": [
    {
     "name": "stdout",
     "output_type": "stream",
     "text": [
      "19/19 [==============================] - 10s 541ms/step - loss: 2.7112 - accuracy: 0.2826\n",
      "Validation Loss: 2.711229\n",
      "Validation Accuracy: 0.283\n"
     ]
    }
   ],
   "source": [
    "# 최신 체크포인트 파일 찾기\n",
    "checkpoint_files = glob.glob('vgg19_model/*.hdf5')\n",
    "latest_checkpoint = max(checkpoint_files, key=os.path.getctime)\n",
    "\n",
    "# 모델에 최신 가중치 로드\n",
    "model.load_weights(latest_checkpoint)\n",
    "\n",
    "# Validation 데이터에 대한 정확도 확인\n",
    "val_loss, val_accuracy = model.evaluate(VALID_GENERATOR)\n",
    "print('Validation Loss:', round(val_loss, 6))\n",
    "print('Validation Accuracy:', round(val_accuracy, 3))"
   ]
  },
  {
   "cell_type": "code",
   "execution_count": 10,
   "id": "administrative-organic",
   "metadata": {},
   "outputs": [
    {
     "name": "stdout",
     "output_type": "stream",
     "text": [
      "Found 12670 validated image filenames.\n",
      "vgg19_model\\VGG19-Sigmoid-018-0.2932-2.6645.hdf5\n",
      "396/396 [==============================] - 413s 1s/step\n"
     ]
    },
    {
     "data": {
      "text/plain": [
       "array([[1.00803372e-04, 4.61119307e-05, 1.72548387e-02, ...,\n",
       "        1.21343136e-03, 1.92843154e-02, 1.36642848e-04],\n",
       "       [7.17520190e-04, 6.92473201e-04, 2.32886858e-02, ...,\n",
       "        4.62807075e-04, 9.98472124e-02, 1.20410379e-02],\n",
       "       [5.99299092e-04, 5.89286152e-04, 8.19172990e-03, ...,\n",
       "        2.22163828e-04, 4.07258905e-02, 3.72089236e-03],\n",
       "       ...,\n",
       "       [3.14621534e-03, 1.27937342e-03, 4.77700075e-03, ...,\n",
       "        2.11931823e-04, 1.63796932e-01, 1.35431010e-02],\n",
       "       [3.09515599e-04, 7.10433815e-05, 7.35668640e-04, ...,\n",
       "        2.28115510e-07, 2.55571939e-02, 6.66558510e-04],\n",
       "       [3.91939626e-04, 2.66099873e-04, 3.84970829e-02, ...,\n",
       "        1.11572146e-04, 4.02992703e-02, 4.80425922e-04]], dtype=float32)"
      ]
     },
     "metadata": {},
     "output_type": "display_data"
    }
   ],
   "source": [
    "test_df = pd.read_csv('test.csv')\n",
    "\n",
    "TEST_GENERATOR = DATAGEN_TRAIN.flow_from_dataframe(\n",
    "    dataframe=test_df,\n",
    "    x_col='img_path',\n",
    "    y_col='id',\n",
    "    target_size=(244, 244),\n",
    "    class_mode='raw',\n",
    "    batch_size=32,\n",
    "    shuffle=False,\n",
    ")\n",
    "\n",
    "TEST_GENERATOR.reset()\n",
    "\n",
    "# 최신 체크포인트 파일 찾기\n",
    "checkpoint_files = glob.glob('vgg19_model/*.hdf5')\n",
    "latest_checkpoint = max(checkpoint_files, key=os.path.getctime)\n",
    "\n",
    "print(latest_checkpoint)\n",
    "\n",
    "# 모델에 최신 가중치 로드\n",
    "model.load_weights(latest_checkpoint)\n",
    "\n",
    "test_prediction = model.predict(TEST_GENERATOR, verbose=1)\n",
    "display(test_prediction)"
   ]
  },
  {
   "cell_type": "code",
   "execution_count": 11,
   "id": "structured-quarter",
   "metadata": {},
   "outputs": [
    {
     "data": {
      "text/plain": [
       "array([ 6, 10, 10, ..., 10, 42, 46], dtype=int64)"
      ]
     },
     "execution_count": 11,
     "metadata": {},
     "output_type": "execute_result"
    }
   ],
   "source": [
    "test_prediction = np.argmax(test_prediction, axis = 1)\n",
    "test_prediction"
   ]
  },
  {
   "cell_type": "code",
   "execution_count": 12,
   "id": "curious-automation",
   "metadata": {},
   "outputs": [
    {
     "data": {
      "text/html": [
       "<div>\n",
       "<style scoped>\n",
       "    .dataframe tbody tr th:only-of-type {\n",
       "        vertical-align: middle;\n",
       "    }\n",
       "\n",
       "    .dataframe tbody tr th {\n",
       "        vertical-align: top;\n",
       "    }\n",
       "\n",
       "    .dataframe thead th {\n",
       "        text-align: right;\n",
       "    }\n",
       "</style>\n",
       "<table border=\"1\" class=\"dataframe\">\n",
       "  <thead>\n",
       "    <tr style=\"text-align: right;\">\n",
       "      <th></th>\n",
       "      <th>artist</th>\n",
       "    </tr>\n",
       "  </thead>\n",
       "  <tbody>\n",
       "    <tr>\n",
       "      <th>0</th>\n",
       "      <td>6</td>\n",
       "    </tr>\n",
       "    <tr>\n",
       "      <th>1</th>\n",
       "      <td>10</td>\n",
       "    </tr>\n",
       "    <tr>\n",
       "      <th>2</th>\n",
       "      <td>10</td>\n",
       "    </tr>\n",
       "    <tr>\n",
       "      <th>3</th>\n",
       "      <td>0</td>\n",
       "    </tr>\n",
       "    <tr>\n",
       "      <th>4</th>\n",
       "      <td>10</td>\n",
       "    </tr>\n",
       "    <tr>\n",
       "      <th>...</th>\n",
       "      <td>...</td>\n",
       "    </tr>\n",
       "    <tr>\n",
       "      <th>12665</th>\n",
       "      <td>10</td>\n",
       "    </tr>\n",
       "    <tr>\n",
       "      <th>12666</th>\n",
       "      <td>10</td>\n",
       "    </tr>\n",
       "    <tr>\n",
       "      <th>12667</th>\n",
       "      <td>10</td>\n",
       "    </tr>\n",
       "    <tr>\n",
       "      <th>12668</th>\n",
       "      <td>42</td>\n",
       "    </tr>\n",
       "    <tr>\n",
       "      <th>12669</th>\n",
       "      <td>46</td>\n",
       "    </tr>\n",
       "  </tbody>\n",
       "</table>\n",
       "<p>12670 rows × 1 columns</p>\n",
       "</div>"
      ],
      "text/plain": [
       "       artist\n",
       "0           6\n",
       "1          10\n",
       "2          10\n",
       "3           0\n",
       "4          10\n",
       "...       ...\n",
       "12665      10\n",
       "12666      10\n",
       "12667      10\n",
       "12668      42\n",
       "12669      46\n",
       "\n",
       "[12670 rows x 1 columns]"
      ]
     },
     "execution_count": 12,
     "metadata": {},
     "output_type": "execute_result"
    }
   ],
   "source": [
    "test_prediction_df = pd.DataFrame(test_prediction, columns = ['artist'])\n",
    "test_prediction_df"
   ]
  },
  {
   "cell_type": "code",
   "execution_count": 13,
   "id": "southeast-increase",
   "metadata": {},
   "outputs": [
    {
     "data": {
      "text/html": [
       "<div>\n",
       "<style scoped>\n",
       "    .dataframe tbody tr th:only-of-type {\n",
       "        vertical-align: middle;\n",
       "    }\n",
       "\n",
       "    .dataframe tbody tr th {\n",
       "        vertical-align: top;\n",
       "    }\n",
       "\n",
       "    .dataframe thead th {\n",
       "        text-align: right;\n",
       "    }\n",
       "</style>\n",
       "<table border=\"1\" class=\"dataframe\">\n",
       "  <thead>\n",
       "    <tr style=\"text-align: right;\">\n",
       "      <th></th>\n",
       "      <th>artist</th>\n",
       "      <th>num</th>\n",
       "    </tr>\n",
       "  </thead>\n",
       "  <tbody>\n",
       "    <tr>\n",
       "      <th>0</th>\n",
       "      <td>Diego Velazquez</td>\n",
       "      <td>9</td>\n",
       "    </tr>\n",
       "    <tr>\n",
       "      <th>1</th>\n",
       "      <td>Vincent van Gogh</td>\n",
       "      <td>48</td>\n",
       "    </tr>\n",
       "    <tr>\n",
       "      <th>2</th>\n",
       "      <td>Claude Monet</td>\n",
       "      <td>7</td>\n",
       "    </tr>\n",
       "    <tr>\n",
       "      <th>3</th>\n",
       "      <td>Edgar Degas</td>\n",
       "      <td>10</td>\n",
       "    </tr>\n",
       "    <tr>\n",
       "      <th>4</th>\n",
       "      <td>Hieronymus Bosch</td>\n",
       "      <td>24</td>\n",
       "    </tr>\n",
       "  </tbody>\n",
       "</table>\n",
       "</div>"
      ],
      "text/plain": [
       "             artist  num\n",
       "0   Diego Velazquez    9\n",
       "1  Vincent van Gogh   48\n",
       "2      Claude Monet    7\n",
       "3       Edgar Degas   10\n",
       "4  Hieronymus Bosch   24"
      ]
     },
     "execution_count": 13,
     "metadata": {},
     "output_type": "execute_result"
    }
   ],
   "source": [
    "label_encoder = LabelEncoder()\n",
    "artist_df = train_df.copy()\n",
    "artist_le = label_encoder.fit_transform(artist_df['artist'].values)\n",
    "artist_df['num'] = artist_le\n",
    "artist_df = artist_df.drop('id', axis=1)\n",
    "artist_df = artist_df.drop('img_path', axis=1)\n",
    "artist_df.head()"
   ]
  },
  {
   "cell_type": "code",
   "execution_count": 14,
   "id": "governmental-intranet",
   "metadata": {},
   "outputs": [
    {
     "data": {
      "text/plain": [
       "[6, 10, 10, 0, 10]"
      ]
     },
     "execution_count": 14,
     "metadata": {},
     "output_type": "execute_result"
    }
   ],
   "source": [
    "test_prediction_dic = test_prediction_df.to_dict()\n",
    "test_prediction_values = test_prediction_dic['artist'].values()\n",
    "test_prediction_list = list(test_prediction_values)\n",
    "test_prediction_list[:5]"
   ]
  },
  {
   "cell_type": "code",
   "execution_count": 15,
   "id": "subject-puzzle",
   "metadata": {},
   "outputs": [
    {
     "data": {
      "text/html": [
       "<div>\n",
       "<style scoped>\n",
       "    .dataframe tbody tr th:only-of-type {\n",
       "        vertical-align: middle;\n",
       "    }\n",
       "\n",
       "    .dataframe tbody tr th {\n",
       "        vertical-align: top;\n",
       "    }\n",
       "\n",
       "    .dataframe thead th {\n",
       "        text-align: right;\n",
       "    }\n",
       "</style>\n",
       "<table border=\"1\" class=\"dataframe\">\n",
       "  <thead>\n",
       "    <tr style=\"text-align: right;\">\n",
       "      <th></th>\n",
       "      <th>artist</th>\n",
       "    </tr>\n",
       "    <tr>\n",
       "      <th>num</th>\n",
       "      <th></th>\n",
       "    </tr>\n",
       "  </thead>\n",
       "  <tbody>\n",
       "    <tr>\n",
       "      <th>9</th>\n",
       "      <td>Diego Velazquez</td>\n",
       "    </tr>\n",
       "    <tr>\n",
       "      <th>48</th>\n",
       "      <td>Vincent van Gogh</td>\n",
       "    </tr>\n",
       "    <tr>\n",
       "      <th>7</th>\n",
       "      <td>Claude Monet</td>\n",
       "    </tr>\n",
       "    <tr>\n",
       "      <th>10</th>\n",
       "      <td>Edgar Degas</td>\n",
       "    </tr>\n",
       "    <tr>\n",
       "      <th>24</th>\n",
       "      <td>Hieronymus Bosch</td>\n",
       "    </tr>\n",
       "    <tr>\n",
       "      <th>...</th>\n",
       "      <td>...</td>\n",
       "    </tr>\n",
       "    <tr>\n",
       "      <th>40</th>\n",
       "      <td>Pieter Bruegel</td>\n",
       "    </tr>\n",
       "    <tr>\n",
       "      <th>37</th>\n",
       "      <td>Peter Paul Rubens</td>\n",
       "    </tr>\n",
       "    <tr>\n",
       "      <th>35</th>\n",
       "      <td>Paul Gauguin</td>\n",
       "    </tr>\n",
       "    <tr>\n",
       "      <th>35</th>\n",
       "      <td>Paul Gauguin</td>\n",
       "    </tr>\n",
       "    <tr>\n",
       "      <th>3</th>\n",
       "      <td>Andrei Rublev</td>\n",
       "    </tr>\n",
       "  </tbody>\n",
       "</table>\n",
       "<p>5911 rows × 1 columns</p>\n",
       "</div>"
      ],
      "text/plain": [
       "                artist\n",
       "num                   \n",
       "9      Diego Velazquez\n",
       "48    Vincent van Gogh\n",
       "7         Claude Monet\n",
       "10         Edgar Degas\n",
       "24    Hieronymus Bosch\n",
       "..                 ...\n",
       "40      Pieter Bruegel\n",
       "37   Peter Paul Rubens\n",
       "35        Paul Gauguin\n",
       "35        Paul Gauguin\n",
       "3        Andrei Rublev\n",
       "\n",
       "[5911 rows x 1 columns]"
      ]
     },
     "execution_count": 15,
     "metadata": {},
     "output_type": "execute_result"
    }
   ],
   "source": [
    "artist_df.set_index('num', inplace=True)\n",
    "artist_df"
   ]
  },
  {
   "cell_type": "code",
   "execution_count": 16,
   "id": "confused-specialist",
   "metadata": {},
   "outputs": [
    {
     "data": {
      "text/html": [
       "<div>\n",
       "<style scoped>\n",
       "    .dataframe tbody tr th:only-of-type {\n",
       "        vertical-align: middle;\n",
       "    }\n",
       "\n",
       "    .dataframe tbody tr th {\n",
       "        vertical-align: top;\n",
       "    }\n",
       "\n",
       "    .dataframe thead th {\n",
       "        text-align: right;\n",
       "    }\n",
       "</style>\n",
       "<table border=\"1\" class=\"dataframe\">\n",
       "  <thead>\n",
       "    <tr style=\"text-align: right;\">\n",
       "      <th></th>\n",
       "      <th>artist</th>\n",
       "    </tr>\n",
       "    <tr>\n",
       "      <th>num</th>\n",
       "      <th></th>\n",
       "    </tr>\n",
       "  </thead>\n",
       "  <tbody>\n",
       "    <tr>\n",
       "      <th>0</th>\n",
       "      <td>Albrecht Du rer</td>\n",
       "    </tr>\n",
       "    <tr>\n",
       "      <th>0</th>\n",
       "      <td>Albrecht Du rer</td>\n",
       "    </tr>\n",
       "    <tr>\n",
       "      <th>0</th>\n",
       "      <td>Albrecht Du rer</td>\n",
       "    </tr>\n",
       "    <tr>\n",
       "      <th>0</th>\n",
       "      <td>Albrecht Du rer</td>\n",
       "    </tr>\n",
       "    <tr>\n",
       "      <th>0</th>\n",
       "      <td>Albrecht Du rer</td>\n",
       "    </tr>\n",
       "    <tr>\n",
       "      <th>...</th>\n",
       "      <td>...</td>\n",
       "    </tr>\n",
       "    <tr>\n",
       "      <th>49</th>\n",
       "      <td>William Turner</td>\n",
       "    </tr>\n",
       "    <tr>\n",
       "      <th>49</th>\n",
       "      <td>William Turner</td>\n",
       "    </tr>\n",
       "    <tr>\n",
       "      <th>49</th>\n",
       "      <td>William Turner</td>\n",
       "    </tr>\n",
       "    <tr>\n",
       "      <th>49</th>\n",
       "      <td>William Turner</td>\n",
       "    </tr>\n",
       "    <tr>\n",
       "      <th>49</th>\n",
       "      <td>William Turner</td>\n",
       "    </tr>\n",
       "  </tbody>\n",
       "</table>\n",
       "<p>5911 rows × 1 columns</p>\n",
       "</div>"
      ],
      "text/plain": [
       "              artist\n",
       "num                 \n",
       "0    Albrecht Du rer\n",
       "0    Albrecht Du rer\n",
       "0    Albrecht Du rer\n",
       "0    Albrecht Du rer\n",
       "0    Albrecht Du rer\n",
       "..               ...\n",
       "49    William Turner\n",
       "49    William Turner\n",
       "49    William Turner\n",
       "49    William Turner\n",
       "49    William Turner\n",
       "\n",
       "[5911 rows x 1 columns]"
      ]
     },
     "execution_count": 16,
     "metadata": {},
     "output_type": "execute_result"
    }
   ],
   "source": [
    "artist_df = artist_df.sort_index()\n",
    "artist_df"
   ]
  },
  {
   "cell_type": "code",
   "execution_count": 17,
   "id": "reserved-request",
   "metadata": {},
   "outputs": [
    {
     "data": {
      "text/plain": [
       "{0: 'Albrecht Du rer',\n",
       " 1: 'Alfred Sisley',\n",
       " 2: 'Amedeo Modigliani',\n",
       " 3: 'Andrei Rublev',\n",
       " 4: 'Andy Warhol',\n",
       " 5: 'Camille Pissarro',\n",
       " 6: 'Caravaggio',\n",
       " 7: 'Claude Monet',\n",
       " 8: 'Diego Rivera',\n",
       " 9: 'Diego Velazquez',\n",
       " 10: 'Edgar Degas',\n",
       " 11: 'Edouard Manet',\n",
       " 12: 'Edvard Munch',\n",
       " 13: 'El Greco',\n",
       " 14: 'Eugene Delacroix',\n",
       " 15: 'Francisco Goya',\n",
       " 16: 'Frida Kahlo',\n",
       " 17: 'Georges Seurat',\n",
       " 18: 'Giotto di Bondone',\n",
       " 19: 'Gustav Klimt',\n",
       " 20: 'Gustave Courbet',\n",
       " 21: 'Henri Matisse',\n",
       " 22: 'Henri Rousseau',\n",
       " 23: 'Henri de Toulouse-Lautrec',\n",
       " 24: 'Hieronymus Bosch',\n",
       " 25: 'Jackson Pollock',\n",
       " 26: 'Jan van Eyck',\n",
       " 27: 'Joan Miro',\n",
       " 28: 'Kazimir Malevich',\n",
       " 29: 'Leonardo da Vinci',\n",
       " 30: 'Marc Chagall',\n",
       " 31: 'Michelangelo',\n",
       " 32: 'Mikhail Vrubel',\n",
       " 33: 'Pablo Picasso',\n",
       " 34: 'Paul Cezanne',\n",
       " 35: 'Paul Gauguin',\n",
       " 36: 'Paul Klee',\n",
       " 37: 'Peter Paul Rubens',\n",
       " 38: 'Pierre-Auguste Renoir',\n",
       " 39: 'Piet Mondrian',\n",
       " 40: 'Pieter Bruegel',\n",
       " 41: 'Raphael',\n",
       " 42: 'Rembrandt',\n",
       " 43: 'Rene Magritte',\n",
       " 44: 'Salvador Dali',\n",
       " 45: 'Sandro Botticelli',\n",
       " 46: 'Titian',\n",
       " 47: 'Vasiliy Kandinskiy',\n",
       " 48: 'Vincent van Gogh',\n",
       " 49: 'William Turner'}"
      ]
     },
     "execution_count": 17,
     "metadata": {},
     "output_type": "execute_result"
    }
   ],
   "source": [
    "artist_info_dic = artist_df['artist'].to_dict()\n",
    "artist_info_dic"
   ]
  },
  {
   "cell_type": "code",
   "execution_count": 18,
   "id": "roman-color",
   "metadata": {},
   "outputs": [
    {
     "data": {
      "text/plain": [
       "['Caravaggio', 'Edgar Degas', 'Edgar Degas', 'Albrecht Du rer', 'Edgar Degas']"
      ]
     },
     "execution_count": 18,
     "metadata": {},
     "output_type": "execute_result"
    }
   ],
   "source": [
    "artist_name = []\n",
    "for i in test_prediction_list:\n",
    "    artist_name.append(artist_info_dic[i])\n",
    "artist_name[:5]"
   ]
  },
  {
   "cell_type": "code",
   "execution_count": 19,
   "id": "herbal-animal",
   "metadata": {},
   "outputs": [
    {
     "data": {
      "text/html": [
       "<div>\n",
       "<style scoped>\n",
       "    .dataframe tbody tr th:only-of-type {\n",
       "        vertical-align: middle;\n",
       "    }\n",
       "\n",
       "    .dataframe tbody tr th {\n",
       "        vertical-align: top;\n",
       "    }\n",
       "\n",
       "    .dataframe thead th {\n",
       "        text-align: right;\n",
       "    }\n",
       "</style>\n",
       "<table border=\"1\" class=\"dataframe\">\n",
       "  <thead>\n",
       "    <tr style=\"text-align: right;\">\n",
       "      <th></th>\n",
       "      <th>id</th>\n",
       "    </tr>\n",
       "  </thead>\n",
       "  <tbody>\n",
       "    <tr>\n",
       "      <th>0</th>\n",
       "      <td>TEST_00000</td>\n",
       "    </tr>\n",
       "    <tr>\n",
       "      <th>1</th>\n",
       "      <td>TEST_00001</td>\n",
       "    </tr>\n",
       "    <tr>\n",
       "      <th>2</th>\n",
       "      <td>TEST_00002</td>\n",
       "    </tr>\n",
       "    <tr>\n",
       "      <th>3</th>\n",
       "      <td>TEST_00003</td>\n",
       "    </tr>\n",
       "    <tr>\n",
       "      <th>4</th>\n",
       "      <td>TEST_00004</td>\n",
       "    </tr>\n",
       "  </tbody>\n",
       "</table>\n",
       "</div>"
      ],
      "text/plain": [
       "           id\n",
       "0  TEST_00000\n",
       "1  TEST_00001\n",
       "2  TEST_00002\n",
       "3  TEST_00003\n",
       "4  TEST_00004"
      ]
     },
     "execution_count": 19,
     "metadata": {},
     "output_type": "execute_result"
    }
   ],
   "source": [
    "submission_df = pd.read_csv(\"./sample_submission.csv\")\n",
    "submission_df = submission_df.drop('artist', axis=1)\n",
    "submission_df.head()"
   ]
  },
  {
   "cell_type": "code",
   "execution_count": 20,
   "id": "bulgarian-drink",
   "metadata": {},
   "outputs": [
    {
     "data": {
      "text/html": [
       "<div>\n",
       "<style scoped>\n",
       "    .dataframe tbody tr th:only-of-type {\n",
       "        vertical-align: middle;\n",
       "    }\n",
       "\n",
       "    .dataframe tbody tr th {\n",
       "        vertical-align: top;\n",
       "    }\n",
       "\n",
       "    .dataframe thead th {\n",
       "        text-align: right;\n",
       "    }\n",
       "</style>\n",
       "<table border=\"1\" class=\"dataframe\">\n",
       "  <thead>\n",
       "    <tr style=\"text-align: right;\">\n",
       "      <th></th>\n",
       "      <th>id</th>\n",
       "      <th>artist</th>\n",
       "    </tr>\n",
       "  </thead>\n",
       "  <tbody>\n",
       "    <tr>\n",
       "      <th>0</th>\n",
       "      <td>TEST_00000</td>\n",
       "      <td>Caravaggio</td>\n",
       "    </tr>\n",
       "    <tr>\n",
       "      <th>1</th>\n",
       "      <td>TEST_00001</td>\n",
       "      <td>Edgar Degas</td>\n",
       "    </tr>\n",
       "    <tr>\n",
       "      <th>2</th>\n",
       "      <td>TEST_00002</td>\n",
       "      <td>Edgar Degas</td>\n",
       "    </tr>\n",
       "    <tr>\n",
       "      <th>3</th>\n",
       "      <td>TEST_00003</td>\n",
       "      <td>Albrecht Du rer</td>\n",
       "    </tr>\n",
       "    <tr>\n",
       "      <th>4</th>\n",
       "      <td>TEST_00004</td>\n",
       "      <td>Edgar Degas</td>\n",
       "    </tr>\n",
       "  </tbody>\n",
       "</table>\n",
       "</div>"
      ],
      "text/plain": [
       "           id           artist\n",
       "0  TEST_00000       Caravaggio\n",
       "1  TEST_00001      Edgar Degas\n",
       "2  TEST_00002      Edgar Degas\n",
       "3  TEST_00003  Albrecht Du rer\n",
       "4  TEST_00004      Edgar Degas"
      ]
     },
     "execution_count": 20,
     "metadata": {},
     "output_type": "execute_result"
    }
   ],
   "source": [
    "submission_df['artist'] = artist_name\n",
    "submission_df.head()"
   ]
  },
  {
   "cell_type": "code",
   "execution_count": 21,
   "id": "disciplinary-specific",
   "metadata": {},
   "outputs": [],
   "source": [
    "submission_df.to_csv(\"vgg19_submission.csv\", index=False)"
   ]
  },
  {
   "cell_type": "code",
   "execution_count": null,
   "id": "significant-egyptian",
   "metadata": {},
   "outputs": [],
   "source": []
  }
 ],
 "metadata": {
  "kernelspec": {
   "display_name": "Python 3 (ipykernel)",
   "language": "python",
   "name": "python3"
  },
  "language_info": {
   "codemirror_mode": {
    "name": "ipython",
    "version": 3
   },
   "file_extension": ".py",
   "mimetype": "text/x-python",
   "name": "python",
   "nbconvert_exporter": "python",
   "pygments_lexer": "ipython3",
   "version": "3.10.9"
  }
 },
 "nbformat": 4,
 "nbformat_minor": 5
}
