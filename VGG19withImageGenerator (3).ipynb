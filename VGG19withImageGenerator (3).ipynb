{
 "cells": [
  {
   "cell_type": "code",
   "execution_count": null,
   "id": "stretch-liability",
   "metadata": {
    "id": "stretch-liability",
    "outputId": "6cac5c00-cd39-4930-d6d0-3d585a75a2a4"
   },
   "outputs": [
    {
     "name": "stdout",
     "output_type": "stream",
     "text": [
      "[name: \"/device:CPU:0\"\n",
      "device_type: \"CPU\"\n",
      "memory_limit: 268435456\n",
      "locality {\n",
      "}\n",
      "incarnation: 9557789605936914635\n",
      ", name: \"/device:GPU:0\"\n",
      "device_type: \"GPU\"\n",
      "memory_limit: 15134713447\n",
      "locality {\n",
      "  bus_id: 1\n",
      "  links {\n",
      "  }\n",
      "}\n",
      "incarnation: 11086393236546703148\n",
      "physical_device_desc: \"device: 0, name: Quadro RTX 5000, pci bus id: 0000:65:00.0, compute capability: 7.5\"\n",
      "]\n"
     ]
    }
   ],
   "source": [
    "from tensorflow.python.client import device_lib\n",
    "print(device_lib.list_local_devices())"
   ]
  },
  {
   "cell_type": "code",
   "execution_count": null,
   "id": "painted-alaska",
   "metadata": {
    "id": "painted-alaska"
   },
   "outputs": [],
   "source": [
    "import pandas as pd\n",
    "import numpy as np\n",
    "import tensorflow as tf\n",
    "import os\n",
    "import cv2\n",
    "import glob\n",
    "from sklearn.model_selection import train_test_split\n",
    "from sklearn.preprocessing import LabelEncoder\n",
    "from tensorflow.keras.applications import VGG19\n",
    "from tensorflow.keras.layers import Dense, Flatten, Dropout\n",
    "from tensorflow.keras.models import Model\n",
    "from tensorflow.keras.optimizers import Adam\n",
    "import matplotlib.pyplot as plt"
   ]
  },
  {
   "cell_type": "code",
   "execution_count": null,
   "id": "expanded-hurricane",
   "metadata": {
    "id": "expanded-hurricane",
    "outputId": "6d7d2766-32c1-43bb-8ed0-ca4192597e95"
   },
   "outputs": [
    {
     "name": "stdout",
     "output_type": "stream",
     "text": [
      "size of train_df: 5911\n",
      "Found 5320 validated image filenames belonging to 50 classes.\n",
      "Found 591 validated image filenames belonging to 50 classes.\n"
     ]
    }
   ],
   "source": [
    "from tensorflow.keras.preprocessing.image import ImageDataGenerator\n",
    "\n",
    "train_df = pd.read_csv('./train.csv')\n",
    "print(\"size of train_df:\", len(train_df))\n",
    "\n",
    "# 데이터 노이즈 수정\n",
    "train_df.loc[train_df['id'] == 3896, 'artist'] = 'Titian'\n",
    "train_df.loc[train_df['id'] == 3986, 'artist'] = 'Alfred Sisley'\n",
    "\n",
    "DATAGEN_TRAIN = ImageDataGenerator(\n",
    "    rescale=1./255,\n",
    "    rotation_range=20,\n",
    "    width_shift_range=0.2,\n",
    "    height_shift_range=0.2,\n",
    "    shear_range=0.2,\n",
    "    zoom_range=0.2,\n",
    "    horizontal_flip=True,\n",
    "    vertical_flip=True,\n",
    "    data_format=\"channels_last\",\n",
    "    validation_split=0.10\n",
    ")\n",
    "\n",
    "TRAIN_GENERATOR = DATAGEN_TRAIN.flow_from_dataframe(\n",
    "    dataframe=train_df,\n",
    "    x_col='img_path',\n",
    "    y_col='artist',\n",
    "    target_size=(244, 244),\n",
    "    class_mode='categorical',\n",
    "    batch_size=32,\n",
    "    shuffle=True,\n",
    "    subset=\"training\"\n",
    ")\n",
    "\n",
    "VALID_GENERATOR = DATAGEN_TRAIN.flow_from_dataframe(\n",
    "    dataframe=train_df,\n",
    "    x_col='img_path',\n",
    "    y_col='artist',\n",
    "    target_size=(244, 244),\n",
    "    class_mode='categorical',\n",
    "    batch_size=32,\n",
    "    shuffle=True,\n",
    "    subset=\"validation\"\n",
    ")"
   ]
  },
  {
   "cell_type": "code",
   "execution_count": null,
   "id": "romance-malta",
   "metadata": {
    "id": "romance-malta"
   },
   "outputs": [],
   "source": [
    "# ResNet50 모델 로드\n",
    "base_model = VGG19(weights='imagenet', include_top=False, input_shape=(244, 244, 3), pooling=None, input_tensor=None)\n",
    "\n",
    "# 새로운 Fully Connected Layer 추가\n",
    "x = base_model.output\n",
    "x = Flatten()(x)\n",
    "x = Dropout(0.2)(x) # 드롭아웃 추가\n",
    "predictions = Dense(50, activation='softmax')(x)\n",
    "\n",
    "#전체 모델 구성\n",
    "model = Model(inputs=base_model.input, outputs=predictions)\n",
    "\n",
    "# 모델 컴파일\n",
    "model.compile(optimizer=Adam(lr=3e-4), loss='categorical_crossentropy', metrics=['accuracy'])"
   ]
  },
  {
   "cell_type": "code",
   "execution_count": null,
   "id": "persistent-prairie",
   "metadata": {
    "id": "persistent-prairie"
   },
   "outputs": [],
   "source": [
    "from tensorflow.keras.callbacks import ModelCheckpoint, ReduceLROnPlateau\n",
    "CP = ModelCheckpoint(filepath='vgg19_model/' + 'VGG19-Sigmoid-{epoch:03d}-{accuracy:.4f}-{val_loss:.4f}.hdf5',\n",
    "                     monitor='val_loss', verbose=1, save_best_only=True, mode='min'\n",
    ")\n",
    "\n",
    "LR = ReduceLROnPlateau(monitor='val_loss', factor=0.5, patience=5, verbose=1, min_lr=0.00005)\n",
    "CALLBACK = [CP, LR]"
   ]
  },
  {
   "cell_type": "code",
   "execution_count": null,
   "id": "electoral-momentum",
   "metadata": {
    "id": "electoral-momentum",
    "outputId": "2509b819-dddd-42cc-e669-54efdf2dbf9d",
    "scrolled": false
   },
   "outputs": [
    {
     "name": "stdout",
     "output_type": "stream",
     "text": [
      "Train for 167 steps, validate for 19 steps\n",
      "Epoch 1/50\n",
      "166/167 [============================>.] - ETA: 0s - loss: 3.6560 - accuracy: 0.0998\n",
      "Epoch 00001: val_loss improved from inf to 3.52617, saving model to vgg19_model/VGG19-Sigmoid-001-0.1002-3.5262.hdf5\n",
      "167/167 [==============================] - 151s 906ms/step - loss: 3.6553 - accuracy: 0.1002 - val_loss: 3.5262 - val_accuracy: 0.1117\n",
      "Epoch 2/50\n",
      "166/167 [============================>.] - ETA: 0s - loss: 3.3543 - accuracy: 0.1505\n",
      "Epoch 00002: val_loss improved from 3.52617 to 3.35312, saving model to vgg19_model/VGG19-Sigmoid-002-0.1506-3.3531.hdf5\n",
      "167/167 [==============================] - 141s 843ms/step - loss: 3.3541 - accuracy: 0.1506 - val_loss: 3.3531 - val_accuracy: 0.1641\n",
      "Epoch 3/50\n",
      "166/167 [============================>.] - ETA: 0s - loss: 3.2140 - accuracy: 0.1687\n",
      "Epoch 00003: val_loss improved from 3.35312 to 3.25331, saving model to vgg19_model/VGG19-Sigmoid-003-0.1688-3.2533.hdf5\n",
      "167/167 [==============================] - 142s 850ms/step - loss: 3.2151 - accuracy: 0.1688 - val_loss: 3.2533 - val_accuracy: 0.1624\n",
      "Epoch 4/50\n",
      "166/167 [============================>.] - ETA: 0s - loss: 3.1479 - accuracy: 0.1783\n",
      "Epoch 00004: val_loss improved from 3.25331 to 3.14028, saving model to vgg19_model/VGG19-Sigmoid-004-0.1784-3.1403.hdf5\n",
      "167/167 [==============================] - 141s 843ms/step - loss: 3.1481 - accuracy: 0.1784 - val_loss: 3.1403 - val_accuracy: 0.1844\n",
      "Epoch 5/50\n",
      "166/167 [============================>.] - ETA: 0s - loss: 3.0862 - accuracy: 0.1944\n",
      "Epoch 00005: val_loss improved from 3.14028 to 3.08323, saving model to vgg19_model/VGG19-Sigmoid-005-0.1938-3.0832.hdf5\n",
      "167/167 [==============================] - 141s 846ms/step - loss: 3.0884 - accuracy: 0.1938 - val_loss: 3.0832 - val_accuracy: 0.1912\n",
      "Epoch 6/50\n",
      "166/167 [============================>.] - ETA: 0s - loss: 3.0550 - accuracy: 0.1965\n",
      "Epoch 00006: val_loss improved from 3.08323 to 3.07678, saving model to vgg19_model/VGG19-Sigmoid-006-0.1964-3.0768.hdf5\n",
      "167/167 [==============================] - 143s 859ms/step - loss: 3.0565 - accuracy: 0.1964 - val_loss: 3.0768 - val_accuracy: 0.1929\n",
      "Epoch 7/50\n",
      "166/167 [============================>.] - ETA: 0s - loss: 3.0112 - accuracy: 0.2105\n",
      "Epoch 00007: val_loss improved from 3.07678 to 3.02214, saving model to vgg19_model/VGG19-Sigmoid-007-0.2109-3.0221.hdf5\n",
      "167/167 [==============================] - 142s 851ms/step - loss: 3.0112 - accuracy: 0.2109 - val_loss: 3.0221 - val_accuracy: 0.2217\n",
      "Epoch 8/50\n",
      "166/167 [============================>.] - ETA: 0s - loss: 2.9136 - accuracy: 0.2271\n",
      "Epoch 00008: val_loss improved from 3.02214 to 3.00979, saving model to vgg19_model/VGG19-Sigmoid-008-0.2278-3.0098.hdf5\n",
      "167/167 [==============================] - 142s 851ms/step - loss: 2.9118 - accuracy: 0.2278 - val_loss: 3.0098 - val_accuracy: 0.1963\n",
      "Epoch 9/50\n",
      "166/167 [============================>.] - ETA: 0s - loss: 2.8478 - accuracy: 0.2417\n",
      "Epoch 00009: val_loss improved from 3.00979 to 2.98518, saving model to vgg19_model/VGG19-Sigmoid-009-0.2412-2.9852.hdf5\n",
      "167/167 [==============================] - 142s 852ms/step - loss: 2.8497 - accuracy: 0.2412 - val_loss: 2.9852 - val_accuracy: 0.2284\n",
      "Epoch 10/50\n",
      "166/167 [============================>.] - ETA: 0s - loss: 2.8228 - accuracy: 0.2387\n",
      "Epoch 00010: val_loss improved from 2.98518 to 2.85573, saving model to vgg19_model/VGG19-Sigmoid-010-0.2385-2.8557.hdf5\n",
      "167/167 [==============================] - 142s 853ms/step - loss: 2.8223 - accuracy: 0.2385 - val_loss: 2.8557 - val_accuracy: 0.2267\n",
      "Epoch 11/50\n",
      "166/167 [============================>.] - ETA: 0s - loss: 2.7582 - accuracy: 0.2579\n",
      "Epoch 00011: val_loss did not improve from 2.85573\n",
      "167/167 [==============================] - 141s 845ms/step - loss: 2.7582 - accuracy: 0.2575 - val_loss: 2.9724 - val_accuracy: 0.2234\n",
      "Epoch 12/50\n",
      "166/167 [============================>.] - ETA: 0s - loss: 2.7183 - accuracy: 0.2613\n",
      "Epoch 00012: val_loss improved from 2.85573 to 2.79894, saving model to vgg19_model/VGG19-Sigmoid-012-0.2613-2.7989.hdf5\n",
      "167/167 [==============================] - 141s 843ms/step - loss: 2.7194 - accuracy: 0.2613 - val_loss: 2.7989 - val_accuracy: 0.2657\n",
      "Epoch 13/50\n",
      "166/167 [============================>.] - ETA: 0s - loss: 2.6730 - accuracy: 0.2702\n",
      "Epoch 00013: val_loss improved from 2.79894 to 2.78400, saving model to vgg19_model/VGG19-Sigmoid-013-0.2699-2.7840.hdf5\n",
      "167/167 [==============================] - 142s 852ms/step - loss: 2.6740 - accuracy: 0.2699 - val_loss: 2.7840 - val_accuracy: 0.2555\n",
      "Epoch 14/50\n",
      "166/167 [============================>.] - ETA: 0s - loss: 2.6847 - accuracy: 0.2733\n",
      "Epoch 00014: val_loss improved from 2.78400 to 2.72503, saving model to vgg19_model/VGG19-Sigmoid-014-0.2722-2.7250.hdf5\n",
      "167/167 [==============================] - 142s 850ms/step - loss: 2.6860 - accuracy: 0.2722 - val_loss: 2.7250 - val_accuracy: 0.2673\n",
      "Epoch 15/50\n",
      "166/167 [============================>.] - ETA: 0s - loss: 2.5879 - accuracy: 0.2899\n",
      "Epoch 00015: val_loss did not improve from 2.72503\n",
      "167/167 [==============================] - 142s 848ms/step - loss: 2.5905 - accuracy: 0.2893 - val_loss: 2.7567 - val_accuracy: 0.2673\n",
      "Epoch 16/50\n",
      "166/167 [============================>.] - ETA: 0s - loss: 2.6126 - accuracy: 0.2924\n",
      "Epoch 00016: val_loss improved from 2.72503 to 2.69746, saving model to vgg19_model/VGG19-Sigmoid-016-0.2915-2.6975.hdf5\n",
      "167/167 [==============================] - 141s 845ms/step - loss: 2.6144 - accuracy: 0.2915 - val_loss: 2.6975 - val_accuracy: 0.2843\n",
      "Epoch 17/50\n",
      "166/167 [============================>.] - ETA: 0s - loss: 2.5511 - accuracy: 0.3028\n",
      "Epoch 00017: val_loss did not improve from 2.69746\n",
      "167/167 [==============================] - 142s 848ms/step - loss: 2.5538 - accuracy: 0.3023 - val_loss: 2.7700 - val_accuracy: 0.2690\n",
      "Epoch 18/50\n",
      "166/167 [============================>.] - ETA: 0s - loss: 2.5469 - accuracy: 0.3056\n",
      "Epoch 00018: val_loss improved from 2.69746 to 2.66056, saving model to vgg19_model/VGG19-Sigmoid-018-0.3056-2.6606.hdf5\n",
      "167/167 [==============================] - 141s 845ms/step - loss: 2.5467 - accuracy: 0.3056 - val_loss: 2.6606 - val_accuracy: 0.2995\n",
      "Epoch 19/50\n",
      "166/167 [============================>.] - ETA: 0s - loss: 2.5224 - accuracy: 0.2980\n",
      "Epoch 00019: val_loss did not improve from 2.66056\n",
      "167/167 [==============================] - 142s 851ms/step - loss: 2.5218 - accuracy: 0.2977 - val_loss: 2.7607 - val_accuracy: 0.2707\n",
      "Epoch 20/50\n",
      "166/167 [============================>.] - ETA: 0s - loss: 2.5037 - accuracy: 0.3098\n",
      "Epoch 00020: val_loss did not improve from 2.66056\n",
      "167/167 [==============================] - 141s 842ms/step - loss: 2.5053 - accuracy: 0.3090 - val_loss: 2.7149 - val_accuracy: 0.3046\n",
      "Epoch 21/50\n",
      "166/167 [============================>.] - ETA: 0s - loss: 2.4564 - accuracy: 0.3258\n",
      "Epoch 00021: val_loss improved from 2.66056 to 2.60427, saving model to vgg19_model/VGG19-Sigmoid-021-0.3259-2.6043.hdf5\n",
      "167/167 [==============================] - 142s 850ms/step - loss: 2.4569 - accuracy: 0.3259 - val_loss: 2.6043 - val_accuracy: 0.2860\n",
      "Epoch 22/50\n",
      "166/167 [============================>.] - ETA: 0s - loss: 2.4292 - accuracy: 0.3266\n",
      "Epoch 00022: val_loss did not improve from 2.60427\n",
      "167/167 [==============================] - 142s 850ms/step - loss: 2.4271 - accuracy: 0.3269 - val_loss: 2.6651 - val_accuracy: 0.3080\n",
      "Epoch 23/50\n",
      "166/167 [============================>.] - ETA: 0s - loss: 2.3993 - accuracy: 0.3332\n",
      "Epoch 00023: val_loss improved from 2.60427 to 2.54309, saving model to vgg19_model/VGG19-Sigmoid-023-0.3335-2.5431.hdf5\n",
      "167/167 [==============================] - 141s 846ms/step - loss: 2.4001 - accuracy: 0.3335 - val_loss: 2.5431 - val_accuracy: 0.3215\n",
      "Epoch 24/50\n",
      "166/167 [============================>.] - ETA: 0s - loss: 2.4063 - accuracy: 0.3366\n",
      "Epoch 00024: val_loss did not improve from 2.54309\n",
      "167/167 [==============================] - 142s 848ms/step - loss: 2.4028 - accuracy: 0.3376 - val_loss: 2.8221 - val_accuracy: 0.2657\n",
      "Epoch 25/50\n",
      "166/167 [============================>.] - ETA: 0s - loss: 2.3600 - accuracy: 0.3493\n",
      "Epoch 00025: val_loss did not improve from 2.54309\n",
      "167/167 [==============================] - 141s 847ms/step - loss: 2.3593 - accuracy: 0.3491 - val_loss: 2.6378 - val_accuracy: 0.3333\n"
     ]
    },
    {
     "name": "stdout",
     "output_type": "stream",
     "text": [
      "Epoch 26/50\n",
      "166/167 [============================>.] - ETA: 0s - loss: 2.3712 - accuracy: 0.3374\n",
      "Epoch 00026: val_loss did not improve from 2.54309\n",
      "167/167 [==============================] - 141s 842ms/step - loss: 2.3691 - accuracy: 0.3376 - val_loss: 2.5633 - val_accuracy: 0.3198\n",
      "Epoch 27/50\n",
      "166/167 [============================>.] - ETA: 0s - loss: 2.3389 - accuracy: 0.3457\n",
      "Epoch 00027: val_loss improved from 2.54309 to 2.49778, saving model to vgg19_model/VGG19-Sigmoid-027-0.3470-2.4978.hdf5\n",
      "167/167 [==============================] - 141s 843ms/step - loss: 2.3353 - accuracy: 0.3470 - val_loss: 2.4978 - val_accuracy: 0.3130\n",
      "Epoch 28/50\n",
      "166/167 [============================>.] - ETA: 0s - loss: 2.3192 - accuracy: 0.3529\n",
      "Epoch 00028: val_loss did not improve from 2.49778\n",
      "167/167 [==============================] - 142s 853ms/step - loss: 2.3178 - accuracy: 0.3536 - val_loss: 2.5382 - val_accuracy: 0.3283\n",
      "Epoch 29/50\n",
      "166/167 [============================>.] - ETA: 0s - loss: 2.2964 - accuracy: 0.3584\n",
      "Epoch 00029: val_loss did not improve from 2.49778\n",
      "167/167 [==============================] - 141s 846ms/step - loss: 2.2966 - accuracy: 0.3585 - val_loss: 2.5252 - val_accuracy: 0.3012\n",
      "Epoch 30/50\n",
      "166/167 [============================>.] - ETA: 0s - loss: 2.2902 - accuracy: 0.3627\n",
      "Epoch 00030: val_loss did not improve from 2.49778\n",
      "167/167 [==============================] - 141s 843ms/step - loss: 2.2889 - accuracy: 0.3630 - val_loss: 2.5079 - val_accuracy: 0.3401\n",
      "Epoch 31/50\n",
      "166/167 [============================>.] - ETA: 0s - loss: 2.2719 - accuracy: 0.3661\n",
      "Epoch 00031: val_loss did not improve from 2.49778\n",
      "167/167 [==============================] - 141s 841ms/step - loss: 2.2716 - accuracy: 0.3658 - val_loss: 2.5876 - val_accuracy: 0.3096\n",
      "Epoch 32/50\n",
      "166/167 [============================>.] - ETA: 0s - loss: 2.2482 - accuracy: 0.3657\n",
      "Epoch 00032: val_loss did not improve from 2.49778\n",
      "\n",
      "Epoch 00032: ReduceLROnPlateau reducing learning rate to 0.0001500000071246177.\n",
      "167/167 [==============================] - 140s 841ms/step - loss: 2.2483 - accuracy: 0.3665 - val_loss: 2.5866 - val_accuracy: 0.3130\n",
      "Epoch 33/50\n",
      "166/167 [============================>.] - ETA: 0s - loss: 2.1217 - accuracy: 0.4043\n",
      "Epoch 00033: val_loss improved from 2.49778 to 2.43413, saving model to vgg19_model/VGG19-Sigmoid-033-0.4043-2.4341.hdf5\n",
      "167/167 [==============================] - 141s 842ms/step - loss: 2.1207 - accuracy: 0.4043 - val_loss: 2.4341 - val_accuracy: 0.3604\n",
      "Epoch 34/50\n",
      "166/167 [============================>.] - ETA: 0s - loss: 2.0944 - accuracy: 0.4071\n",
      "Epoch 00034: val_loss improved from 2.43413 to 2.37380, saving model to vgg19_model/VGG19-Sigmoid-034-0.4068-2.3738.hdf5\n",
      "167/167 [==============================] - 143s 853ms/step - loss: 2.0957 - accuracy: 0.4068 - val_loss: 2.3738 - val_accuracy: 0.3452\n",
      "Epoch 35/50\n",
      "166/167 [============================>.] - ETA: 0s - loss: 2.0782 - accuracy: 0.4113\n",
      "Epoch 00035: val_loss did not improve from 2.37380\n",
      "167/167 [==============================] - 142s 849ms/step - loss: 2.0789 - accuracy: 0.4115 - val_loss: 2.4001 - val_accuracy: 0.3739\n",
      "Epoch 36/50\n",
      "166/167 [============================>.] - ETA: 0s - loss: 2.0494 - accuracy: 0.4158\n",
      "Epoch 00036: val_loss did not improve from 2.37380\n",
      "167/167 [==============================] - 141s 844ms/step - loss: 2.0515 - accuracy: 0.4147 - val_loss: 2.4108 - val_accuracy: 0.3536\n",
      "Epoch 37/50\n",
      "166/167 [============================>.] - ETA: 0s - loss: 2.0329 - accuracy: 0.4149\n",
      "Epoch 00037: val_loss did not improve from 2.37380\n",
      "167/167 [==============================] - 141s 847ms/step - loss: 2.0323 - accuracy: 0.4152 - val_loss: 2.4310 - val_accuracy: 0.3621\n",
      "Epoch 38/50\n",
      "166/167 [============================>.] - ETA: 0s - loss: 2.0232 - accuracy: 0.4228\n",
      "Epoch 00038: val_loss did not improve from 2.37380\n",
      "167/167 [==============================] - 141s 843ms/step - loss: 2.0240 - accuracy: 0.4231 - val_loss: 2.4135 - val_accuracy: 0.3739\n",
      "Epoch 39/50\n",
      "166/167 [============================>.] - ETA: 0s - loss: 2.0129 - accuracy: 0.4281\n",
      "Epoch 00039: val_loss improved from 2.37380 to 2.33210, saving model to vgg19_model/VGG19-Sigmoid-039-0.4280-2.3321.hdf5\n",
      "167/167 [==============================] - 141s 845ms/step - loss: 2.0136 - accuracy: 0.4280 - val_loss: 2.3321 - val_accuracy: 0.3706\n",
      "Epoch 40/50\n",
      "166/167 [============================>.] - ETA: 0s - loss: 1.9889 - accuracy: 0.4274\n",
      "Epoch 00040: val_loss did not improve from 2.33210\n",
      "167/167 [==============================] - 142s 850ms/step - loss: 1.9885 - accuracy: 0.4274 - val_loss: 2.3836 - val_accuracy: 0.3587\n",
      "Epoch 41/50\n",
      "166/167 [============================>.] - ETA: 0s - loss: 1.9743 - accuracy: 0.4310\n",
      "Epoch 00041: val_loss did not improve from 2.33210\n",
      "167/167 [==============================] - 141s 845ms/step - loss: 1.9746 - accuracy: 0.4312 - val_loss: 2.3564 - val_accuracy: 0.3469\n",
      "Epoch 42/50\n",
      "166/167 [============================>.] - ETA: 0s - loss: 1.9640 - accuracy: 0.4402\n",
      "Epoch 00042: val_loss did not improve from 2.33210\n",
      "167/167 [==============================] - 141s 846ms/step - loss: 1.9634 - accuracy: 0.4408 - val_loss: 2.3617 - val_accuracy: 0.3655\n",
      "Epoch 43/50\n",
      "166/167 [============================>.] - ETA: 0s - loss: 1.9572 - accuracy: 0.4346\n",
      "Epoch 00043: val_loss improved from 2.33210 to 2.30257, saving model to vgg19_model/VGG19-Sigmoid-043-0.4331-2.3026.hdf5\n",
      "167/167 [==============================] - 141s 845ms/step - loss: 1.9615 - accuracy: 0.4331 - val_loss: 2.3026 - val_accuracy: 0.3773\n",
      "Epoch 44/50\n",
      "166/167 [============================>.] - ETA: 0s - loss: 1.9280 - accuracy: 0.4435\n",
      "Epoch 00044: val_loss did not improve from 2.30257\n",
      "167/167 [==============================] - 142s 848ms/step - loss: 1.9261 - accuracy: 0.4436 - val_loss: 2.4261 - val_accuracy: 0.3570\n",
      "Epoch 45/50\n",
      "166/167 [============================>.] - ETA: 0s - loss: 1.9396 - accuracy: 0.4402\n",
      "Epoch 00045: val_loss did not improve from 2.30257\n",
      "167/167 [==============================] - 142s 850ms/step - loss: 1.9388 - accuracy: 0.4408 - val_loss: 2.3819 - val_accuracy: 0.3553\n",
      "Epoch 46/50\n",
      "166/167 [============================>.] - ETA: 0s - loss: 1.9062 - accuracy: 0.4529\n",
      "Epoch 00046: val_loss did not improve from 2.30257\n",
      "167/167 [==============================] - 140s 838ms/step - loss: 1.9037 - accuracy: 0.4538 - val_loss: 2.3675 - val_accuracy: 0.3824\n",
      "Epoch 47/50\n",
      "166/167 [============================>.] - ETA: 0s - loss: 1.8716 - accuracy: 0.4607\n",
      "Epoch 00047: val_loss did not improve from 2.30257\n",
      "167/167 [==============================] - 140s 840ms/step - loss: 1.8723 - accuracy: 0.4605 - val_loss: 2.3480 - val_accuracy: 0.3638\n",
      "Epoch 48/50\n",
      "166/167 [============================>.] - ETA: 0s - loss: 1.8641 - accuracy: 0.4603\n",
      "Epoch 00048: val_loss did not improve from 2.30257\n",
      "\n",
      "Epoch 00048: ReduceLROnPlateau reducing learning rate to 7.500000356230885e-05.\n",
      "167/167 [==============================] - 140s 840ms/step - loss: 1.8628 - accuracy: 0.4607 - val_loss: 2.4337 - val_accuracy: 0.3790\n",
      "Epoch 49/50\n",
      "166/167 [============================>.] - ETA: 0s - loss: 1.7789 - accuracy: 0.4832\n",
      "Epoch 00049: val_loss did not improve from 2.30257\n",
      "167/167 [==============================] - 140s 839ms/step - loss: 1.7786 - accuracy: 0.4835 - val_loss: 2.3458 - val_accuracy: 0.3942\n",
      "Epoch 50/50\n",
      "166/167 [============================>.] - ETA: 0s - loss: 1.7607 - accuracy: 0.4818\n",
      "Epoch 00050: val_loss improved from 2.30257 to 2.26541, saving model to vgg19_model/VGG19-Sigmoid-050-0.4825-2.2654.hdf5\n",
      "167/167 [==============================] - 140s 840ms/step - loss: 1.7586 - accuracy: 0.4825 - val_loss: 2.2654 - val_accuracy: 0.4230\n"
     ]
    }
   ],
   "source": [
    "# 모델 학습\n",
    "history = model.fit(TRAIN_GENERATOR,\n",
    "                    epochs=50,\n",
    "                    validation_data=VALID_GENERATOR,\n",
    "                    callbacks=CALLBACK,\n",
    ")"
   ]
  },
  {
   "cell_type": "code",
   "execution_count": null,
   "id": "racial-image",
   "metadata": {
    "id": "racial-image",
    "outputId": "1de490e2-0b20-4d3d-895d-54a4cfaff7c0"
   },
   "outputs": [
    {
     "data": {
      "image/png": "[encoded data removed]",
      "text/plain": [
       "<Figure size 432x288 with 1 Axes>"
      ]
     },
     "metadata": {
      "needs_background": "light"
     },
     "output_type": "display_data"
    }
   ],
   "source": [
    "# 손실 그래프\n",
    "plt.plot(history.history['loss'])\n",
    "plt.plot(history.history['val_loss'])\n",
    "plt.title('Training Loss vs Validation Loss')\n",
    "plt.xlabel('Epochs')\n",
    "plt.ylabel('Loss')\n",
    "plt.legend(['loss', 'val_loss'])\n",
    "plt.show()"
   ]
  },
  {
   "cell_type": "code",
   "execution_count": null,
   "id": "official-glossary",
   "metadata": {
    "id": "official-glossary",
    "outputId": "d7f21fa3-eb5b-48b4-fdb5-5d34d87d1971"
   },
   "outputs": [
    {
     "data": {
      "image/png": "[encoded data removed]",
      "text/plain": [
       "<Figure size 432x288 with 1 Axes>"
      ]
     },
     "metadata": {
      "needs_background": "light"
     },
     "output_type": "display_data"
    }
   ],
   "source": [
    "# 정확도 그래프\n",
    "plt.plot([x * 100 for x in history.history['accuracy']])\n",
    "plt.plot([x * 100 for x in history.history['val_accuracy']])\n",
    "plt.title('Training Accuracy vs Validation Accuracy')\n",
    "plt.xlabel('Epochs')\n",
    "plt.ylabel('Accuracy (%)')\n",
    "plt.legend(['accuracy', 'val_accuracy'])\n",
    "plt.show()"
   ]
  },
  {
   "cell_type": "code",
   "execution_count": null,
   "id": "adult-cannon",
   "metadata": {
    "id": "adult-cannon",
    "outputId": "12e997fe-ff56-418b-dad0-89d332ae4a23"
   },
   "outputs": [
    {
     "name": "stdout",
     "output_type": "stream",
     "text": [
      "19/19 [==============================] - 10s 541ms/step - loss: 2.1942 - accuracy: 0.4315\n",
      "Validation Loss: 2.194184\n",
      "Validation Accuracy: 0.431\n"
     ]
    }
   ],
   "source": [
    "# 최신 체크포인트 파일 찾기\n",
    "checkpoint_files = glob.glob('vgg19_model/*.hdf5')\n",
    "latest_checkpoint = max(checkpoint_files, key=os.path.getctime)\n",
    "\n",
    "# 모델에 최신 가중치 로드\n",
    "model.load_weights(latest_checkpoint)\n",
    "\n",
    "# Validation 데이터에 대한 정확도 확인\n",
    "val_loss, val_accuracy = model.evaluate(VALID_GENERATOR)\n",
    "print('Validation Loss:', round(val_loss, 6))\n",
    "print('Validation Accuracy:', round(val_accuracy, 3))"
   ]
  },
  {
   "cell_type": "code",
   "execution_count": null,
   "id": "loved-orbit",
   "metadata": {
    "id": "loved-orbit",
    "outputId": "8da2d804-557e-4cb3-e9ae-5ff72f7517c0"
   },
   "outputs": [
    {
     "name": "stdout",
     "output_type": "stream",
     "text": [
      "Found 12670 validated image filenames.\n",
      "vgg19_model\\VGG19-Sigmoid-050-0.4825-2.2654.hdf5\n",
      "396/396 [==============================] - 189s 477ms/step\n"
     ]
    },
    {
     "data": {
      "text/plain": [
       "array([[6.16194666e-05, 1.09898083e-05, 1.85555339e-01, ...,\n",
       "        1.00058387e-05, 1.30792474e-02, 1.20813907e-04],\n",
       "       [1.75350986e-03, 2.42530969e-05, 1.13053834e-02, ...,\n",
       "        2.82198853e-05, 1.27078341e-02, 1.34294899e-02],\n",
       "       [9.82307611e-05, 1.08317035e-04, 5.17472904e-03, ...,\n",
       "        3.62694875e-04, 3.49537493e-03, 4.65273013e-04],\n",
       "       ...,\n",
       "       [2.67437048e-04, 2.34603620e-04, 3.88920121e-02, ...,\n",
       "        2.38505218e-05, 2.18144748e-02, 6.32508053e-03],\n",
       "       [1.16300199e-03, 1.23478560e-04, 6.32713782e-03, ...,\n",
       "        2.18829697e-07, 1.14085730e-02, 1.98161299e-03],\n",
       "       [2.54751594e-05, 9.53583687e-04, 7.67002814e-03, ...,\n",
       "        7.58117130e-06, 6.14700913e-02, 7.07464234e-04]], dtype=float32)"
      ]
     },
     "metadata": {},
     "output_type": "display_data"
    }
   ],
   "source": [
    "test_df = pd.read_csv('test.csv')\n",
    "\n",
    "TEST_GENERATOR = DATAGEN_TRAIN.flow_from_dataframe(\n",
    "    dataframe=test_df,\n",
    "    x_col='img_path',\n",
    "    y_col='id',\n",
    "    target_size=(244, 244),\n",
    "    class_mode='raw',\n",
    "    batch_size=32,\n",
    "    shuffle=False,\n",
    ")\n",
    "\n",
    "TEST_GENERATOR.reset()\n",
    "\n",
    "# 최신 체크포인트 파일 찾기\n",
    "checkpoint_files = glob.glob('vgg19_model/*.hdf5')\n",
    "latest_checkpoint = max(checkpoint_files, key=os.path.getctime)\n",
    "\n",
    "print(latest_checkpoint)\n",
    "\n",
    "# 모델에 최신 가중치 로드\n",
    "model.load_weights(latest_checkpoint)\n",
    "\n",
    "test_prediction = model.predict(TEST_GENERATOR, verbose=1)\n",
    "display(test_prediction)"
   ]
  },
  {
   "cell_type": "code",
   "execution_count": null,
   "id": "intense-bearing",
   "metadata": {
    "id": "intense-bearing",
    "outputId": "994eecc8-9939-493b-8d8b-e234c592789e"
   },
   "outputs": [
    {
     "data": {
      "text/plain": [
       "array([ 9, 10, 10, ..., 10, 15, 46], dtype=int64)"
      ]
     },
     "execution_count": 11,
     "metadata": {},
     "output_type": "execute_result"
    }
   ],
   "source": [
    "test_prediction = np.argmax(test_prediction, axis = 1)\n",
    "test_prediction"
   ]
  },
  {
   "cell_type": "code",
   "execution_count": null,
   "id": "textile-strike",
   "metadata": {
    "id": "textile-strike",
    "outputId": "ca7a89d8-33c6-4636-96b7-995be0f61164"
   },
   "outputs": [
    {
     "data": {
      "text/html": [
       "<div>\n",
       "<style scoped>\n",
       "    .dataframe tbody tr th:only-of-type {\n",
       "        vertical-align: middle;\n",
       "    }\n",
       "\n",
       "    .dataframe tbody tr th {\n",
       "        vertical-align: top;\n",
       "    }\n",
       "\n",
       "    .dataframe thead th {\n",
       "        text-align: right;\n",
       "    }\n",
       "</style>\n",
       "<table border=\"1\" class=\"dataframe\">\n",
       "  <thead>\n",
       "    <tr style=\"text-align: right;\">\n",
       "      <th></th>\n",
       "      <th>artist</th>\n",
       "    </tr>\n",
       "  </thead>\n",
       "  <tbody>\n",
       "    <tr>\n",
       "      <th>0</th>\n",
       "      <td>9</td>\n",
       "    </tr>\n",
       "    <tr>\n",
       "      <th>1</th>\n",
       "      <td>10</td>\n",
       "    </tr>\n",
       "    <tr>\n",
       "      <th>2</th>\n",
       "      <td>10</td>\n",
       "    </tr>\n",
       "    <tr>\n",
       "      <th>3</th>\n",
       "      <td>0</td>\n",
       "    </tr>\n",
       "    <tr>\n",
       "      <th>4</th>\n",
       "      <td>33</td>\n",
       "    </tr>\n",
       "    <tr>\n",
       "      <th>...</th>\n",
       "      <td>...</td>\n",
       "    </tr>\n",
       "    <tr>\n",
       "      <th>12665</th>\n",
       "      <td>35</td>\n",
       "    </tr>\n",
       "    <tr>\n",
       "      <th>12666</th>\n",
       "      <td>45</td>\n",
       "    </tr>\n",
       "    <tr>\n",
       "      <th>12667</th>\n",
       "      <td>10</td>\n",
       "    </tr>\n",
       "    <tr>\n",
       "      <th>12668</th>\n",
       "      <td>15</td>\n",
       "    </tr>\n",
       "    <tr>\n",
       "      <th>12669</th>\n",
       "      <td>46</td>\n",
       "    </tr>\n",
       "  </tbody>\n",
       "</table>\n",
       "<p>12670 rows × 1 columns</p>\n",
       "</div>"
      ],
      "text/plain": [
       "       artist\n",
       "0           9\n",
       "1          10\n",
       "2          10\n",
       "3           0\n",
       "4          33\n",
       "...       ...\n",
       "12665      35\n",
       "12666      45\n",
       "12667      10\n",
       "12668      15\n",
       "12669      46\n",
       "\n",
       "[12670 rows x 1 columns]"
      ]
     },
     "execution_count": 12,
     "metadata": {},
     "output_type": "execute_result"
    }
   ],
   "source": [
    "test_prediction_df = pd.DataFrame(test_prediction, columns = ['artist'])\n",
    "test_prediction_df"
   ]
  },
  {
   "cell_type": "code",
   "execution_count": null,
   "id": "analyzed-cache",
   "metadata": {
    "id": "analyzed-cache",
    "outputId": "e0889c16-c79d-4914-c8b1-8dfebae0d44e"
   },
   "outputs": [
    {
     "data": {
      "text/html": [
       "<div>\n",
       "<style scoped>\n",
       "    .dataframe tbody tr th:only-of-type {\n",
       "        vertical-align: middle;\n",
       "    }\n",
       "\n",
       "    .dataframe tbody tr th {\n",
       "        vertical-align: top;\n",
       "    }\n",
       "\n",
       "    .dataframe thead th {\n",
       "        text-align: right;\n",
       "    }\n",
       "</style>\n",
       "<table border=\"1\" class=\"dataframe\">\n",
       "  <thead>\n",
       "    <tr style=\"text-align: right;\">\n",
       "      <th></th>\n",
       "      <th>artist</th>\n",
       "      <th>num</th>\n",
       "    </tr>\n",
       "  </thead>\n",
       "  <tbody>\n",
       "    <tr>\n",
       "      <th>0</th>\n",
       "      <td>Diego Velazquez</td>\n",
       "      <td>9</td>\n",
       "    </tr>\n",
       "    <tr>\n",
       "      <th>1</th>\n",
       "      <td>Vincent van Gogh</td>\n",
       "      <td>48</td>\n",
       "    </tr>\n",
       "    <tr>\n",
       "      <th>2</th>\n",
       "      <td>Claude Monet</td>\n",
       "      <td>7</td>\n",
       "    </tr>\n",
       "    <tr>\n",
       "      <th>3</th>\n",
       "      <td>Edgar Degas</td>\n",
       "      <td>10</td>\n",
       "    </tr>\n",
       "    <tr>\n",
       "      <th>4</th>\n",
       "      <td>Hieronymus Bosch</td>\n",
       "      <td>24</td>\n",
       "    </tr>\n",
       "  </tbody>\n",
       "</table>\n",
       "</div>"
      ],
      "text/plain": [
       "             artist  num\n",
       "0   Diego Velazquez    9\n",
       "1  Vincent van Gogh   48\n",
       "2      Claude Monet    7\n",
       "3       Edgar Degas   10\n",
       "4  Hieronymus Bosch   24"
      ]
     },
     "execution_count": 13,
     "metadata": {},
     "output_type": "execute_result"
    }
   ],
   "source": [
    "label_encoder = LabelEncoder()\n",
    "artist_df = train_df.copy()\n",
    "artist_le = label_encoder.fit_transform(artist_df['artist'].values)\n",
    "artist_df['num'] = artist_le\n",
    "artist_df = artist_df.drop('id', axis=1)\n",
    "artist_df = artist_df.drop('img_path', axis=1)\n",
    "artist_df.head()"
   ]
  },
  {
   "cell_type": "code",
   "execution_count": null,
   "id": "desirable-spokesman",
   "metadata": {
    "id": "desirable-spokesman",
    "outputId": "0687b0b3-5a09-421d-8a6d-f5812576fb0d"
   },
   "outputs": [
    {
     "data": {
      "text/plain": [
       "[9, 10, 10, 0, 33]"
      ]
     },
     "execution_count": 14,
     "metadata": {},
     "output_type": "execute_result"
    }
   ],
   "source": [
    "test_prediction_dic = test_prediction_df.to_dict()\n",
    "test_prediction_values = test_prediction_dic['artist'].values()\n",
    "test_prediction_list = list(test_prediction_values)\n",
    "test_prediction_list[:5]"
   ]
  },
  {
   "cell_type": "code",
   "execution_count": null,
   "id": "treated-cruise",
   "metadata": {
    "id": "treated-cruise",
    "outputId": "aaa587eb-3118-47c4-f95f-e55ba25c2ea3"
   },
   "outputs": [
    {
     "data": {
      "text/html": [
       "<div>\n",
       "<style scoped>\n",
       "    .dataframe tbody tr th:only-of-type {\n",
       "        vertical-align: middle;\n",
       "    }\n",
       "\n",
       "    .dataframe tbody tr th {\n",
       "        vertical-align: top;\n",
       "    }\n",
       "\n",
       "    .dataframe thead th {\n",
       "        text-align: right;\n",
       "    }\n",
       "</style>\n",
       "<table border=\"1\" class=\"dataframe\">\n",
       "  <thead>\n",
       "    <tr style=\"text-align: right;\">\n",
       "      <th></th>\n",
       "      <th>artist</th>\n",
       "    </tr>\n",
       "    <tr>\n",
       "      <th>num</th>\n",
       "      <th></th>\n",
       "    </tr>\n",
       "  </thead>\n",
       "  <tbody>\n",
       "    <tr>\n",
       "      <th>9</th>\n",
       "      <td>Diego Velazquez</td>\n",
       "    </tr>\n",
       "    <tr>\n",
       "      <th>48</th>\n",
       "      <td>Vincent van Gogh</td>\n",
       "    </tr>\n",
       "    <tr>\n",
       "      <th>7</th>\n",
       "      <td>Claude Monet</td>\n",
       "    </tr>\n",
       "    <tr>\n",
       "      <th>10</th>\n",
       "      <td>Edgar Degas</td>\n",
       "    </tr>\n",
       "    <tr>\n",
       "      <th>24</th>\n",
       "      <td>Hieronymus Bosch</td>\n",
       "    </tr>\n",
       "    <tr>\n",
       "      <th>...</th>\n",
       "      <td>...</td>\n",
       "    </tr>\n",
       "    <tr>\n",
       "      <th>40</th>\n",
       "      <td>Pieter Bruegel</td>\n",
       "    </tr>\n",
       "    <tr>\n",
       "      <th>37</th>\n",
       "      <td>Peter Paul Rubens</td>\n",
       "    </tr>\n",
       "    <tr>\n",
       "      <th>35</th>\n",
       "      <td>Paul Gauguin</td>\n",
       "    </tr>\n",
       "    <tr>\n",
       "      <th>35</th>\n",
       "      <td>Paul Gauguin</td>\n",
       "    </tr>\n",
       "    <tr>\n",
       "      <th>3</th>\n",
       "      <td>Andrei Rublev</td>\n",
       "    </tr>\n",
       "  </tbody>\n",
       "</table>\n",
       "<p>5911 rows × 1 columns</p>\n",
       "</div>"
      ],
      "text/plain": [
       "                artist\n",
       "num                   \n",
       "9      Diego Velazquez\n",
       "48    Vincent van Gogh\n",
       "7         Claude Monet\n",
       "10         Edgar Degas\n",
       "24    Hieronymus Bosch\n",
       "..                 ...\n",
       "40      Pieter Bruegel\n",
       "37   Peter Paul Rubens\n",
       "35        Paul Gauguin\n",
       "35        Paul Gauguin\n",
       "3        Andrei Rublev\n",
       "\n",
       "[5911 rows x 1 columns]"
      ]
     },
     "execution_count": 15,
     "metadata": {},
     "output_type": "execute_result"
    }
   ],
   "source": [
    "artist_df.set_index('num', inplace=True)\n",
    "artist_df"
   ]
  },
  {
   "cell_type": "code",
   "execution_count": null,
   "id": "billion-effects",
   "metadata": {
    "id": "billion-effects",
    "outputId": "8c5100aa-7ccd-498f-eb8b-4fc96617953f"
   },
   "outputs": [
    {
     "data": {
      "text/html": [
       "<div>\n",
       "<style scoped>\n",
       "    .dataframe tbody tr th:only-of-type {\n",
       "        vertical-align: middle;\n",
       "    }\n",
       "\n",
       "    .dataframe tbody tr th {\n",
       "        vertical-align: top;\n",
       "    }\n",
       "\n",
       "    .dataframe thead th {\n",
       "        text-align: right;\n",
       "    }\n",
       "</style>\n",
       "<table border=\"1\" class=\"dataframe\">\n",
       "  <thead>\n",
       "    <tr style=\"text-align: right;\">\n",
       "      <th></th>\n",
       "      <th>artist</th>\n",
       "    </tr>\n",
       "    <tr>\n",
       "      <th>num</th>\n",
       "      <th></th>\n",
       "    </tr>\n",
       "  </thead>\n",
       "  <tbody>\n",
       "    <tr>\n",
       "      <th>0</th>\n",
       "      <td>Albrecht Du rer</td>\n",
       "    </tr>\n",
       "    <tr>\n",
       "      <th>0</th>\n",
       "      <td>Albrecht Du rer</td>\n",
       "    </tr>\n",
       "    <tr>\n",
       "      <th>0</th>\n",
       "      <td>Albrecht Du rer</td>\n",
       "    </tr>\n",
       "    <tr>\n",
       "      <th>0</th>\n",
       "      <td>Albrecht Du rer</td>\n",
       "    </tr>\n",
       "    <tr>\n",
       "      <th>0</th>\n",
       "      <td>Albrecht Du rer</td>\n",
       "    </tr>\n",
       "    <tr>\n",
       "      <th>...</th>\n",
       "      <td>...</td>\n",
       "    </tr>\n",
       "    <tr>\n",
       "      <th>49</th>\n",
       "      <td>William Turner</td>\n",
       "    </tr>\n",
       "    <tr>\n",
       "      <th>49</th>\n",
       "      <td>William Turner</td>\n",
       "    </tr>\n",
       "    <tr>\n",
       "      <th>49</th>\n",
       "      <td>William Turner</td>\n",
       "    </tr>\n",
       "    <tr>\n",
       "      <th>49</th>\n",
       "      <td>William Turner</td>\n",
       "    </tr>\n",
       "    <tr>\n",
       "      <th>49</th>\n",
       "      <td>William Turner</td>\n",
       "    </tr>\n",
       "  </tbody>\n",
       "</table>\n",
       "<p>5911 rows × 1 columns</p>\n",
       "</div>"
      ],
      "text/plain": [
       "              artist\n",
       "num                 \n",
       "0    Albrecht Du rer\n",
       "0    Albrecht Du rer\n",
       "0    Albrecht Du rer\n",
       "0    Albrecht Du rer\n",
       "0    Albrecht Du rer\n",
       "..               ...\n",
       "49    William Turner\n",
       "49    William Turner\n",
       "49    William Turner\n",
       "49    William Turner\n",
       "49    William Turner\n",
       "\n",
       "[5911 rows x 1 columns]"
      ]
     },
     "execution_count": 16,
     "metadata": {},
     "output_type": "execute_result"
    }
   ],
   "source": [
    "artist_df = artist_df.sort_index()\n",
    "artist_df"
   ]
  },
  {
   "cell_type": "code",
   "execution_count": null,
   "id": "baking-nurse",
   "metadata": {
    "id": "baking-nurse",
    "outputId": "3beb6929-fdb0-4c89-d7f6-2f18e0f63bf4"
   },
   "outputs": [
    {
     "data": {
      "text/plain": [
       "{0: 'Albrecht Du rer',\n",
       " 1: 'Alfred Sisley',\n",
       " 2: 'Amedeo Modigliani',\n",
       " 3: 'Andrei Rublev',\n",
       " 4: 'Andy Warhol',\n",
       " 5: 'Camille Pissarro',\n",
       " 6: 'Caravaggio',\n",
       " 7: 'Claude Monet',\n",
       " 8: 'Diego Rivera',\n",
       " 9: 'Diego Velazquez',\n",
       " 10: 'Edgar Degas',\n",
       " 11: 'Edouard Manet',\n",
       " 12: 'Edvard Munch',\n",
       " 13: 'El Greco',\n",
       " 14: 'Eugene Delacroix',\n",
       " 15: 'Francisco Goya',\n",
       " 16: 'Frida Kahlo',\n",
       " 17: 'Georges Seurat',\n",
       " 18: 'Giotto di Bondone',\n",
       " 19: 'Gustav Klimt',\n",
       " 20: 'Gustave Courbet',\n",
       " 21: 'Henri Matisse',\n",
       " 22: 'Henri Rousseau',\n",
       " 23: 'Henri de Toulouse-Lautrec',\n",
       " 24: 'Hieronymus Bosch',\n",
       " 25: 'Jackson Pollock',\n",
       " 26: 'Jan van Eyck',\n",
       " 27: 'Joan Miro',\n",
       " 28: 'Kazimir Malevich',\n",
       " 29: 'Leonardo da Vinci',\n",
       " 30: 'Marc Chagall',\n",
       " 31: 'Michelangelo',\n",
       " 32: 'Mikhail Vrubel',\n",
       " 33: 'Pablo Picasso',\n",
       " 34: 'Paul Cezanne',\n",
       " 35: 'Paul Gauguin',\n",
       " 36: 'Paul Klee',\n",
       " 37: 'Peter Paul Rubens',\n",
       " 38: 'Pierre-Auguste Renoir',\n",
       " 39: 'Piet Mondrian',\n",
       " 40: 'Pieter Bruegel',\n",
       " 41: 'Raphael',\n",
       " 42: 'Rembrandt',\n",
       " 43: 'Rene Magritte',\n",
       " 44: 'Salvador Dali',\n",
       " 45: 'Sandro Botticelli',\n",
       " 46: 'Titian',\n",
       " 47: 'Vasiliy Kandinskiy',\n",
       " 48: 'Vincent van Gogh',\n",
       " 49: 'William Turner'}"
      ]
     },
     "execution_count": 17,
     "metadata": {},
     "output_type": "execute_result"
    }
   ],
   "source": [
    "artist_info_dic = artist_df['artist'].to_dict()\n",
    "artist_info_dic"
   ]
  },
  {
   "cell_type": "code",
   "execution_count": null,
   "id": "lined-chamber",
   "metadata": {
    "id": "lined-chamber",
    "outputId": "f4a64860-6c27-4918-e666-95f1c295c3ce"
   },
   "outputs": [
    {
     "data": {
      "text/plain": [
       "['Diego Velazquez',\n",
       " 'Edgar Degas',\n",
       " 'Edgar Degas',\n",
       " 'Albrecht Du rer',\n",
       " 'Pablo Picasso']"
      ]
     },
     "execution_count": 18,
     "metadata": {},
     "output_type": "execute_result"
    }
   ],
   "source": [
    "artist_name = []\n",
    "for i in test_prediction_list:\n",
    "    artist_name.append(artist_info_dic[i])\n",
    "artist_name[:5]"
   ]
  },
  {
   "cell_type": "code",
   "execution_count": null,
   "id": "informed-broad",
   "metadata": {
    "id": "informed-broad",
    "outputId": "80f85789-3e11-4bb4-d822-8121a9cd5d66"
   },
   "outputs": [
    {
     "data": {
      "text/html": [
       "<div>\n",
       "<style scoped>\n",
       "    .dataframe tbody tr th:only-of-type {\n",
       "        vertical-align: middle;\n",
       "    }\n",
       "\n",
       "    .dataframe tbody tr th {\n",
       "        vertical-align: top;\n",
       "    }\n",
       "\n",
       "    .dataframe thead th {\n",
       "        text-align: right;\n",
       "    }\n",
       "</style>\n",
       "<table border=\"1\" class=\"dataframe\">\n",
       "  <thead>\n",
       "    <tr style=\"text-align: right;\">\n",
       "      <th></th>\n",
       "      <th>id</th>\n",
       "    </tr>\n",
       "  </thead>\n",
       "  <tbody>\n",
       "    <tr>\n",
       "      <th>0</th>\n",
       "      <td>TEST_00000</td>\n",
       "    </tr>\n",
       "    <tr>\n",
       "      <th>1</th>\n",
       "      <td>TEST_00001</td>\n",
       "    </tr>\n",
       "    <tr>\n",
       "      <th>2</th>\n",
       "      <td>TEST_00002</td>\n",
       "    </tr>\n",
       "    <tr>\n",
       "      <th>3</th>\n",
       "      <td>TEST_00003</td>\n",
       "    </tr>\n",
       "    <tr>\n",
       "      <th>4</th>\n",
       "      <td>TEST_00004</td>\n",
       "    </tr>\n",
       "  </tbody>\n",
       "</table>\n",
       "</div>"
      ],
      "text/plain": [
       "           id\n",
       "0  TEST_00000\n",
       "1  TEST_00001\n",
       "2  TEST_00002\n",
       "3  TEST_00003\n",
       "4  TEST_00004"
      ]
     },
     "execution_count": 19,
     "metadata": {},
     "output_type": "execute_result"
    }
   ],
   "source": [
    "submission_df = pd.read_csv(\"./sample_submission.csv\")\n",
    "submission_df = submission_df.drop('artist', axis=1)\n",
    "submission_df.head()"
   ]
  },
  {
   "cell_type": "code",
   "execution_count": null,
   "id": "realistic-diving",
   "metadata": {
    "id": "realistic-diving",
    "outputId": "34b75591-6e63-4579-9b3f-92700deb8991"
   },
   "outputs": [
    {
     "data": {
      "text/html": [
       "<div>\n",
       "<style scoped>\n",
       "    .dataframe tbody tr th:only-of-type {\n",
       "        vertical-align: middle;\n",
       "    }\n",
       "\n",
       "    .dataframe tbody tr th {\n",
       "        vertical-align: top;\n",
       "    }\n",
       "\n",
       "    .dataframe thead th {\n",
       "        text-align: right;\n",
       "    }\n",
       "</style>\n",
       "<table border=\"1\" class=\"dataframe\">\n",
       "  <thead>\n",
       "    <tr style=\"text-align: right;\">\n",
       "      <th></th>\n",
       "      <th>id</th>\n",
       "      <th>artist</th>\n",
       "    </tr>\n",
       "  </thead>\n",
       "  <tbody>\n",
       "    <tr>\n",
       "      <th>0</th>\n",
       "      <td>TEST_00000</td>\n",
       "      <td>Diego Velazquez</td>\n",
       "    </tr>\n",
       "    <tr>\n",
       "      <th>1</th>\n",
       "      <td>TEST_00001</td>\n",
       "      <td>Edgar Degas</td>\n",
       "    </tr>\n",
       "    <tr>\n",
       "      <th>2</th>\n",
       "      <td>TEST_00002</td>\n",
       "      <td>Edgar Degas</td>\n",
       "    </tr>\n",
       "    <tr>\n",
       "      <th>3</th>\n",
       "      <td>TEST_00003</td>\n",
       "      <td>Albrecht Du rer</td>\n",
       "    </tr>\n",
       "    <tr>\n",
       "      <th>4</th>\n",
       "      <td>TEST_00004</td>\n",
       "      <td>Pablo Picasso</td>\n",
       "    </tr>\n",
       "  </tbody>\n",
       "</table>\n",
       "</div>"
      ],
      "text/plain": [
       "           id           artist\n",
       "0  TEST_00000  Diego Velazquez\n",
       "1  TEST_00001      Edgar Degas\n",
       "2  TEST_00002      Edgar Degas\n",
       "3  TEST_00003  Albrecht Du rer\n",
       "4  TEST_00004    Pablo Picasso"
      ]
     },
     "execution_count": 20,
     "metadata": {},
     "output_type": "execute_result"
    }
   ],
   "source": [
    "submission_df['artist'] = artist_name\n",
    "submission_df.head()"
   ]
  },
  {
   "cell_type": "code",
   "execution_count": null,
   "id": "monthly-frederick",
   "metadata": {
    "id": "monthly-frederick"
   },
   "outputs": [],
   "source": [
    "submission_df.to_csv(\"vgg19_submission.csv\", index=False)"
   ]
  },
  {
   "cell_type": "code",
   "execution_count": null,
   "id": "optical-parish",
   "metadata": {
    "id": "optical-parish"
   },
   "outputs": [],
   "source": []
  }
 ],
 "metadata": {
  "colab": {
   "provenance": []
  },
  "kernelspec": {
   "display_name": "Python 3 (ipykernel)",
   "language": "python",
   "name": "python3"
  },
  "language_info": {
   "codemirror_mode": {
    "name": "ipython",
    "version": 3
   },
   "file_extension": ".py",
   "mimetype": "text/x-python",
   "name": "python",
   "nbconvert_exporter": "python",
   "pygments_lexer": "ipython3",
   "version": "3.10.9"
  }
 },
 "nbformat": 4,
 "nbformat_minor": 5
}
